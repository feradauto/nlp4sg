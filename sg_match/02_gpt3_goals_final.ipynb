{
 "cells": [
  {
   "cell_type": "code",
   "execution_count": 1,
   "id": "e5721dea",
   "metadata": {},
   "outputs": [],
   "source": [
    "import os\n",
    "import sys\n",
    "import openai\n",
    "import pandas as pd\n",
    "import numpy as np\n",
    "import argparse\n",
    "from transformers import BloomTokenizerFast, BloomModel,BloomForCausalLM\n",
    "import torch\n",
    "from sklearn.metrics import f1_score\n",
    "from sklearn.metrics import classification_report"
   ]
  },
  {
   "cell_type": "code",
   "execution_count": 2,
   "id": "247593b7",
   "metadata": {},
   "outputs": [],
   "source": [
    "data_path=\"../data/\"\n",
    "outputs_path=\"../outputs/\"\n",
    "test_set=pd.read_csv(outputs_path+\"general/test_set_final.csv\")\n",
    "train_set=pd.read_csv(outputs_path+\"general/train_set_final.csv\")\n",
    "dev_set=pd.read_csv(outputs_path+\"general/dev_set_final.csv\")\n",
    "low_ocurrence=pd.read_csv(data_path+\"test_data/low_occurrence.csv\")"
   ]
  },
  {
   "cell_type": "code",
   "execution_count": 3,
   "id": "6068040a",
   "metadata": {},
   "outputs": [],
   "source": [
    "low_ocurrence=low_ocurrence.rename(columns={'Most Related SG goal':'goal1_raw',\n",
    "       '(if exists) 2nd Related SG Goal':'goal2_raw', '(if exists) 3rd Related SG Goal':'goal3_raw'})\n",
    "low_ocurrence=low_ocurrence.rename(columns={\"Zhijing's annotation of SG_or_not\":\"label\"})\n",
    "low_ocurrence[\"label\"]=low_ocurrence[\"label\"].fillna(0)\n",
    "low_ocurrence.abstract_clean=low_ocurrence.abstract_clean.fillna('')\n",
    "low_ocurrence=low_ocurrence.assign(text=low_ocurrence.title_clean+\". \"+low_ocurrence.abstract_clean)\n",
    "low_ocurrence=low_ocurrence.iloc[:97]"
   ]
  },
  {
   "cell_type": "code",
   "execution_count": 4,
   "id": "c0ab6cc0",
   "metadata": {},
   "outputs": [],
   "source": [
    "df_all_goals=pd.concat([dev_set,train_set,test_set,low_ocurrence])\n",
    "df_all_goals.goal1_raw=df_all_goals.goal1_raw.fillna('')\n",
    "df_all_goals.goal2_raw=df_all_goals.goal2_raw.fillna('')\n",
    "df_all_goals.goal3_raw=df_all_goals.goal3_raw.fillna('')\n",
    "df_all_goals=df_all_goals.assign(goal1=np.where(df_all_goals['goal1_raw'].str.lower().str.contains(\"education\"),'Quality Education',\n",
    "                    np.where(df_all_goals['goal1_raw'].str.lower().str.contains(\"poverty\"),'No Poverty',\n",
    "                    np.where(df_all_goals['goal1_raw'].str.lower().str.contains(\"hunger\"),'Zero Hunger',\n",
    "                    np.where(df_all_goals['goal1_raw'].str.lower().str.contains(\"clean_water\"),'Clean Water and Sanitation',\n",
    "                    np.where(df_all_goals['goal1_raw'].str.lower().str.contains(\"clean_energy\"),'Affordable and Clean Energy',\n",
    "                    np.where(df_all_goals['goal1_raw'].str.lower().str.contains(\"life_land\"),'Life on Land',\n",
    "                    np.where(df_all_goals['goal1_raw'].str.lower().str.contains(\"marine_life\"),'Life Below Water',\n",
    "                    np.where(df_all_goals['goal1_raw'].str.lower().str.contains(\"health\"),'Good Health and Well-Being',\n",
    "                    np.where(df_all_goals['goal1_raw'].str.lower().str.contains(\"climate\"),'Climate Action',\n",
    "                    np.where(df_all_goals['goal1_raw'].str.lower().str.contains(\"peace|privacy|disinformation_and_fake_news|deception|hate\"),'Peace, Justice and Strong Institutions',\n",
    "                    np.where(df_all_goals['goal1_raw'].str.lower().str.contains(\"social biases|race & identity\"),'Reduced Inequalities',\n",
    "                    np.where(df_all_goals['goal1_raw'].str.lower().str.contains(\"industry|innovation|research\"),'Industry, Innovation and Infrastructure',\n",
    "                    np.where(df_all_goals['goal1_raw'].str.lower().str.contains(\"sustainable cities|sustainable_cities\"),'Sustainable Cities and Communities',\n",
    "                    np.where(df_all_goals['goal1_raw'].str.lower().str.contains(\"gender\"),'Gender Equality',\n",
    "                    np.where(df_all_goals['goal1_raw'].str.lower().str.contains(\"decent work|decent_work_and_economy\"),'Decent Work and Economic Growth',\n",
    "                    np.where(df_all_goals['goal1_raw'].str.lower().str.contains(\"partnership\"),'Partnership for the goals',\n",
    "                    np.where(df_all_goals['goal1_raw'].str.lower().str.contains(\"responsible_consumption_and_production\"),'Responsible Consumption and Production',\n",
    "                    np.where(df_all_goals['goal1_raw'].str.lower().str.contains(\"reduced|social_equality\"),'Reduced Inequalities',''\n",
    "                          )))))))))))))))))))\n",
    "\n",
    "df_all_goals=df_all_goals.assign(goal2=np.where(df_all_goals['goal2_raw'].str.lower().str.contains(\"education\"),'Quality Education',\n",
    "                    np.where(df_all_goals['goal2_raw'].str.lower().str.contains(\"poverty\"),'No Poverty',\n",
    "                    np.where(df_all_goals['goal2_raw'].str.lower().str.contains(\"hunger\"),'Zero Hunger',\n",
    "                    np.where(df_all_goals['goal2_raw'].str.lower().str.contains(\"clean_water\"),'Clean Water and Sanitation',\n",
    "                    np.where(df_all_goals['goal2_raw'].str.lower().str.contains(\"clean_energy\"),'Affordable and Clean Energy',\n",
    "                    np.where(df_all_goals['goal2_raw'].str.lower().str.contains(\"life_land\"),'Life on Land',\n",
    "                    np.where(df_all_goals['goal2_raw'].str.lower().str.contains(\"marine_life\"),'Life Below Water',         \n",
    "                    np.where(df_all_goals['goal2_raw'].str.lower().str.contains(\"health\"),'Good Health and Well-Being',\n",
    "                    np.where(df_all_goals['goal2_raw'].str.lower().str.contains(\"climate\"),'Climate Action',\n",
    "                    np.where(df_all_goals['goal2_raw'].str.lower().str.contains(\"peace|privacy|disinformation_and_fake_news|deception|hate\"),'Peace, Justice and Strong Institutions',\n",
    "                    np.where(df_all_goals['goal2_raw'].str.lower().str.contains(\"social biases|race & identity\"),'Reduced Inequalities',\n",
    "                    np.where(df_all_goals['goal2_raw'].str.lower().str.contains(\"industry|innovation|research\"),'Industry, Innovation and Infrastructure',\n",
    "                    np.where(df_all_goals['goal2_raw'].str.lower().str.contains(\"sustainable cities|sustainable_cities\"),'Sustainable Cities and Communities',\n",
    "                    np.where(df_all_goals['goal2_raw'].str.lower().str.contains(\"gender\"),'Gender Equality',\n",
    "                    np.where(df_all_goals['goal2_raw'].str.lower().str.contains(\"decent work|decent_work_and_economy\"),'Decent Work and Economic Growth',\n",
    "                    np.where(df_all_goals['goal2_raw'].str.lower().str.contains(\"partnership\"),'Partnership for the goals',\n",
    "                    np.where(df_all_goals['goal2_raw'].str.lower().str.contains(\"responsible_consumption_and_production\"),'Responsible Consumption and Production',\n",
    "                    np.where(df_all_goals['goal2_raw'].str.lower().str.contains(\"reduced|social_equality\"),'Reduced Inequalities',''\n",
    "                          )))))))))))))))))))\n",
    "\n",
    "df_all_goals=df_all_goals.assign(goal3=np.where(df_all_goals['goal3_raw'].str.lower().str.contains(\"education\"),'Quality Education',\n",
    "                    np.where(df_all_goals['goal3_raw'].str.lower().str.contains(\"poverty\"),'No Poverty',\n",
    "                    np.where(df_all_goals['goal3_raw'].str.lower().str.contains(\"hunger\"),'Zero Hunger',\n",
    "                    np.where(df_all_goals['goal3_raw'].str.lower().str.contains(\"clean_water\"),'Clean Water and Sanitation',\n",
    "                    np.where(df_all_goals['goal3_raw'].str.lower().str.contains(\"clean_energy\"),'Affordable and Clean Energy',\n",
    "                    np.where(df_all_goals['goal3_raw'].str.lower().str.contains(\"life_land\"),'Life on Land',\n",
    "                    np.where(df_all_goals['goal3_raw'].str.lower().str.contains(\"marine_life\"),'Life Below Water',\n",
    "                    np.where(df_all_goals['goal3_raw'].str.lower().str.contains(\"health\"),'Good Health and Well-Being',\n",
    "                    np.where(df_all_goals['goal3_raw'].str.lower().str.contains(\"climate\"),'Climate Action',\n",
    "                    np.where(df_all_goals['goal3_raw'].str.lower().str.contains(\"peace|privacy|disinformation_and_fake_news|deception|hate\"),'Peace, Justice and Strong Institutions',\n",
    "                    np.where(df_all_goals['goal3_raw'].str.lower().str.contains(\"social biases|race & identity\"),'Reduced Inequalities',\n",
    "                    np.where(df_all_goals['goal3_raw'].str.lower().str.contains(\"industry|innovation|research\"),'Industry, Innovation and Infrastructure',\n",
    "                    np.where(df_all_goals['goal3_raw'].str.lower().str.contains(\"sustainable cities|sustainable_cities\"),'Sustainable Cities and Communities',\n",
    "                    np.where(df_all_goals['goal3_raw'].str.lower().str.contains(\"gender\"),'Gender Equality',\n",
    "                    np.where(df_all_goals['goal3_raw'].str.lower().str.contains(\"decent work|decent_work_and_economy\"),'Decent Work and Economic Growth',\n",
    "                    np.where(df_all_goals['goal3_raw'].str.lower().str.contains(\"partnership\"),'Partnership for the goals',\n",
    "                    np.where(df_all_goals['goal3_raw'].str.lower().str.contains(\"responsible_consumption_and_production\"),'Responsible Consumption and Production',\n",
    "                    np.where(df_all_goals['goal3_raw'].str.lower().str.contains(\"reduced|social_equality\"),'Reduced Inequalities',''\n",
    "                          )))))))))))))))))))\n",
    "\n",
    "df_all_goals_sg=df_all_goals.loc[df_all_goals.label==1]"
   ]
  },
  {
   "cell_type": "code",
   "execution_count": 5,
   "id": "ddecdc74",
   "metadata": {},
   "outputs": [
    {
     "data": {
      "text/plain": [
       "(733, 21)"
      ]
     },
     "execution_count": 5,
     "metadata": {},
     "output_type": "execute_result"
    }
   ],
   "source": [
    "df_all_goals_sg.shape"
   ]
  },
  {
   "cell_type": "code",
   "execution_count": 6,
   "id": "32c766f4",
   "metadata": {},
   "outputs": [
    {
     "data": {
      "text/plain": [
       "yamakoshi-etal-2021-evaluation      1\n",
       "liang-etal-2012-expert              1\n",
       "wang-etal-2020-rationalizing        1\n",
       "buyukoz-etal-2020-analyzing         1\n",
       "cieri-dipersio-2014-intellectual    1\n",
       "                                   ..\n",
       "lewin-2007-basenps                  1\n",
       "yates-etal-2016-effects             1\n",
       "segond-etal-2005-situational        1\n",
       "ruan-etal-2016-finding              1\n",
       "wang-etal-2020-double               1\n",
       "Name: ID, Length: 733, dtype: int64"
      ]
     },
     "execution_count": 6,
     "metadata": {},
     "output_type": "execute_result"
    }
   ],
   "source": [
    "df_all_goals_sg.ID.value_counts()"
   ]
  },
  {
   "cell_type": "code",
   "execution_count": 7,
   "id": "780265ec",
   "metadata": {
    "scrolled": true
   },
   "outputs": [],
   "source": [
    "df=df_all_goals_sg.reset_index(drop=True).copy()"
   ]
  },
  {
   "cell_type": "code",
   "execution_count": 8,
   "id": "cfd8eb90",
   "metadata": {},
   "outputs": [],
   "source": [
    "openai.api_key = os.getenv(\"OPENAI_API_KEY\")"
   ]
  },
  {
   "cell_type": "code",
   "execution_count": 9,
   "id": "f0993fb4",
   "metadata": {},
   "outputs": [],
   "source": [
    "preprompt=\"There is an NLP paper with the title and abstract:\\n\"\n",
    "#question=\"Which of the UN Sustainable Development Goals does this paper directly contribute to? Provide the goal numbers and names.\"\n",
    "#question=\"Which of the UN Sustainable Development Goals does this paper directly contribute to? Provide the goal number and name.\"\n",
    "#question=\"Which of the UN Sustainable Development Goals does this paper directly contribute to? Provide the goal number(s) and name(s).\"\n",
    "#question=\"Which of the UN Sustainable Development Goals does this paper contribute to? Provide the goal number(s) and name(s).\"\n",
    "#question=\"Which of the UN Sustainable Development Goals does this paper contribute to? Provide the goal numbers and names.\"\n",
    "#question=\"Which of the UN Sustainable Development Goals does this paper contribute to? Provide the goal names, numbers and an explanation.\"\n",
    "#question=\"Which of the UN goals does this paper directly contribute to? Provide the goal number and name.\"\n",
    "question=\"Which of the UN goals does this paper directly contribute to? Provide the goal numbers and names.\"\n",
    "df=df.assign(statement=preprompt+df.text+\"\\n\"+question)"
   ]
  },
  {
   "cell_type": "code",
   "execution_count": null,
   "id": "434a1193",
   "metadata": {},
   "outputs": [],
   "source": [
    "for i,d in df.iterrows():\n",
    "    input_prompt=d['statement']\n",
    "    print(input_prompt)\n",
    "    print(\"original label: \",d['goal1'],\"|\",d['goal2'])\n",
    "    print()"
   ]
  },
  {
   "cell_type": "code",
   "execution_count": null,
   "id": "014ee2b2",
   "metadata": {},
   "outputs": [],
   "source": [
    "for i,d in df.iterrows():\n",
    "    input_prompt=d['statement']\n",
    "    completion = openai.Completion.create(engine=\"text-davinci-002\", prompt=input_prompt,temperature=0,max_tokens=100,logprobs=1)\n",
    "    dict_norm={}\n",
    "    dict_uniques={}\n",
    "\n",
    "    df.loc[i,'full_prompt']=input_prompt\n",
    "    df.loc[i,'GPT3_response']=completion.choices[0].text\n",
    "    print(input_prompt)\n",
    "    print(completion.choices[0].text)\n",
    "    print(\"original label: \",d['goal1'],\"|\",d['goal2'],\"|\",d['goal3'])\n",
    "    print(\"#########################################\")\n",
    "    print()"
   ]
  },
  {
   "cell_type": "code",
   "execution_count": 12,
   "id": "1653bfee",
   "metadata": {
    "scrolled": true
   },
   "outputs": [
    {
     "data": {
      "text/plain": [
       "(733, 24)"
      ]
     },
     "execution_count": 12,
     "metadata": {},
     "output_type": "execute_result"
    }
   ],
   "source": [
    "df.shape"
   ]
  },
  {
   "cell_type": "code",
   "execution_count": 13,
   "id": "cc131ae5",
   "metadata": {},
   "outputs": [
    {
     "data": {
      "text/plain": [
       "Index(['ID', 'url', 'label', 'task_annotation', 'method_annotation',\n",
       "       'org_annotation', 'goal1_raw', 'goal2_raw', 'goal3_raw',\n",
       "       'title_abstract_clean', 'title', 'abstract', 'title_clean',\n",
       "       'abstract_clean', 'acknowledgments_clean', 'text', 'year', 'Goal',\n",
       "       'goal1', 'goal2', 'goal3', 'statement', 'full_prompt', 'GPT3_response'],\n",
       "      dtype='object')"
      ]
     },
     "execution_count": 13,
     "metadata": {},
     "output_type": "execute_result"
    }
   ],
   "source": [
    "df.columns"
   ]
  },
  {
   "cell_type": "code",
   "execution_count": 14,
   "id": "18985c22",
   "metadata": {},
   "outputs": [],
   "source": [
    "df.to_csv(outputs_path+\"sg_goals/gpt3_un_plural_ff.csv\",index=False)"
   ]
  },
  {
   "cell_type": "code",
   "execution_count": null,
   "id": "4ed1fd0a",
   "metadata": {},
   "outputs": [],
   "source": []
  }
 ],
 "metadata": {
  "kernelspec": {
   "display_name": "Python 3 (ipykernel)",
   "language": "python",
   "name": "python3"
  },
  "language_info": {
   "codemirror_mode": {
    "name": "ipython",
    "version": 3
   },
   "file_extension": ".py",
   "mimetype": "text/x-python",
   "name": "python",
   "nbconvert_exporter": "python",
   "pygments_lexer": "ipython3",
   "version": "3.7.4"
  }
 },
 "nbformat": 4,
 "nbformat_minor": 5
}
