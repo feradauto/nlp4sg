{
 "cells": [
  {
   "cell_type": "code",
   "execution_count": 1,
   "id": "b3fcd7ab",
   "metadata": {},
   "outputs": [],
   "source": [
    "import os\n",
    "import sys\n",
    "import openai\n",
    "import pandas as pd\n",
    "import numpy as np\n",
    "import argparse\n",
    "import torch\n",
    "import operator\n",
    "from sklearn.metrics import classification_report\n",
    "openai.api_key = os.getenv(\"OPENAI_API_KEY\")"
   ]
  },
  {
   "cell_type": "code",
   "execution_count": 2,
   "id": "1e68149d",
   "metadata": {},
   "outputs": [],
   "source": [
    "data_path=\"../../data/\"\n",
    "outputs_path=\"../../outputs/\"\n",
    "train_set=pd.read_csv(outputs_path+\"general/train_set_final.csv\")\n",
    "df_test_final=pd.read_csv(outputs_path+\"general/test_set_final.csv\")\n",
    "df_test_final=df_test_final.iloc[:2000].reset_index(drop=True)"
   ]
  },
  {
   "cell_type": "code",
   "execution_count": 4,
   "id": "57571454",
   "metadata": {},
   "outputs": [],
   "source": [
    "df_test_final=df_test_final.reset_index(drop=True)\n",
    "\n",
    "df=df_test_final.reset_index(drop=True).copy()"
   ]
  },
  {
   "cell_type": "code",
   "execution_count": 7,
   "id": "ef05a670",
   "metadata": {},
   "outputs": [
    {
     "data": {
      "text/plain": [
       "(2500, 16)"
      ]
     },
     "execution_count": 7,
     "metadata": {},
     "output_type": "execute_result"
    }
   ],
   "source": [
    "train_set.shape"
   ]
  },
  {
   "cell_type": "markdown",
   "id": "d5fea544",
   "metadata": {},
   "source": [
    "## few shot"
   ]
  },
  {
   "cell_type": "code",
   "execution_count": 8,
   "id": "7eb73533",
   "metadata": {},
   "outputs": [],
   "source": [
    "## french sample\n",
    "train_set=train_set.loc[train_set.ID!='grabski-etal-2012-controle'].reset_index(drop=True)"
   ]
  },
  {
   "cell_type": "code",
   "execution_count": 9,
   "id": "aad3c0e0",
   "metadata": {},
   "outputs": [],
   "source": [
    "shots=2"
   ]
  },
  {
   "cell_type": "code",
   "execution_count": 10,
   "id": "41deda85",
   "metadata": {},
   "outputs": [],
   "source": [
    "## balance\n",
    "train_set_pos=train_set.loc[train_set.label==1].reset_index(drop=True)\n",
    "train_set_neg=train_set.loc[train_set.label==0].reset_index(drop=True)\n",
    "\n",
    "#train_set_pos_sample=train_set_pos.sample(n=int(shots/2),random_state=42).copy()\n",
    "#train_set_neg_sample=train_set_neg.sample(n=int(shots/2),random_state=42).copy()\n",
    "train_set_pos=train_set_pos.loc[:int(shots/2)-1,]\n",
    "train_set_neg=train_set_neg.loc[:int(shots/2)-1,]\n",
    "\n",
    "\n",
    "few_shots=pd.concat([train_set_pos,train_set_neg]).reset_index(drop=True)\n",
    "#few_shots=pd.concat([train_set_pos,train_set_neg]).sample(frac=1,random_state=42).reset_index(drop=True)\n",
    "#few_shots=pd.concat([train_set_pos,train_set_neg]).sort_index(kind='merge')"
   ]
  },
  {
   "cell_type": "code",
   "execution_count": 11,
   "id": "f96a3382",
   "metadata": {
    "scrolled": true
   },
   "outputs": [
    {
     "name": "stdout",
     "output_type": "stream",
     "text": [
      "Paper: Aspect-based Document Similarity for Research Papers \n",
      "Answer: Yes\n",
      "Paper: Neural Stylistic Response Generation with Disentangled Latent Variables \n",
      "Answer: No\n",
      "\n"
     ]
    }
   ],
   "source": [
    "## build examples\n",
    "examples=\"\"\n",
    "for i,d in few_shots.iterrows():\n",
    "    outcome=\"\"\n",
    "    if d['label']==1:\n",
    "        outcome=\"Yes\"\n",
    "    else:\n",
    "        outcome=\"No\"\n",
    "    examples+=\"Paper: \"+d['title_clean']+\" \\nAnswer: \"+outcome+\"\\n\"\n",
    "print(examples)"
   ]
  },
  {
   "cell_type": "code",
   "execution_count": 12,
   "id": "3fb244b4",
   "metadata": {},
   "outputs": [],
   "source": [
    "preprompt=\"Are these papers contributing to the UN Sustainable Development Goals or helping society?\\n\"\n",
    "#df=df.assign(statement=preprompt+examples+df.text+\" =>\")\n",
    "df=df.assign(statement=preprompt+examples+\"Paper: \"+df.title_clean+\" \\nAnswer: \")"
   ]
  },
  {
   "cell_type": "code",
   "execution_count": null,
   "id": "d3d15277",
   "metadata": {},
   "outputs": [],
   "source": [
    "for i,d in df.iterrows():\n",
    "    input_prompt=d['statement']\n",
    "    print(input_prompt)\n",
    "    print(\"original label: \",d['label'],d['goal1_raw'],d['goal2_raw'],d['goal3_raw'])\n",
    "    print()"
   ]
  },
  {
   "cell_type": "code",
   "execution_count": null,
   "id": "f305b459",
   "metadata": {},
   "outputs": [],
   "source": [
    "for i,d in df.iterrows():\n",
    "    input_prompt=d['statement']\n",
    "    completion = openai.Completion.create(engine=\"text-davinci-002\", prompt=input_prompt,temperature=0,max_tokens=50,logprobs=10)\n",
    "    dict_norm={}\n",
    "    dict_uniques={}\n",
    "    ## new part, get the first element where there the most probable is not a break of line\n",
    "    for choices in completion['choices'][0][\"logprobs\"]['top_logprobs']:\n",
    "        choice=dict(choices)\n",
    "        max_val=max(choice.items(), key=operator.itemgetter(1))[0]\n",
    "        if \"\\n\" not in max_val:\n",
    "            elements=choices\n",
    "            break\n",
    "    for e in elements:\n",
    "        e_modified=e.lower().lstrip(' ')\n",
    "        if e_modified in dict_uniques:\n",
    "            dict_uniques[e_modified]=dict_uniques[e_modified]+np.exp(elements[e])\n",
    "        else:\n",
    "            dict_uniques[e_modified]=np.exp(elements[e])\n",
    "\n",
    "    if ('no' in dict_uniques.keys()) and ('yes' in dict_uniques.keys()):\n",
    "        dict_norm={'no':dict_uniques['no'],'yes':dict_uniques['yes']}\n",
    "    elif ('no' in dict_uniques.keys()):\n",
    "        dict_norm={'no':dict_uniques['no'],'yes':0}\n",
    "    elif ('yes' in dict_uniques.keys()):\n",
    "        dict_norm={'no':0,'yes':dict_uniques['yes']}\n",
    "\n",
    "    factor=1.0/sum(dict_norm.values())\n",
    "    for k in dict_norm:\n",
    "        dict_norm[k] = dict_norm[k]*factor    \n",
    "\n",
    "    df.loc[i,'full_prompt']=input_prompt\n",
    "    df.loc[i,'GPT3_response']=completion.choices[0].text\n",
    "    df.loc[i,'proba_1']=dict_norm['yes']\n",
    "    df.loc[i,'proba_0']=dict_norm['no']\n",
    "    print(input_prompt)\n",
    "    #print(d['text'])\n",
    "    print(completion.choices[0].text)\n",
    "    print(\"proba yes: \",dict_norm['yes'])\n",
    "    print(\"original label: \",d['label'],d['goal1_raw'],d['goal2_raw'],d['goal3_raw'])\n",
    "    print(\"#########################################\")\n",
    "    print()"
   ]
  },
  {
   "cell_type": "code",
   "execution_count": 16,
   "id": "cfe5bd56",
   "metadata": {},
   "outputs": [],
   "source": [
    "df=df.assign(prediction_proba=np.where(df.proba_1>0.5,1,0))"
   ]
  },
  {
   "cell_type": "code",
   "execution_count": 23,
   "id": "81c734c9",
   "metadata": {},
   "outputs": [],
   "source": [
    "df=df.assign(textual_pred=np.where(((df.GPT3_response.str.lower().str.contains(\"yes\")) | \n",
    "                                     (df.GPT3_response.str.lower().str.contains(\"is contrib\"))\n",
    "                                     ),1,0))"
   ]
  },
  {
   "cell_type": "code",
   "execution_count": 17,
   "id": "98c94789",
   "metadata": {},
   "outputs": [
    {
     "data": {
      "text/plain": [
       "0    1383\n",
       "1     617\n",
       "Name: prediction_proba, dtype: int64"
      ]
     },
     "execution_count": 17,
     "metadata": {},
     "output_type": "execute_result"
    }
   ],
   "source": [
    "df.prediction_proba.value_counts()"
   ]
  },
  {
   "cell_type": "markdown",
   "id": "db8a344a",
   "metadata": {},
   "source": [
    "## negative then positive"
   ]
  },
  {
   "cell_type": "code",
   "execution_count": 18,
   "id": "688ad9a5",
   "metadata": {},
   "outputs": [
    {
     "name": "stdout",
     "output_type": "stream",
     "text": [
      "              precision    recall  f1-score   support\n",
      "\n",
      "           0     0.9262    0.7379    0.8214      1736\n",
      "           1     0.2626    0.6136    0.3678       264\n",
      "\n",
      "    accuracy                         0.7215      2000\n",
      "   macro avg     0.5944    0.6758    0.5946      2000\n",
      "weighted avg     0.8386    0.7215    0.7615      2000\n",
      "\n"
     ]
    }
   ],
   "source": [
    "## 2 shot paper, answer\n",
    "print(classification_report(df.label,df.prediction_proba,digits=4))"
   ]
  },
  {
   "cell_type": "code",
   "execution_count": 18,
   "id": "b262fed0",
   "metadata": {},
   "outputs": [
    {
     "name": "stdout",
     "output_type": "stream",
     "text": [
      "              precision    recall  f1-score   support\n",
      "\n",
      "           0     0.9267    0.8082    0.8634      1736\n",
      "           1     0.3148    0.5795    0.4080       264\n",
      "\n",
      "    accuracy                         0.7780      2000\n",
      "   macro avg     0.6207    0.6939    0.6357      2000\n",
      "weighted avg     0.8459    0.7780    0.8033      2000\n",
      "\n"
     ]
    }
   ],
   "source": [
    "## 4 shot paper, answer\n",
    "print(classification_report(df.label,df.prediction_proba,digits=4))"
   ]
  },
  {
   "cell_type": "code",
   "execution_count": 18,
   "id": "2703d05c",
   "metadata": {},
   "outputs": [
    {
     "name": "stdout",
     "output_type": "stream",
     "text": [
      "              precision    recall  f1-score   support\n",
      "\n",
      "           0     0.8913    0.9591    0.9240      1736\n",
      "           1     0.4621    0.2311    0.3081       264\n",
      "\n",
      "    accuracy                         0.8630      2000\n",
      "   macro avg     0.6767    0.5951    0.6160      2000\n",
      "weighted avg     0.8347    0.8630    0.8427      2000\n",
      "\n"
     ]
    }
   ],
   "source": [
    "## 8 shot paper, answer\n",
    "print(classification_report(df.label,df.prediction_proba,digits=4))"
   ]
  },
  {
   "cell_type": "code",
   "execution_count": 18,
   "id": "9704f31e",
   "metadata": {},
   "outputs": [
    {
     "name": "stdout",
     "output_type": "stream",
     "text": [
      "              precision    recall  f1-score   support\n",
      "\n",
      "           0     0.9048    0.9470    0.9254      1736\n",
      "           1     0.4973    0.3447    0.4072       264\n",
      "\n",
      "    accuracy                         0.8675      2000\n",
      "   macro avg     0.7010    0.6459    0.6663      2000\n",
      "weighted avg     0.8510    0.8675    0.8570      2000\n",
      "\n"
     ]
    }
   ],
   "source": [
    "## 16 shot paper, answer\n",
    "print(classification_report(df.label,df.prediction_proba,digits=4))"
   ]
  },
  {
   "cell_type": "code",
   "execution_count": 20,
   "id": "60b3e0e5",
   "metadata": {},
   "outputs": [
    {
     "name": "stdout",
     "output_type": "stream",
     "text": [
      "              precision    recall  f1-score   support\n",
      "\n",
      "           0     0.9085    0.9038    0.9062      1736\n",
      "           1     0.3883    0.4015    0.3948       264\n",
      "\n",
      "    accuracy                         0.8375      2000\n",
      "   macro avg     0.6484    0.6527    0.6505      2000\n",
      "weighted avg     0.8398    0.8375    0.8387      2000\n",
      "\n"
     ]
    }
   ],
   "source": [
    "## 32 shot paper, answer\n",
    "print(classification_report(df.label,df.prediction_proba,digits=4))"
   ]
  },
  {
   "cell_type": "code",
   "execution_count": 27,
   "id": "f804df27",
   "metadata": {},
   "outputs": [],
   "source": [
    "df.to_csv(outputs_path+\"sg_classifier/gpt3_32_shot_sg_prompt.csv\",index=False)"
   ]
  },
  {
   "cell_type": "code",
   "execution_count": null,
   "id": "e66ee5b6",
   "metadata": {},
   "outputs": [],
   "source": []
  }
 ],
 "metadata": {
  "kernelspec": {
   "display_name": "Python 3 (ipykernel)",
   "language": "python",
   "name": "python3"
  },
  "language_info": {
   "codemirror_mode": {
    "name": "ipython",
    "version": 3
   },
   "file_extension": ".py",
   "mimetype": "text/x-python",
   "name": "python",
   "nbconvert_exporter": "python",
   "pygments_lexer": "ipython3",
   "version": "3.7.4"
  }
 },
 "nbformat": 4,
 "nbformat_minor": 5
}
