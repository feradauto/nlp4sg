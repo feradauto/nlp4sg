{
 "cells": [
  {
   "cell_type": "code",
   "execution_count": 1,
   "id": "89a0b072",
   "metadata": {},
   "outputs": [],
   "source": [
    "from torch.utils.data import TensorDataset, DataLoader, RandomSampler, SequentialSampler, random_split\n",
    "import pandas as pd\n",
    "import numpy as np\n",
    "from datasets import load_metric\n",
    "from datasets import Dataset\n",
    "import torch\n",
    "import transformers\n",
    "from transformers import TrainingArguments, Trainer\n",
    "from sklearn.metrics import accuracy_score, recall_score, precision_score, f1_score\n",
    "from transformers import AutoModelForSequenceClassification,AutoTokenizer\n",
    "import os\n",
    "os.environ[\"WANDB_DISABLED\"] = \"true\""
   ]
  },
  {
   "cell_type": "code",
   "execution_count": 2,
   "id": "a8b166e4",
   "metadata": {},
   "outputs": [],
   "source": [
    "def compute_metrics(eval_pred):\n",
    "    logits, labels = eval_pred\n",
    "    predictions = np.argmax(logits, axis=-1)\n",
    "    \n",
    "    accuracy = accuracy_score(y_true=labels, y_pred=predictions)\n",
    "    recall = recall_score(y_true=labels, y_pred=predictions)\n",
    "    precision = precision_score(y_true=labels, y_pred=predictions)\n",
    "    recall_w = recall_score(y_true=labels, y_pred=predictions,average='weighted')\n",
    "    precision_w = precision_score(y_true=labels, y_pred=predictions,average='weighted')\n",
    "    f1 = f1_score(y_true=labels, y_pred=predictions)\n",
    "    f1_pos = f1_score(y_true=labels, y_pred=predictions,average='binary',pos_label=1)\n",
    "    f1_micro = f1_score(y_true=labels, y_pred=predictions,average='micro')\n",
    "    f1_weighted = f1_score(y_true=labels, y_pred=predictions,average='weighted')\n",
    "    return {\"accuracy\": accuracy, \"precision\": precision, \"recall\": recall,\n",
    "             \"precision_w\": precision_w, \"recall_w\": recall_w,\n",
    "             \"f1\": f1,\"f1_pos\": f1_pos,\n",
    "            \"f1_micro\": f1_micro,\"f1_weighted\": f1_weighted} \n"
   ]
  },
  {
   "cell_type": "code",
   "execution_count": 3,
   "id": "106d5eff",
   "metadata": {},
   "outputs": [],
   "source": [
    "def freeze_weights(m):\n",
    "    for name, param in m.named_parameters():\n",
    "        param.requires_grad = False\n",
    "def model_init():\n",
    "    transformers.set_seed(42)\n",
    "    m=AutoModelForSequenceClassification.from_pretrained(\"allenai/scibert_scivocab_uncased\", num_labels=2)\n",
    "    m.bert.apply(freeze_weights)\n",
    "    for name, param in m.bert.pooler.named_parameters():\n",
    "        param.requires_grad = True\n",
    "    for name, param in m.bert.encoder.layer[-1].named_parameters():\n",
    "        param.requires_grad = True\n",
    "    return m\n"
   ]
  },
  {
   "cell_type": "code",
   "execution_count": 4,
   "id": "6b86c885",
   "metadata": {},
   "outputs": [],
   "source": [
    "def train(tokenizer,dataset):\n",
    "    def tokenize_function(examples):\n",
    "        return tokenizer(examples[\"text\"], padding=\"max_length\", truncation=True,max_length=512)\n",
    "    tokenized_datasets = dataset.map(tokenize_function, batched=True)\n",
    "    # Create a 85-15 train-validation split.\n",
    "    # Calculate the number of samples to include in each set.\n",
    "    train_size = int(0.85 * len(dataset))\n",
    "    val_size = len(dataset) - train_size\n",
    "    torch.manual_seed(42)\n",
    "    # Divide the dataset by randomly selecting samples.\n",
    "    train_dataset, val_dataset = random_split(tokenized_datasets, [train_size, val_size])\n",
    "\n",
    "\n",
    "    training_args = TrainingArguments(output_dir=\"./model_scibert\", evaluation_strategy=\"epoch\",\n",
    "                                 per_device_train_batch_size=32,per_device_eval_batch_size=32,\n",
    "                                 seed=42,num_train_epochs=25,auto_find_batch_size=True)\n",
    "    trainer = Trainer(\n",
    "        model_init=model_init,\n",
    "        args=training_args,\n",
    "        train_dataset=train_dataset,\n",
    "        eval_dataset=val_dataset,\n",
    "        compute_metrics=compute_metrics,\n",
    "    )\n",
    "    trainer.train()\n",
    "    return trainer"
   ]
  },
  {
   "cell_type": "code",
   "execution_count": null,
   "id": "2710d644",
   "metadata": {},
   "outputs": [],
   "source": [
    "def main():\n",
    "    data_path=\"../../data/\"\n",
    "    outputs_path=\"../../outputs/\"\n",
    "    tokenizer = AutoTokenizer.from_pretrained(\"allenai/scibert_scivocab_uncased\")\n",
    "\n",
    "    df=pd.read_csv(outputs_path+\"sg_classifier/train_set_labeled_bronze_title_15pct_f.csv\")\n",
    "    df['text']=df.title_abstract\n",
    "    df=df.loc[:,['ID','text','label']]\n",
    "    dataset = Dataset.from_pandas(df)\n",
    "    \n",
    "    trainer=train(tokenizer,dataset)\n",
    "    trainer.save_model(\"./model_scibert\")\n",
    "    \n",
    "if __name__ == '__main__':\n",
    "    main()"
   ]
  },
  {
   "cell_type": "code",
   "execution_count": null,
   "id": "67e8c3f5",
   "metadata": {},
   "outputs": [],
   "source": []
  }
 ],
 "metadata": {
  "kernelspec": {
   "display_name": "Python 3 (ipykernel)",
   "language": "python",
   "name": "python3"
  },
  "language_info": {
   "codemirror_mode": {
    "name": "ipython",
    "version": 3
   },
   "file_extension": ".py",
   "mimetype": "text/x-python",
   "name": "python",
   "nbconvert_exporter": "python",
   "pygments_lexer": "ipython3",
   "version": "3.7.4"
  }
 },
 "nbformat": 4,
 "nbformat_minor": 5
}
