{
 "cells": [
  {
   "cell_type": "markdown",
   "id": "e8c99491",
   "metadata": {},
   "source": [
    "## Evaluate data augmentation techniques on train set"
   ]
  },
  {
   "cell_type": "code",
   "execution_count": 1,
   "id": "4a6e2b74",
   "metadata": {},
   "outputs": [],
   "source": [
    "import pandas as pd\n",
    "import numpy as np\n",
    "from sklearn.metrics import classification_report\n",
    "import re\n",
    "PERC99=0.22449437871575342\n",
    "MEDIAN=0.076746"
   ]
  },
  {
   "cell_type": "code",
   "execution_count": 2,
   "id": "d6b39940",
   "metadata": {},
   "outputs": [],
   "source": [
    "def get_keyword_types(keywords):\n",
    "    ## keywords\n",
    "    keywords=keywords.loc[(~keywords.Keywords.isna())&(keywords['Concern w.r.t. precision'].isna()),['Keywords','python_checker (default = string_match, other_options=nltk.word_tokenize + match; lower_case+remove_non_alphabet+string_match']]\n",
    "    keywords.columns=['keywords','method']\n",
    "    keywords.keywords=keywords.keywords.str.lower()\n",
    "    keywords=keywords.assign(extraction_method=np.where(keywords.method.isna(),'contains',\n",
    "                                            np.where(keywords.method.str.lower().str.contains('exclude'),'start_special',\n",
    "                                            np.where(keywords.method.str.lower().str.contains('not'),'not_in',\n",
    "                                            np.where(keywords.method.str.lower().str.contains('starts'),'start','in')))))\n",
    "    keywords=keywords.assign(keywords=keywords.keywords.replace(\"-\",\" \",regex=True))\n",
    "    keywords=keywords.assign(keywords=keywords.keywords.apply(lambda x:re.sub('[^a-zA-Z0-9 ]+', '',x)))\n",
    "    key_start=keywords.loc[keywords.extraction_method=='start']\n",
    "    key_contains=keywords.loc[keywords.extraction_method=='contains']\n",
    "    key_in=keywords.loc[keywords.extraction_method=='in']\n",
    "    key_not_in=keywords.loc[keywords.extraction_method=='not_in']\n",
    "    key_special=keywords.loc[keywords.extraction_method=='start_special']\n",
    "    return (key_start,key_contains,key_in,key_not_in,key_special)\n"
   ]
  },
  {
   "cell_type": "code",
   "execution_count": 3,
   "id": "a5016cc2",
   "metadata": {},
   "outputs": [],
   "source": [
    "def keyword_search(df_merged,keywords):\n",
    "    key_start,key_contains,key_in,key_not_in,key_special=get_keyword_types(keywords)\n",
    "    ## title abstract\n",
    "    df_merged=df_merged.assign(title_abstract_search=df_merged.title_abstract_clean.replace(\"-\",\" \",regex=True))\n",
    "    df_merged=df_merged.assign(title_abstract_search=df_merged.title_abstract_search.apply(lambda x:re.sub('[^a-zA-Z0-9 ]+', '',x)))\n",
    "    # title\n",
    "    df_test_final.title=df_test_final.title.replace(\"{\",\"\",regex=True).replace(\"}\",\"\",regex=True)\n",
    "    df_merged=df_merged.assign(title_search=df_merged.title.replace(\"-\",\" \",regex=True))\n",
    "    df_merged=df_merged.assign(title_search=df_merged.title_search.apply(lambda x:re.sub('[^a-zA-Z0-9 ]+', '',x)))\n",
    "\n",
    "    ## keywords\n",
    "    df_merged=df_merged.assign(keyword_pred=np.where(\n",
    "        (df_merged.title_abstract_search.apply(lambda x:any(word.startswith(tuple(key_special.keywords)) for word in x.lower().split()))) \n",
    "        ,1,0))\n",
    "\n",
    "    df_merged=df_merged.assign(keyword_pred=np.where(\n",
    "        (df_merged.title_abstract_search.apply(lambda x: any(word.startswith(tuple(key_not_in.keywords)) for word in x.lower().split())))\n",
    "        ,0,df_merged.keyword_pred))\n",
    "\n",
    "    df_merged=df_merged.assign(keyword_pred=np.where(\n",
    "        (df_merged.title_abstract_search.str.lower().str.contains('|'.join(list(key_contains.keywords.values)))) |\n",
    "        (df_merged.title_abstract_search.apply(lambda x:any(word.startswith(tuple(key_start.keywords)) for word in x.lower().split()))) |\n",
    "        (df_merged.title_abstract_search.apply(lambda x:any(word in (tuple(key_in.keywords)) for word in x.lower().split()))) \n",
    "        ,1,df_merged.keyword_pred))\n",
    "\n",
    "    ## keywords\n",
    "    df_merged=df_merged.assign(keyword_title_pred=np.where(\n",
    "        (df_merged.title.apply(lambda x:any(word.startswith(tuple(key_special.keywords)) for word in x.lower().split()))) \n",
    "        ,1,0))\n",
    "\n",
    "    df_merged=df_merged.assign(keyword_title_pred=np.where(\n",
    "        (df_merged.title.apply(lambda x: any(word.startswith(tuple(key_not_in.keywords)) for word in x.lower().split())))\n",
    "        ,0,df_merged.keyword_title_pred))\n",
    "\n",
    "    df_merged=df_merged.assign(keyword_title_pred=np.where(\n",
    "        (df_merged.title.str.lower().str.contains('|'.join(list(key_contains.keywords.values)))) |\n",
    "        (df_merged.title.apply(lambda x:any(word.startswith(tuple(key_start.keywords)) for word in x.lower().split()))) |\n",
    "        (df_merged.title.apply(lambda x:any(word in (tuple(key_in.keywords)) for word in x.lower().split()))) \n",
    "        ,1,df_merged.keyword_title_pred))\n",
    "    \n",
    "    return df_merged"
   ]
  },
  {
   "cell_type": "code",
   "execution_count": 4,
   "id": "64d0b730",
   "metadata": {},
   "outputs": [],
   "source": [
    "def combinations(df_merged):\n",
    "\n",
    "    df_merged=df_merged.assign(pred_combined=np.where(df_merged.workshop_pred==1,1,\n",
    "                                np.where(df_merged.keyword_pred==1,1,\n",
    "                                np.where(df_merged.similarity_pos_pred==1,1,\n",
    "                                np.where(df_merged.similarity_neg_pred,0,2)))))\n",
    "\n",
    "    df_merged=df_merged.assign(pred_combined_title=np.where(df_merged.workshop_pred==1,1,\n",
    "                                np.where(df_merged.keyword_title_pred==1,1,\n",
    "                                np.where(df_merged.similarity_pos_pred==1,1,\n",
    "                                np.where(df_merged.similarity_neg_pred,0,2)))))\n",
    "\n",
    "    df_merged=df_merged.assign(pred_combined_title2=np.where(df_merged.keyword_title_pred==1,1,\n",
    "                                np.where(df_merged.workshop_pred==1,1,\n",
    "                                np.where(df_merged.similarity_pos_pred==1,1,\n",
    "                                np.where(df_merged.similarity_neg_pred,0,2)))))\n",
    "\n",
    "    df_merged=df_merged.assign(pred_similarities=np.where(df_merged.similarity_pos_pred==1,1,\n",
    "                                np.where(df_merged.similarity_neg_pred,0,2)))\n",
    "\n",
    "    df_merged=df_merged.assign(pred_keyword_t_workshop=np.where(df_merged.workshop_pred==1,1,\n",
    "                                np.where(df_merged.keyword_title_pred==1,1,0)))\n",
    "\n",
    "    df_merged=df_merged.assign(pred_keyword_workshop=np.where(df_merged.workshop_pred==1,1,\n",
    "                                np.where(df_merged.keyword_pred==1,1,0)))\n",
    "\n",
    "    df_merged=df_merged.assign(pred_combined_title_final=np.where(df_merged.keyword_title_pred==1,1,\n",
    "                                np.where(df_merged.similarity_pos_pred==1,1,\n",
    "                                np.where(df_merged.similarity_neg_pred,0,2))))\n",
    "    return df_merged"
   ]
  },
  {
   "cell_type": "code",
   "execution_count": 5,
   "id": "2f77948b",
   "metadata": {},
   "outputs": [],
   "source": [
    "data_path=\"../../data/\"\n",
    "outputs_path=\"../../outputs/\"\n",
    "df_test_final=pd.read_csv(outputs_path+\"general/train_set_final.csv\")\n",
    "workshops=pd.read_csv(data_path+\"others/sg_workshops_v3.csv\")\n",
    "keywords=pd.read_csv(data_path+\"others/sg_keywords_v6.csv\")\n",
    "match_unique=pd.read_csv(outputs_path+\"general/papers_uniques.csv\")"
   ]
  },
  {
   "cell_type": "code",
   "execution_count": 6,
   "id": "2bbfbe25",
   "metadata": {},
   "outputs": [],
   "source": [
    "workshops=workshops.loc[(workshops.SG_or_not==1)].reset_index(drop=True)\n",
    "match_unique=match_unique.loc[:,['ID','cosine_similarity']]\n",
    "df_merged=df_test_final.merge(match_unique,how='left',on='ID')\n",
    "\n",
    "# similarity\n",
    "df_merged=df_merged.assign(similarity_neg_pred=np.where(df_merged.cosine_similarity<=MEDIAN,0,1))\n",
    "df_merged=df_merged.assign(similarity_pos_pred=np.where(df_merged.cosine_similarity>=PERC99,1,0))"
   ]
  },
  {
   "cell_type": "code",
   "execution_count": 7,
   "id": "4e70feff",
   "metadata": {},
   "outputs": [],
   "source": [
    "## workshop\n",
    "df_merged=df_merged.assign(workshop_pred=np.where((df_merged.url.str.lower().str.contains('|'.join(list(workshops.event.values)))),1,0))"
   ]
  },
  {
   "cell_type": "code",
   "execution_count": 8,
   "id": "c0a6adfb",
   "metadata": {},
   "outputs": [],
   "source": [
    "## keywords\n",
    "df_merged=keyword_search(df_merged,keywords)"
   ]
  },
  {
   "cell_type": "code",
   "execution_count": 9,
   "id": "cca25aa9",
   "metadata": {},
   "outputs": [],
   "source": [
    "## combine techniques\n",
    "df_merged=combinations(df_merged)"
   ]
  },
  {
   "cell_type": "code",
   "execution_count": 10,
   "id": "93d26a0d",
   "metadata": {},
   "outputs": [
    {
     "name": "stdout",
     "output_type": "stream",
     "text": [
      "              precision    recall  f1-score   support\n",
      "\n",
      "           0     0.8876    0.9964    0.9388      2203\n",
      "           1     0.7037    0.0640    0.1173       297\n",
      "\n",
      "    accuracy                         0.8856      2500\n",
      "   macro avg     0.7956    0.5302    0.5281      2500\n",
      "weighted avg     0.8657    0.8856    0.8412      2500\n",
      "\n"
     ]
    }
   ],
   "source": [
    "#workshops\n",
    "print(classification_report(df_merged.label,df_merged.workshop_pred,digits=4))"
   ]
  },
  {
   "cell_type": "code",
   "execution_count": 11,
   "id": "4466a078",
   "metadata": {},
   "outputs": [
    {
     "name": "stdout",
     "output_type": "stream",
     "text": [
      "              precision    recall  f1-score   support\n",
      "\n",
      "           0     0.9427    0.9927    0.9671      2203\n",
      "           1     0.9111    0.5522    0.6876       297\n",
      "\n",
      "    accuracy                         0.9404      2500\n",
      "   macro avg     0.9269    0.7725    0.8273      2500\n",
      "weighted avg     0.9389    0.9404    0.9339      2500\n",
      "\n"
     ]
    }
   ],
   "source": [
    "#keyword title\n",
    "print(classification_report(df_merged.label,df_merged.keyword_title_pred,digits=4))"
   ]
  },
  {
   "cell_type": "code",
   "execution_count": 12,
   "id": "5b881155",
   "metadata": {},
   "outputs": [
    {
     "name": "stdout",
     "output_type": "stream",
     "text": [
      "              precision    recall  f1-score   support\n",
      "\n",
      "           0     0.9665    0.9029    0.9336      2203\n",
      "           1     0.5158    0.7677    0.6171       297\n",
      "\n",
      "    accuracy                         0.8868      2500\n",
      "   macro avg     0.7412    0.8353    0.7753      2500\n",
      "weighted avg     0.9129    0.8868    0.8960      2500\n",
      "\n"
     ]
    }
   ],
   "source": [
    "#keyword\n",
    "print(classification_report(df_merged.label,df_merged.keyword_pred,digits=4))"
   ]
  },
  {
   "cell_type": "code",
   "execution_count": 14,
   "id": "a5ffadcf",
   "metadata": {},
   "outputs": [
    {
     "name": "stdout",
     "output_type": "stream",
     "text": [
      "              precision    recall  f1-score   support\n",
      "\n",
      "           0     0.8836    0.9959    0.9364      2203\n",
      "           1     0.4706    0.0269    0.0510       297\n",
      "\n",
      "    accuracy                         0.8808      2500\n",
      "   macro avg     0.6771    0.5114    0.4937      2500\n",
      "weighted avg     0.8345    0.8808    0.8312      2500\n",
      "\n"
     ]
    }
   ],
   "source": [
    "#cos_sim pos\n",
    "print(classification_report(df_merged.label,df_merged.similarity_pos_pred,digits=4))"
   ]
  },
  {
   "cell_type": "code",
   "execution_count": 13,
   "id": "f8aa492b",
   "metadata": {
    "scrolled": true
   },
   "outputs": [
    {
     "name": "stdout",
     "output_type": "stream",
     "text": [
      "              precision    recall  f1-score   support\n",
      "\n",
      "           0     0.9029    0.4898    0.6351      2203\n",
      "           1     0.1387    0.6094    0.2260       297\n",
      "\n",
      "    accuracy                         0.5040      2500\n",
      "   macro avg     0.5208    0.5496    0.4305      2500\n",
      "weighted avg     0.8121    0.5040    0.5865      2500\n",
      "\n"
     ]
    }
   ],
   "source": [
    "#cos_sim neg\n",
    "print(classification_report(df_merged.label,df_merged.similarity_neg_pred,digits=4))"
   ]
  },
  {
   "cell_type": "code",
   "execution_count": 10,
   "id": "3957afbc",
   "metadata": {
    "scrolled": true
   },
   "outputs": [
    {
     "name": "stdout",
     "output_type": "stream",
     "text": [
      "              precision    recall  f1-score   support\n",
      "\n",
      "           0     0.8657    0.9920    0.9245      1124\n",
      "           1     0.4706    0.0442    0.0808       181\n",
      "\n",
      "    accuracy                         0.8605      1305\n",
      "   macro avg     0.6681    0.5181    0.5027      1305\n",
      "weighted avg     0.8109    0.8605    0.8075      1305\n",
      "\n"
     ]
    }
   ],
   "source": [
    "#similarities\n",
    "print(classification_report(df_merged.loc[df_merged.pred_similarities.isin([0,1])].label,\n",
    "                            df_merged.loc[df_merged.pred_similarities.isin([0,1])].pred_similarities,digits=4))"
   ]
  },
  {
   "cell_type": "markdown",
   "id": "7e774ed6",
   "metadata": {},
   "source": [
    "## combinations"
   ]
  },
  {
   "cell_type": "code",
   "execution_count": 16,
   "id": "832c067a",
   "metadata": {},
   "outputs": [
    {
     "name": "stdout",
     "output_type": "stream",
     "text": [
      "              precision    recall  f1-score   support\n",
      "\n",
      "           0     0.9278    0.9779    0.9522      1130\n",
      "           1     0.8698    0.6601    0.7506       253\n",
      "\n",
      "    accuracy                         0.9197      1383\n",
      "   macro avg     0.8988    0.8190    0.8514      1383\n",
      "weighted avg     0.9172    0.9197    0.9153      1383\n",
      "\n"
     ]
    }
   ],
   "source": [
    "#combined no workshops\n",
    "print(classification_report(df_merged.loc[df_merged.pred_combined_title_final.isin([0,1])].label,\n",
    "                            df_merged.loc[df_merged.pred_combined_title_final.isin([0,1])].pred_combined_title_final,digits=4))"
   ]
  },
  {
   "cell_type": "code",
   "execution_count": 17,
   "id": "2105030b",
   "metadata": {},
   "outputs": [
    {
     "name": "stdout",
     "output_type": "stream",
     "text": [
      "              precision    recall  f1-score   support\n",
      "\n",
      "           0     0.9306    0.9708    0.9503      1132\n",
      "           1     0.8398    0.6784    0.7505       255\n",
      "\n",
      "    accuracy                         0.9171      1387\n",
      "   macro avg     0.8852    0.8246    0.8504      1387\n",
      "weighted avg     0.9139    0.9171    0.9136      1387\n",
      "\n"
     ]
    }
   ],
   "source": [
    "#combined title\n",
    "print(classification_report(df_merged.loc[df_merged.pred_combined_title.isin([0,1])].label,\n",
    "                            df_merged.loc[df_merged.pred_combined_title.isin([0,1])].pred_combined_title,digits=4))"
   ]
  },
  {
   "cell_type": "code",
   "execution_count": 19,
   "id": "e9648c60",
   "metadata": {},
   "outputs": [
    {
     "name": "stdout",
     "output_type": "stream",
     "text": [
      "              precision    recall  f1-score   support\n",
      "\n",
      "           0     0.9538    0.8148    0.8788      1215\n",
      "           1     0.5044    0.8267    0.6265       277\n",
      "\n",
      "    accuracy                         0.8170      1492\n",
      "   macro avg     0.7291    0.8208    0.7527      1492\n",
      "weighted avg     0.8703    0.8170    0.8320      1492\n",
      "\n"
     ]
    }
   ],
   "source": [
    "#combined keyword abstract\n",
    "print(classification_report(df_merged.loc[df_merged.pred_combined.isin([0,1])].label,\n",
    "                            df_merged.loc[df_merged.pred_combined.isin([0,1])].pred_combined,digits=4))"
   ]
  },
  {
   "cell_type": "code",
   "execution_count": null,
   "id": "c6c9035b",
   "metadata": {},
   "outputs": [],
   "source": []
  }
 ],
 "metadata": {
  "kernelspec": {
   "display_name": "Python 3 (ipykernel)",
   "language": "python",
   "name": "python3"
  },
  "language_info": {
   "codemirror_mode": {
    "name": "ipython",
    "version": 3
   },
   "file_extension": ".py",
   "mimetype": "text/x-python",
   "name": "python",
   "nbconvert_exporter": "python",
   "pygments_lexer": "ipython3",
   "version": "3.7.4"
  }
 },
 "nbformat": 4,
 "nbformat_minor": 5
}
