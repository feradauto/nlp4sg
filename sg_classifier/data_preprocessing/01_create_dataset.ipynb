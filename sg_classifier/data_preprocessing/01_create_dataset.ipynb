{
 "cells": [
  {
   "cell_type": "code",
   "execution_count": 1,
   "id": "e10494ad",
   "metadata": {},
   "outputs": [],
   "source": [
    "import numpy as np\n",
    "import pandas as pd\n",
    "import spacy\n",
    "from spacy_langdetect import LanguageDetector"
   ]
  },
  {
   "cell_type": "code",
   "execution_count": 2,
   "id": "a172f347",
   "metadata": {},
   "outputs": [],
   "source": [
    "def generate_random_sample(match_unique,df_url,df_lan):\n",
    "    \"\"\"Get random sample (test set) for annotation and training set\n",
    "\n",
    "    Parameters:\n",
    "    match_unique (df): Dataframe with papers information\n",
    "    social_needs (df): Dataframe with papers information\n",
    "    Returns:\n",
    "    dataframe for annotation\n",
    "    \"\"\"\n",
    "    def detect_language(text):\n",
    "        doc = nlp(text)\n",
    "        return doc._.language['language']\n",
    "        \n",
    "    nlp = spacy.load(\"en\")\n",
    "    nlp.add_pipe(LanguageDetector(), name=\"language_detector\", last=True)\n",
    "    \n",
    "    test_set=match_unique.sample(n=1000,random_state=42)\n",
    "    test_set=test_set.merge(df_url.loc[:,['url','ID']],how='left')\n",
    "    test_set=test_set.loc[:,['ID','url','title']]\n",
    "    ## just shuffle\n",
    "    test_set=test_set.sample(frac=1,random_state=42)\n",
    "    ## training set\n",
    "    df_url=df_url.loc[:,['url','ID']]\n",
    "    train_set=match_unique.loc[~match_unique.ID.isin(test_set.ID.unique())]\n",
    "    train_set=train_set.loc[~train_set.title.isin(test_set.title.unique())]\n",
    "    \n",
    "    ## test set second part\n",
    "    #train_set=train_set.assign(lan=train_set.title_abstract.apply(lambda x:detect_language(x)))\n",
    "    \n",
    "    train_set=train_set.merge(df_lan,on=['ID'],how='left')\n",
    "    train_set=train_set.loc[train_set.lan=='en',:]\n",
    "    \n",
    "    test_set_2000=train_set.sample(n=2030,random_state=42)\n",
    "    test_set_2000=test_set_2000.sample(frac=1,random_state=42)\n",
    "    test_set_2000=test_set_2000.merge(df_url.loc[:,['url','ID']],how='left')\n",
    "    test_set_2000=test_set_2000.loc[:,['ID','url','title']]\n",
    "    \n",
    "    train_set=train_set.loc[~train_set.ID.isin(test_set_2000.ID.unique())]\n",
    "    train_set=train_set.loc[~train_set.title.isin(test_set_2000.title.unique())]\n",
    "    train_set=train_set.merge(df_url,on=['ID'],how='left')\n",
    "    \n",
    "    test_set_2000_plus=train_set.sample(n=2000,random_state=42)\n",
    "    test_set_2000_plus=test_set_2000_plus.sample(frac=1,random_state=42)\n",
    "    test_set_2000_plus=test_set_2000_plus.merge(df_url.loc[:,['url','ID']],how='left')\n",
    "    test_set_2000_plus=test_set_2000_plus.loc[:,['ID','url','title']]\n",
    "    \n",
    "    train_set=train_set.loc[~train_set.ID.isin(test_set_2000_plus.ID.unique())]\n",
    "    train_set=train_set.loc[~train_set.title.isin(test_set_2000_plus.title.unique())]\n",
    "    \n",
    "    test_set_200_final=train_set.sample(n=200,random_state=42)\n",
    "    test_set_200_final=test_set_200_final.sample(frac=1,random_state=42)\n",
    "    test_set_200_final=test_set_200_final.merge(df_url.loc[:,['url','ID']],how='left')\n",
    "    test_set_200_final=test_set_200_final.loc[:,['ID','url','title']]\n",
    "    \n",
    "    train_set=train_set.loc[~train_set.ID.isin(test_set_200_final.ID.unique())]\n",
    "    train_set=train_set.loc[~train_set.title.isin(test_set_200_final.title.unique())]\n",
    "    \n",
    "    \n",
    "    test_set=pd.concat([test_set,test_set_2000,test_set_2000_plus,test_set_200_final])\n",
    "    \n",
    "    return test_set,train_set"
   ]
  },
  {
   "cell_type": "code",
   "execution_count": 3,
   "id": "7c845196",
   "metadata": {},
   "outputs": [
    {
     "name": "stderr",
     "output_type": "stream",
     "text": [
      "/cluster/project/sachan/fgonzalez/ie/lib64/python3.7/site-packages/ipykernel_launcher.py:13: DtypeWarning: Columns (17,19) have mixed types.Specify dtype option on import or set low_memory=False.\n",
      "  del sys.path[0]\n"
     ]
    }
   ],
   "source": [
    "def main():\n",
    "    data_path=\"../../data/\"\n",
    "    outputs_path=\"../../outputs/\"\n",
    "    match_unique=pd.read_csv(outputs_path+\"general/papers_uniques.csv\")\n",
    "    df_url=pd.read_csv(data_path+\"papers/anthology.csv\")\n",
    "    df_lan=pd.read_csv(outputs_path+\"general/language.csv\")\n",
    "    test_set,train_set=generate_random_sample(match_unique,df_url,df_lan)\n",
    "\n",
    "    test_set.to_csv(outputs_path+\"general/dataset_SG.csv\",index=False)\n",
    "    train_set.to_csv(outputs_path+\"general/others_SG.csv\",index=False)\n",
    "\n",
    "if __name__ == '__main__':\n",
    "    main()"
   ]
  },
  {
   "cell_type": "code",
   "execution_count": null,
   "id": "7ef859df",
   "metadata": {},
   "outputs": [],
   "source": []
  }
 ],
 "metadata": {
  "kernelspec": {
   "display_name": "Python 3 (ipykernel)",
   "language": "python",
   "name": "python3"
  },
  "language_info": {
   "codemirror_mode": {
    "name": "ipython",
    "version": 3
   },
   "file_extension": ".py",
   "mimetype": "text/x-python",
   "name": "python",
   "nbconvert_exporter": "python",
   "pygments_lexer": "ipython3",
   "version": "3.7.4"
  }
 },
 "nbformat": 4,
 "nbformat_minor": 5
}
