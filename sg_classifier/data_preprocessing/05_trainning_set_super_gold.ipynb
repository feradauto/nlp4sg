{
 "cells": [
  {
   "cell_type": "markdown",
   "id": "d99f8396",
   "metadata": {},
   "source": [
    "## Create train set with annotated data from NLP4SGINSPECTOR"
   ]
  },
  {
   "cell_type": "code",
   "execution_count": 1,
   "id": "7e430b2c",
   "metadata": {},
   "outputs": [],
   "source": [
    "import numpy as np\n",
    "import pandas as pd\n",
    "import re"
   ]
  },
  {
   "cell_type": "code",
   "execution_count": 2,
   "id": "9c4fa270",
   "metadata": {},
   "outputs": [],
   "source": [
    "def main():\n",
    "    data_path=\"../../data/\"\n",
    "    outputs_path=\"../../outputs/\"\n",
    "    train_set=pd.read_csv(outputs_path+\"general/others_SG.csv\")\n",
    "    df_test_final=pd.read_csv(outputs_path+\"general/train_set_final.csv\")\n",
    "    df_test_final=df_test_final.assign(title_abstract=df_test_final.title_abstract_clean)\n",
    "    train_set=df_test_final.loc[:,['ID','title','abstract','title_abstract','label','url']]\n",
    "    train_set_final=train_set.sample(frac=1,random_state=42)\n",
    "    train_set_final=train_set_final.reset_index(drop=True)\n",
    "    train_set_final.label=train_set_final.label.apply(int)\n",
    "    train_set_final.to_csv(outputs_path+\"sg_classifier/train_set_labeled_super_gold.csv\",index=False)\n",
    "\n",
    "if __name__ == '__main__':\n",
    "    main()"
   ]
  },
  {
   "cell_type": "code",
   "execution_count": null,
   "id": "2dcecbc0",
   "metadata": {},
   "outputs": [],
   "source": []
  }
 ],
 "metadata": {
  "kernelspec": {
   "display_name": "Python 3 (ipykernel)",
   "language": "python",
   "name": "python3"
  },
  "language_info": {
   "codemirror_mode": {
    "name": "ipython",
    "version": 3
   },
   "file_extension": ".py",
   "mimetype": "text/x-python",
   "name": "python",
   "nbconvert_exporter": "python",
   "pygments_lexer": "ipython3",
   "version": "3.7.4"
  }
 },
 "nbformat": 4,
 "nbformat_minor": 5
}
