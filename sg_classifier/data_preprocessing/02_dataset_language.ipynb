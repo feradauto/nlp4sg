{
 "cells": [
  {
   "cell_type": "code",
   "execution_count": 1,
   "id": "edb554a1",
   "metadata": {},
   "outputs": [],
   "source": [
    "import numpy as np\n",
    "import pandas as pd\n",
    "import spacy\n",
    "from spacy_langdetect import LanguageDetector\n",
    "from langdetect import DetectorFactory"
   ]
  },
  {
   "cell_type": "code",
   "execution_count": 2,
   "id": "05dd63bf",
   "metadata": {},
   "outputs": [],
   "source": [
    "def get_language(df):\n",
    "    \"\"\"Get random sample (test set) for annotation and training set\n",
    "\n",
    "    Parameters:\n",
    "    match_unique (df): Dataframe with papers information\n",
    "    social_needs (df): Dataframe with papers information\n",
    "    Returns:\n",
    "    dataframe for annotation\n",
    "    \"\"\"\n",
    "    def detect_language(text):\n",
    "        doc = nlp(text)\n",
    "        return doc._.language['language']\n",
    "        \n",
    "    nlp = spacy.load(\"en\")\n",
    "    DetectorFactory.seed = 42 \n",
    "    nlp.add_pipe(LanguageDetector(), name=\"language_detector\", last=True)\n",
    "    \n",
    "    ## test set second part\n",
    "    df=df.assign(lan=df.title_abstract_clean.apply(lambda x:detect_language(x)))\n",
    "    \n",
    "    df=df.loc[:,['ID','lan']]\n",
    "    \n",
    "    return df\n",
    "\n"
   ]
  },
  {
   "cell_type": "code",
   "execution_count": 3,
   "id": "d5914838",
   "metadata": {},
   "outputs": [],
   "source": [
    "def main():\n",
    "    data_path=\"../../data/\"\n",
    "    outputs_path=\"../../outputs/\"\n",
    "    anthology=pd.read_csv(data_path+\"test_data/papers_test_set_ack.csv\")\n",
    "    anthology=anthology.assign(abstract=np.where(anthology.processed_abstract==1,\"\",anthology.abstract))\n",
    "    anthology=anthology.assign(abstract=anthology.abstract.fillna(''))\n",
    "    anthology=anthology.assign(title_clean=anthology.title.replace(\"{\",\"\",regex=True).replace(\"}\",\"\",regex=True))\n",
    "    anthology=anthology.assign(abstract_clean=anthology.abstract.replace(\"{\",\"\",regex=True).replace(\"}\",\"\",regex=True))\n",
    "    anthology=anthology.assign(title_abstract_clean=anthology.title_clean+\". \"+anthology.abstract_clean)\n",
    "\n",
    "    df_lan=get_language(anthology)\n",
    "\n",
    "    df_lan=df_lan.assign(lan=np.where(df_lan.ID.isin(['leinonen-etal-2018-new','blanchon-2002-pattern']),'en',df_lan.lan))\n",
    "\n",
    "    df_lan.to_csv(outputs_path+\"general/test_set_5k2_languages.csv\",index=False)\n",
    "    \n",
    "if __name__ == '__main__':\n",
    "    main()"
   ]
  },
  {
   "cell_type": "code",
   "execution_count": null,
   "id": "1fb5915e",
   "metadata": {},
   "outputs": [],
   "source": []
  }
 ],
 "metadata": {
  "kernelspec": {
   "display_name": "Python 3 (ipykernel)",
   "language": "python",
   "name": "python3"
  },
  "language_info": {
   "codemirror_mode": {
    "name": "ipython",
    "version": 3
   },
   "file_extension": ".py",
   "mimetype": "text/x-python",
   "name": "python",
   "nbconvert_exporter": "python",
   "pygments_lexer": "ipython3",
   "version": "3.7.4"
  }
 },
 "nbformat": 4,
 "nbformat_minor": 5
}
