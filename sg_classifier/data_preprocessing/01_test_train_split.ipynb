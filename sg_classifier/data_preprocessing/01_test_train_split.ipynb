{
 "cells": [
  {
   "cell_type": "code",
   "execution_count": 1,
   "id": "5d40fcd7",
   "metadata": {},
   "outputs": [],
   "source": [
    "import numpy as np\n",
    "import pandas as pd"
   ]
  },
  {
   "cell_type": "code",
   "execution_count": 2,
   "id": "5585052a",
   "metadata": {},
   "outputs": [],
   "source": [
    "def generate_random_sample(match_unique,df_url):\n",
    "    \"\"\"Get random sample (test set) for annotation and training set\n",
    "\n",
    "    Parameters:\n",
    "    match_unique (df): Dataframe with papers information\n",
    "    social_needs (df): Dataframe with papers information\n",
    "    Returns:\n",
    "    dataframe for annotation\n",
    "    \"\"\"\n",
    "\n",
    "    test_set=match_unique.sample(n=1000,random_state=42)\n",
    "    test_set=test_set.merge(df_url.loc[:,['url','ID']],how='left')\n",
    "    test_set=test_set.loc[:,['ID','url','title']]\n",
    "    ## just shuffle\n",
    "    test_set=test_set.sample(frac=1,random_state=42)\n",
    "    ## training set\n",
    "    df_url=df_url.loc[:,['url','ID']]\n",
    "    train_set=match_unique.loc[~match_unique.ID.isin(test_set.ID.unique())]\n",
    "    train_set=train_set.loc[~train_set.title.isin(test_set.title.unique())]\n",
    "    train_set=train_set.merge(df_url,on=['ID'],how='left')\n",
    "    \n",
    "    return test_set,train_set"
   ]
  },
  {
   "cell_type": "code",
   "execution_count": 3,
   "id": "2ace8c79",
   "metadata": {},
   "outputs": [
    {
     "name": "stderr",
     "output_type": "stream",
     "text": [
      "/cluster/project/sachan/fgonzalez/ie/lib64/python3.7/site-packages/ipykernel_launcher.py:12: DtypeWarning: Columns (17,19) have mixed types.Specify dtype option on import or set low_memory=False.\n",
      "  if sys.path[0] == \"\":\n"
     ]
    }
   ],
   "source": [
    "def main():\n",
    "    data_path=\"../../data/\"\n",
    "    outputs_path=\"../../outputs/\"\n",
    "    match_unique=pd.read_csv(outputs_path+\"general/papers_uniques.csv\")\n",
    "    df_url=pd.read_csv(data_path+\"papers/anthology.csv\")\n",
    "    test_set,train_set=generate_random_sample(match_unique,df_url)\n",
    "\n",
    "    test_set.to_csv(outputs_path+\"general/test_set_SG_annotate.csv\",index=False)\n",
    "    train_set.to_csv(outputs_path+\"general/train_set.csv\",index=False)\n",
    "\n",
    "if __name__ == '__main__':\n",
    "    main()"
   ]
  },
  {
   "cell_type": "code",
   "execution_count": null,
   "id": "036b320e",
   "metadata": {},
   "outputs": [],
   "source": []
  }
 ],
 "metadata": {
  "kernelspec": {
   "display_name": "Python 3 (ipykernel)",
   "language": "python",
   "name": "python3"
  },
  "language_info": {
   "codemirror_mode": {
    "name": "ipython",
    "version": 3
   },
   "file_extension": ".py",
   "mimetype": "text/x-python",
   "name": "python",
   "nbconvert_exporter": "python",
   "pygments_lexer": "ipython3",
   "version": "3.7.4"
  }
 },
 "nbformat": 4,
 "nbformat_minor": 5
}
