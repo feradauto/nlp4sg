{
 "cells": [
  {
   "cell_type": "code",
   "execution_count": 1,
   "id": "0e90019f",
   "metadata": {},
   "outputs": [],
   "source": [
    "import requests\n",
    "import pandas as pd\n",
    "from bs4 import BeautifulSoup"
   ]
  },
  {
   "cell_type": "code",
   "execution_count": 2,
   "id": "bcd8d336",
   "metadata": {},
   "outputs": [],
   "source": [
    "url = 'https://aclanthology.org/volumes/'\n",
    "r = requests.get(url)"
   ]
  },
  {
   "cell_type": "code",
   "execution_count": 3,
   "id": "9030956f",
   "metadata": {},
   "outputs": [],
   "source": [
    "soup = BeautifulSoup(r.text, 'html.parser')"
   ]
  },
  {
   "cell_type": "code",
   "execution_count": 4,
   "id": "c39fa645",
   "metadata": {},
   "outputs": [],
   "source": [
    "links=[]\n",
    "texts=[]\n",
    "for link in soup.find_all('a'):\n",
    "    links.append(link.get('href'))\n",
    "    texts.append(link.text)"
   ]
  },
  {
   "cell_type": "code",
   "execution_count": 5,
   "id": "3962c194",
   "metadata": {},
   "outputs": [],
   "source": [
    "events=pd.DataFrame([links,texts],index=['links','name']).T"
   ]
  },
  {
   "cell_type": "code",
   "execution_count": 6,
   "id": "ff6a68b9",
   "metadata": {},
   "outputs": [],
   "source": [
    "events=events.iloc[4:2570].reset_index(drop=True)"
   ]
  },
  {
   "cell_type": "code",
   "execution_count": 7,
   "id": "9c0e0191",
   "metadata": {},
   "outputs": [],
   "source": [
    "events=events.assign(event=events.links.str.split('/').str.get(2))"
   ]
  },
  {
   "cell_type": "code",
   "execution_count": 8,
   "id": "bc30fe59",
   "metadata": {},
   "outputs": [],
   "source": [
    "\n",
    "events=events.assign(links=\"https://aclanthology.org\"+events.links)"
   ]
  },
  {
   "cell_type": "code",
   "execution_count": 9,
   "id": "39e5017d",
   "metadata": {},
   "outputs": [],
   "source": [
    "events=events.loc[events.name.str.lower().str.contains('workshop')]"
   ]
  },
  {
   "cell_type": "code",
   "execution_count": 11,
   "id": "678b3985",
   "metadata": {},
   "outputs": [],
   "source": [
    "events.to_csv(\"../outputs/general/events_workshops_final.csv\",index=False)"
   ]
  },
  {
   "cell_type": "code",
   "execution_count": null,
   "id": "374d8e5f",
   "metadata": {},
   "outputs": [],
   "source": []
  }
 ],
 "metadata": {
  "kernelspec": {
   "display_name": "Python 3 (ipykernel)",
   "language": "python",
   "name": "python3"
  },
  "language_info": {
   "codemirror_mode": {
    "name": "ipython",
    "version": 3
   },
   "file_extension": ".py",
   "mimetype": "text/x-python",
   "name": "python",
   "nbconvert_exporter": "python",
   "pygments_lexer": "ipython3",
   "version": "3.7.4"
  }
 },
 "nbformat": 4,
 "nbformat_minor": 5
}
