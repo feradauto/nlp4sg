{
 "cells": [
  {
   "cell_type": "code",
   "execution_count": 1,
   "id": "2245a8f7",
   "metadata": {},
   "outputs": [],
   "source": [
    "import pandas as pd\n",
    "import numpy as np"
   ]
  },
  {
   "cell_type": "code",
   "execution_count": 2,
   "id": "47556d10",
   "metadata": {},
   "outputs": [],
   "source": [
    "data_path=\"../data/\"\n",
    "outputs_path=\"../outputs/\"\n",
    "test_set=pd.read_csv(outputs_path+\"general/test_set_final.csv\")\n",
    "train_set=pd.read_csv(outputs_path+\"general/train_set_final.csv\")\n",
    "dev_set=pd.read_csv(outputs_path+\"general/dev_set_final.csv\")\n"
   ]
  },
  {
   "cell_type": "code",
   "execution_count": 3,
   "id": "ee8eef6d",
   "metadata": {},
   "outputs": [],
   "source": [
    "test_set=test_set.assign(test=1)\n",
    "train_set=train_set.assign(test=0)\n",
    "dev_set=dev_set.assign(test=2)"
   ]
  },
  {
   "cell_type": "code",
   "execution_count": 4,
   "id": "a416824e",
   "metadata": {},
   "outputs": [],
   "source": [
    "test_set=test_set.loc[:1999]\n",
    "df_all_goals=pd.concat([train_set,dev_set,test_set])"
   ]
  },
  {
   "cell_type": "code",
   "execution_count": 5,
   "id": "cdde5798",
   "metadata": {},
   "outputs": [],
   "source": [
    "df_all_goals.goal1_raw=df_all_goals.goal1_raw.fillna('')\n",
    "df_all_goals.goal2_raw=df_all_goals.goal2_raw.fillna('')\n",
    "df_all_goals.goal3_raw=df_all_goals.goal3_raw.fillna('')\n",
    "df_all_goals=df_all_goals.assign(goal1=np.where(df_all_goals['goal1_raw'].str.lower().str.contains(\"education\"),'Quality Education',\n",
    "                    np.where(df_all_goals['goal1_raw'].str.lower().str.contains(\"poverty\"),'No Poverty',\n",
    "                    np.where(df_all_goals['goal1_raw'].str.lower().str.contains(\"hunger\"),'Zero Hunger',\n",
    "                    np.where(df_all_goals['goal1_raw'].str.lower().str.contains(\"clean_water\"),'Clean Water and Sanitation',\n",
    "                    np.where(df_all_goals['goal1_raw'].str.lower().str.contains(\"clean_energy\"),'Affordable and Clean Energy',\n",
    "                    np.where(df_all_goals['goal1_raw'].str.lower().str.contains(\"life_land\"),'Life on Land',\n",
    "                    np.where(df_all_goals['goal1_raw'].str.lower().str.contains(\"marine_life\"),'Life Below Water',\n",
    "                    np.where(df_all_goals['goal1_raw'].str.lower().str.contains(\"health\"),'Good Health and Well-Being',\n",
    "                    np.where(df_all_goals['goal1_raw'].str.lower().str.contains(\"climate\"),'Climate Action',\n",
    "                    np.where(df_all_goals['goal1_raw'].str.lower().str.contains(\"peace|privacy|disinformation_and_fake_news|deception|hate\"),'Peace, Justice and Strong Institutions',\n",
    "                    np.where(df_all_goals['goal1_raw'].str.lower().str.contains(\"social biases|race & identity\"),'Reduced Inequalities',\n",
    "                    np.where(df_all_goals['goal1_raw'].str.lower().str.contains(\"industry|innovation|research\"),'Industry, Innovation and Infrastructure',\n",
    "                    np.where(df_all_goals['goal1_raw'].str.lower().str.contains(\"sustainable cities|sustainable_cities\"),'Sustainable Cities and Communities',\n",
    "                    np.where(df_all_goals['goal1_raw'].str.lower().str.contains(\"gender\"),'Gender Equality',\n",
    "                    np.where(df_all_goals['goal1_raw'].str.lower().str.contains(\"decent work|decent_work_and_economy\"),'Decent Work and Economic Growth',\n",
    "                    np.where(df_all_goals['goal1_raw'].str.lower().str.contains(\"partnership\"),'Partnership for the goals',\n",
    "                    np.where(df_all_goals['goal1_raw'].str.lower().str.contains(\"responsible_consumption_and_production\"),'Responsible Consumption and Production',\n",
    "                    np.where(df_all_goals['goal1_raw'].str.lower().str.contains(\"reduced|social_equality\"),'Reduced Inequalities',''\n",
    "                          )))))))))))))))))))\n",
    "\n",
    "df_all_goals=df_all_goals.assign(goal2=np.where(df_all_goals['goal2_raw'].str.lower().str.contains(\"education\"),'Quality Education',\n",
    "                    np.where(df_all_goals['goal2_raw'].str.lower().str.contains(\"poverty\"),'No Poverty',\n",
    "                    np.where(df_all_goals['goal2_raw'].str.lower().str.contains(\"hunger\"),'Zero Hunger',\n",
    "                    np.where(df_all_goals['goal2_raw'].str.lower().str.contains(\"clean_water\"),'Clean Water and Sanitation',\n",
    "                    np.where(df_all_goals['goal2_raw'].str.lower().str.contains(\"clean_energy\"),'Affordable and Clean Energy',\n",
    "                    np.where(df_all_goals['goal2_raw'].str.lower().str.contains(\"life_land\"),'Life on Land',\n",
    "                    np.where(df_all_goals['goal2_raw'].str.lower().str.contains(\"marine_life\"),'Life Below Water',         \n",
    "                    np.where(df_all_goals['goal2_raw'].str.lower().str.contains(\"health\"),'Good Health and Well-Being',\n",
    "                    np.where(df_all_goals['goal2_raw'].str.lower().str.contains(\"climate\"),'Climate Action',\n",
    "                    np.where(df_all_goals['goal2_raw'].str.lower().str.contains(\"peace|privacy|disinformation_and_fake_news|deception|hate\"),'Peace, Justice and Strong Institutions',\n",
    "                    np.where(df_all_goals['goal2_raw'].str.lower().str.contains(\"social biases|race & identity\"),'Reduced Inequalities',\n",
    "                    np.where(df_all_goals['goal2_raw'].str.lower().str.contains(\"industry|innovation|research\"),'Industry, Innovation and Infrastructure',\n",
    "                    np.where(df_all_goals['goal2_raw'].str.lower().str.contains(\"sustainable cities|sustainable_cities\"),'Sustainable Cities and Communities',\n",
    "                    np.where(df_all_goals['goal2_raw'].str.lower().str.contains(\"gender\"),'Gender Equality',\n",
    "                    np.where(df_all_goals['goal2_raw'].str.lower().str.contains(\"decent work|decent_work_and_economy\"),'Decent Work and Economic Growth',\n",
    "                    np.where(df_all_goals['goal2_raw'].str.lower().str.contains(\"partnership\"),'Partnership for the goals',\n",
    "                    np.where(df_all_goals['goal2_raw'].str.lower().str.contains(\"responsible_consumption_and_production\"),'Responsible Consumption and Production',\n",
    "                    np.where(df_all_goals['goal2_raw'].str.lower().str.contains(\"reduced|social_equality\"),'Reduced Inequalities',''\n",
    "                          )))))))))))))))))))\n",
    "\n",
    "df_all_goals=df_all_goals.assign(goal3=np.where(df_all_goals['goal3_raw'].str.lower().str.contains(\"education\"),'Quality Education',\n",
    "                    np.where(df_all_goals['goal3_raw'].str.lower().str.contains(\"poverty\"),'No Poverty',\n",
    "                    np.where(df_all_goals['goal3_raw'].str.lower().str.contains(\"hunger\"),'Zero Hunger',\n",
    "                    np.where(df_all_goals['goal3_raw'].str.lower().str.contains(\"clean_water\"),'Clean Water and Sanitation',\n",
    "                    np.where(df_all_goals['goal3_raw'].str.lower().str.contains(\"clean_energy\"),'Affordable and Clean Energy',\n",
    "                    np.where(df_all_goals['goal3_raw'].str.lower().str.contains(\"life_land\"),'Life on Land',\n",
    "                    np.where(df_all_goals['goal3_raw'].str.lower().str.contains(\"marine_life\"),'Life Below Water',\n",
    "                    np.where(df_all_goals['goal3_raw'].str.lower().str.contains(\"health\"),'Good Health and Well-Being',\n",
    "                    np.where(df_all_goals['goal3_raw'].str.lower().str.contains(\"climate\"),'Climate Action',\n",
    "                    np.where(df_all_goals['goal3_raw'].str.lower().str.contains(\"peace|privacy|disinformation_and_fake_news|deception|hate\"),'Peace, Justice and Strong Institutions',\n",
    "                    np.where(df_all_goals['goal3_raw'].str.lower().str.contains(\"social biases|race & identity\"),'Reduced Inequalities',\n",
    "                    np.where(df_all_goals['goal3_raw'].str.lower().str.contains(\"industry|innovation|research\"),'Industry, Innovation and Infrastructure',\n",
    "                    np.where(df_all_goals['goal3_raw'].str.lower().str.contains(\"sustainable cities|sustainable_cities\"),'Sustainable Cities and Communities',\n",
    "                    np.where(df_all_goals['goal3_raw'].str.lower().str.contains(\"gender\"),'Gender Equality',\n",
    "                    np.where(df_all_goals['goal3_raw'].str.lower().str.contains(\"decent work|decent_work_and_economy\"),'Decent Work and Economic Growth',\n",
    "                    np.where(df_all_goals['goal3_raw'].str.lower().str.contains(\"partnership\"),'Partnership for the goals',\n",
    "                    np.where(df_all_goals['goal3_raw'].str.lower().str.contains(\"responsible_consumption_and_production\"),'Responsible Consumption and Production',\n",
    "                    np.where(df_all_goals['goal3_raw'].str.lower().str.contains(\"reduced|social_equality\"),'Reduced Inequalities',''\n",
    "                          )))))))))))))))))))"
   ]
  },
  {
   "cell_type": "code",
   "execution_count": 6,
   "id": "723d178c",
   "metadata": {},
   "outputs": [
    {
     "data": {
      "text/plain": [
       "(2000, 18)"
      ]
     },
     "execution_count": 6,
     "metadata": {},
     "output_type": "execute_result"
    }
   ],
   "source": [
    "test_set.shape"
   ]
  },
  {
   "cell_type": "code",
   "execution_count": 7,
   "id": "f7938dc6",
   "metadata": {},
   "outputs": [],
   "source": [
    "df_final=df_all_goals.loc[:,['ID', 'url', 'title_clean',\n",
    "       'abstract_clean','label', 'goal1',\n",
    "       'goal2', 'goal3', 'task_annotation', 'method_annotation',\n",
    "       'org_annotation', 'acknowledgments_clean', 'year','test']].rename(columns={'title_clean':'title',\n",
    "                                                                          'abstract_clean':'abstract',\n",
    "                                                                          'acknowledgments_clean':'acknowledgments'})"
   ]
  },
  {
   "cell_type": "code",
   "execution_count": 10,
   "id": "7d58e68d",
   "metadata": {},
   "outputs": [],
   "source": [
    "df_final.to_csv(\"../dataset/nlp4sg_papers.csv\",index=False)"
   ]
  },
  {
   "cell_type": "code",
   "execution_count": 24,
   "id": "f3a3ba0a",
   "metadata": {},
   "outputs": [],
   "source": [
    "low_ocurrence=pd.read_csv(data_path+\"test_data/low_occurrence.csv\")\n",
    "\n",
    "low_ocurrence=low_ocurrence.rename(columns={'Most Related SG goal':'goal1_raw',\n",
    "       '(if exists) 2nd Related SG Goal':'goal2_raw', '(if exists) 3rd Related SG Goal':'goal3_raw'})\n",
    "low_ocurrence=low_ocurrence.rename(columns={\"Zhijing's annotation of SG_or_not\":\"label\"})\n",
    "low_ocurrence[\"label\"]=low_ocurrence[\"label\"].fillna(0)\n",
    "\n",
    "low_ocurrence=low_ocurrence.iloc[:97]"
   ]
  },
  {
   "cell_type": "code",
   "execution_count": 25,
   "id": "7d06ad13",
   "metadata": {},
   "outputs": [],
   "source": [
    "low_ocurrence.goal1_raw=low_ocurrence.goal1_raw.fillna('')\n",
    "low_ocurrence.goal2_raw=low_ocurrence.goal2_raw.fillna('')\n",
    "low_ocurrence.goal3_raw=low_ocurrence.goal3_raw.fillna('')\n",
    "low_ocurrence=low_ocurrence.assign(goal1=np.where(low_ocurrence['goal1_raw'].str.lower().str.contains(\"education\"),'Quality Education',\n",
    "                    np.where(low_ocurrence['goal1_raw'].str.lower().str.contains(\"poverty\"),'No Poverty',\n",
    "                    np.where(low_ocurrence['goal1_raw'].str.lower().str.contains(\"hunger\"),'Zero Hunger',\n",
    "                    np.where(low_ocurrence['goal1_raw'].str.lower().str.contains(\"clean_water\"),'Clean Water and Sanitation',\n",
    "                    np.where(low_ocurrence['goal1_raw'].str.lower().str.contains(\"clean_energy\"),'Affordable and Clean Energy',\n",
    "                    np.where(low_ocurrence['goal1_raw'].str.lower().str.contains(\"life_land\"),'Life on Land',\n",
    "                    np.where(low_ocurrence['goal1_raw'].str.lower().str.contains(\"marine_life\"),'Life Below Water',\n",
    "                    np.where(low_ocurrence['goal1_raw'].str.lower().str.contains(\"health\"),'Good Health and Well-Being',\n",
    "                    np.where(low_ocurrence['goal1_raw'].str.lower().str.contains(\"climate\"),'Climate Action',\n",
    "                    np.where(low_ocurrence['goal1_raw'].str.lower().str.contains(\"peace|privacy|disinformation_and_fake_news|deception|hate\"),'Peace, Justice and Strong Institutions',\n",
    "                    np.where(low_ocurrence['goal1_raw'].str.lower().str.contains(\"social biases|race & identity\"),'Reduced Inequalities',\n",
    "                    np.where(low_ocurrence['goal1_raw'].str.lower().str.contains(\"industry|innovation|research\"),'Industry, Innovation and Infrastructure',\n",
    "                    np.where(low_ocurrence['goal1_raw'].str.lower().str.contains(\"sustainable cities|sustainable_cities\"),'Sustainable Cities and Communities',\n",
    "                    np.where(low_ocurrence['goal1_raw'].str.lower().str.contains(\"gender\"),'Gender Equality',\n",
    "                    np.where(low_ocurrence['goal1_raw'].str.lower().str.contains(\"decent work|decent_work_and_economy\"),'Decent Work and Economic Growth',\n",
    "                    np.where(low_ocurrence['goal1_raw'].str.lower().str.contains(\"partnership\"),'Partnership for the goals',\n",
    "                    np.where(low_ocurrence['goal1_raw'].str.lower().str.contains(\"responsible_consumption_and_production\"),'Responsible Consumption and Production',\n",
    "                    np.where(low_ocurrence['goal1_raw'].str.lower().str.contains(\"reduced|social_equality\"),'Reduced Inequalities',''\n",
    "                          )))))))))))))))))))\n",
    "\n",
    "low_ocurrence=low_ocurrence.assign(goal2=np.where(low_ocurrence['goal2_raw'].str.lower().str.contains(\"education\"),'Quality Education',\n",
    "                    np.where(low_ocurrence['goal2_raw'].str.lower().str.contains(\"poverty\"),'No Poverty',\n",
    "                    np.where(low_ocurrence['goal2_raw'].str.lower().str.contains(\"hunger\"),'Zero Hunger',\n",
    "                    np.where(low_ocurrence['goal2_raw'].str.lower().str.contains(\"clean_water\"),'Clean Water and Sanitation',\n",
    "                    np.where(low_ocurrence['goal2_raw'].str.lower().str.contains(\"clean_energy\"),'Affordable and Clean Energy',\n",
    "                    np.where(low_ocurrence['goal2_raw'].str.lower().str.contains(\"life_land\"),'Life on Land',\n",
    "                    np.where(low_ocurrence['goal2_raw'].str.lower().str.contains(\"marine_life\"),'Life Below Water',         \n",
    "                    np.where(low_ocurrence['goal2_raw'].str.lower().str.contains(\"health\"),'Good Health and Well-Being',\n",
    "                    np.where(low_ocurrence['goal2_raw'].str.lower().str.contains(\"climate\"),'Climate Action',\n",
    "                    np.where(low_ocurrence['goal2_raw'].str.lower().str.contains(\"peace|privacy|disinformation_and_fake_news|deception|hate\"),'Peace, Justice and Strong Institutions',\n",
    "                    np.where(low_ocurrence['goal2_raw'].str.lower().str.contains(\"social biases|race & identity\"),'Reduced Inequalities',\n",
    "                    np.where(low_ocurrence['goal2_raw'].str.lower().str.contains(\"industry|innovation|research\"),'Industry, Innovation and Infrastructure',\n",
    "                    np.where(low_ocurrence['goal2_raw'].str.lower().str.contains(\"sustainable cities|sustainable_cities\"),'Sustainable Cities and Communities',\n",
    "                    np.where(low_ocurrence['goal2_raw'].str.lower().str.contains(\"gender\"),'Gender Equality',\n",
    "                    np.where(low_ocurrence['goal2_raw'].str.lower().str.contains(\"decent work|decent_work_and_economy\"),'Decent Work and Economic Growth',\n",
    "                    np.where(low_ocurrence['goal2_raw'].str.lower().str.contains(\"partnership\"),'Partnership for the goals',\n",
    "                    np.where(low_ocurrence['goal2_raw'].str.lower().str.contains(\"responsible_consumption_and_production\"),'Responsible Consumption and Production',\n",
    "                    np.where(low_ocurrence['goal2_raw'].str.lower().str.contains(\"reduced|social_equality\"),'Reduced Inequalities',''\n",
    "                          )))))))))))))))))))\n",
    "\n",
    "low_ocurrence=low_ocurrence.assign(goal3=np.where(low_ocurrence['goal3_raw'].str.lower().str.contains(\"education\"),'Quality Education',\n",
    "                    np.where(low_ocurrence['goal3_raw'].str.lower().str.contains(\"poverty\"),'No Poverty',\n",
    "                    np.where(low_ocurrence['goal3_raw'].str.lower().str.contains(\"hunger\"),'Zero Hunger',\n",
    "                    np.where(low_ocurrence['goal3_raw'].str.lower().str.contains(\"clean_water\"),'Clean Water and Sanitation',\n",
    "                    np.where(low_ocurrence['goal3_raw'].str.lower().str.contains(\"clean_energy\"),'Affordable and Clean Energy',\n",
    "                    np.where(low_ocurrence['goal3_raw'].str.lower().str.contains(\"life_land\"),'Life on Land',\n",
    "                    np.where(low_ocurrence['goal3_raw'].str.lower().str.contains(\"marine_life\"),'Life Below Water',\n",
    "                    np.where(low_ocurrence['goal3_raw'].str.lower().str.contains(\"health\"),'Good Health and Well-Being',\n",
    "                    np.where(low_ocurrence['goal3_raw'].str.lower().str.contains(\"climate\"),'Climate Action',\n",
    "                    np.where(low_ocurrence['goal3_raw'].str.lower().str.contains(\"peace|privacy|disinformation_and_fake_news|deception|hate\"),'Peace, Justice and Strong Institutions',\n",
    "                    np.where(low_ocurrence['goal3_raw'].str.lower().str.contains(\"social biases|race & identity\"),'Reduced Inequalities',\n",
    "                    np.where(low_ocurrence['goal3_raw'].str.lower().str.contains(\"industry|innovation|research\"),'Industry, Innovation and Infrastructure',\n",
    "                    np.where(low_ocurrence['goal3_raw'].str.lower().str.contains(\"sustainable cities|sustainable_cities\"),'Sustainable Cities and Communities',\n",
    "                    np.where(low_ocurrence['goal3_raw'].str.lower().str.contains(\"gender\"),'Gender Equality',\n",
    "                    np.where(low_ocurrence['goal3_raw'].str.lower().str.contains(\"decent work|decent_work_and_economy\"),'Decent Work and Economic Growth',\n",
    "                    np.where(low_ocurrence['goal3_raw'].str.lower().str.contains(\"partnership\"),'Partnership for the goals',\n",
    "                    np.where(low_ocurrence['goal3_raw'].str.lower().str.contains(\"responsible_consumption_and_production\"),'Responsible Consumption and Production',\n",
    "                    np.where(low_ocurrence['goal3_raw'].str.lower().str.contains(\"reduced|social_equality\"),'Reduced Inequalities',''\n",
    "                          )))))))))))))))))))"
   ]
  },
  {
   "cell_type": "code",
   "execution_count": 26,
   "id": "301ac0a5",
   "metadata": {
    "scrolled": true
   },
   "outputs": [],
   "source": [
    "low_ocurrence=low_ocurrence.rename(columns={'title_clean':'title', 'abstract_clean':'abstract',\n",
    "                              'acknowledgments_clean':'acknowledgments'})"
   ]
  },
  {
   "cell_type": "code",
   "execution_count": 27,
   "id": "e2f0fe40",
   "metadata": {},
   "outputs": [],
   "source": [
    "low_ocurrence.label=low_ocurrence.label.apply(int)"
   ]
  },
  {
   "cell_type": "code",
   "execution_count": 29,
   "id": "333a097b",
   "metadata": {},
   "outputs": [],
   "source": [
    "low_ocurrence=low_ocurrence.loc[:,['ID', 'url', 'title', 'abstract', 'label', 'goal1', 'goal2', 'goal3',\n",
    "       'acknowledgments']]"
   ]
  },
  {
   "cell_type": "code",
   "execution_count": 30,
   "id": "be605f5c",
   "metadata": {},
   "outputs": [],
   "source": [
    "low_ocurrence.to_csv(\"../dataset/nlp4sg_papers_low_ocurrence.csv\",index=False)"
   ]
  },
  {
   "cell_type": "code",
   "execution_count": null,
   "id": "1ab204cc",
   "metadata": {},
   "outputs": [],
   "source": []
  }
 ],
 "metadata": {
  "kernelspec": {
   "display_name": "Python 3 (ipykernel)",
   "language": "python",
   "name": "python3"
  },
  "language_info": {
   "codemirror_mode": {
    "name": "ipython",
    "version": 3
   },
   "file_extension": ".py",
   "mimetype": "text/x-python",
   "name": "python",
   "nbconvert_exporter": "python",
   "pygments_lexer": "ipython3",
   "version": "3.7.4"
  }
 },
 "nbformat": 4,
 "nbformat_minor": 5
}
