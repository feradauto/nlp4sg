{
 "cells": [
  {
   "cell_type": "markdown",
   "id": "a82ec1d3",
   "metadata": {},
   "source": [
    "# Format inputs for SCIREX model"
   ]
  },
  {
   "cell_type": "markdown",
   "id": "50dc3bb6",
   "metadata": {},
   "source": [
    "### Libraries and variables"
   ]
  },
  {
   "cell_type": "code",
   "execution_count": 1,
   "id": "83f74914",
   "metadata": {},
   "outputs": [],
   "source": [
    "import pandas as pd\n",
    "import numpy as np"
   ]
  },
  {
   "cell_type": "markdown",
   "id": "25e0ae6a",
   "metadata": {},
   "source": [
    "### Process data"
   ]
  },
  {
   "cell_type": "code",
   "execution_count": 2,
   "id": "9f8e9934",
   "metadata": {},
   "outputs": [],
   "source": [
    "def format_scirex(df):\n",
    "    df=df.assign(abstract_clean=df.abstract_clean.fillna(\"\"))\n",
    "    df=df.loc[:,['ID','title_clean','abstract_clean']]\n",
    "\n",
    "    df=df.assign(text=df.title_clean+\" \"+df.abstract_clean)\n",
    "\n",
    "    df.loc[:,['text']]=df.loc[:,['text']].replace(\",\", \" , \",regex=True).replace(\"\\.\", \" . \",regex=True).replace(\":\", \" : \",regex=True).replace(\"-\", \" - \",regex=True).replace(\"  \", \" \",regex=True)\n",
    "\n",
    "    df=df.assign(words=df.text.str.split())\n",
    "\n",
    "    df_words=df.loc[:,['ID','words']].rename(columns={'ID':'doc_id'})\n",
    "\n",
    "    par_indexes=[]\n",
    "    all_sentences=[]\n",
    "    for i,d in df_words.iterrows():\n",
    "        sent_indexes=[]\n",
    "        sentence_index=[0]\n",
    "        for j in range(1,len(d['words'])):\n",
    "            if d['words'][j] == '.':\n",
    "                sentence_index.append(j)\n",
    "                sent_indexes.append(sentence_index)\n",
    "                sentence_index=[j]\n",
    "        ##last\n",
    "        sentence_index.append(j)\n",
    "        sent_indexes.append(sentence_index)\n",
    "        ##\n",
    "        all_sentences.append(sent_indexes)\n",
    "        par_indexes.append([[0,j]])\n",
    "\n",
    "    df_words=df_words.assign(sections=par_indexes)\n",
    "\n",
    "    df_words=df_words.assign(sentences=all_sentences)\n",
    "    return df_words"
   ]
  },
  {
   "cell_type": "code",
   "execution_count": 3,
   "id": "4c1635c6",
   "metadata": {},
   "outputs": [],
   "source": [
    "def main():\n",
    "    data_path=\"../../data/\"\n",
    "    output_path=\"../../outputs/\"\n",
    "\n",
    "    df=pd.read_csv(output_path+\"sg_ie/positives_ready.csv\")\n",
    "    test_set_complete=pd.read_csv(output_path+\"general/test_set_final.csv\")\n",
    "    train_set=pd.read_csv(output_path+\"general/train_set_final.csv\")\n",
    "    dev_set=pd.read_csv(output_path+\"general/dev_set_final.csv\")\n",
    "    df_test=pd.concat([test_set_complete,dev_set,train_set]).reset_index(drop=True)\n",
    "    \n",
    "    df_words=format_scirex(df)\n",
    "    df_test_words=format_scirex(df_test)\n",
    "\n",
    "    df_words.to_json(output_path+\"sg_ie/sg_papers_scirex_final_2.jsonl\",orient=\"records\",lines=True)\n",
    "\n",
    "    df_test_words.to_json(output_path+\"sg_ie/sg_papers_scirex_test_final_2.jsonl\",orient=\"records\",lines=True)\n",
    "if __name__ == '__main__':\n",
    "    main()"
   ]
  },
  {
   "cell_type": "code",
   "execution_count": null,
   "id": "d8513b77",
   "metadata": {},
   "outputs": [],
   "source": []
  }
 ],
 "metadata": {
  "kernelspec": {
   "display_name": "Python 3 (ipykernel)",
   "language": "python",
   "name": "python3"
  },
  "language_info": {
   "codemirror_mode": {
    "name": "ipython",
    "version": 3
   },
   "file_extension": ".py",
   "mimetype": "text/x-python",
   "name": "python",
   "nbconvert_exporter": "python",
   "pygments_lexer": "ipython3",
   "version": "3.7.4"
  }
 },
 "nbformat": 4,
 "nbformat_minor": 5
}
