{
 "cells": [
  {
   "cell_type": "markdown",
   "id": "3cc38230",
   "metadata": {},
   "source": [
    "# SCIERC format"
   ]
  },
  {
   "cell_type": "markdown",
   "id": "9028c26d",
   "metadata": {},
   "source": [
    "### Libraries and variables"
   ]
  },
  {
   "cell_type": "code",
   "execution_count": 1,
   "id": "3ab0bb43",
   "metadata": {},
   "outputs": [],
   "source": [
    "import pandas as pd\n",
    "import numpy as np"
   ]
  },
  {
   "cell_type": "markdown",
   "id": "66262c00",
   "metadata": {},
   "source": [
    "### Process data"
   ]
  },
  {
   "cell_type": "code",
   "execution_count": 2,
   "id": "d65fe95f",
   "metadata": {},
   "outputs": [],
   "source": [
    "def format_scierc(df):\n",
    "    df=df.assign(text=df.title_abstract_clean)\n",
    "\n",
    "    df.loc[:,['text']]=df.loc[:,['text']].replace(\",\", \" , \",regex=True).replace(\"\\.\", \" . \",regex=True).replace(\":\", \" : \",regex=True).replace(\"-\", \" - \",regex=True).replace(\"  \", \" \",regex=True)\n",
    "    df.text=df.text.str.rstrip()\n",
    "\n",
    "    df=df.assign(sentences=df.text.str.split('.'))\n",
    "    df=df.loc[:,['ID','sentences']].rename(columns={'ID':'doc_key'})\n",
    "    df['ner']=[list([list([])]) for _ in range(df.shape[0])]\n",
    "    df['clusters']=[list([list([])]) for _ in range(df.shape[0])]\n",
    "    df['relations']=[list([list([])]) for _ in range(df.shape[0])]\n",
    "    for i,d in df.iterrows():\n",
    "        sents=[]\n",
    "        ner=[]\n",
    "        for s in d['sentences']:\n",
    "            if s not in [' ','  ','   ']:\n",
    "                sents.append(s.split())\n",
    "                ner.append(list())\n",
    "        sents=sents[:-1]\n",
    "        ner=ner[:-1]\n",
    "        df.loc[i,'sentences']=sents\n",
    "        df.at[i,'ner']=list(ner)\n",
    "        df.at[i,'relations']=list(ner)\n",
    "        df.at[i,'clusters']=list(ner)\n",
    "\n",
    "    return df"
   ]
  },
  {
   "cell_type": "code",
   "execution_count": null,
   "id": "bc217dee",
   "metadata": {},
   "outputs": [],
   "source": [
    "def main():\n",
    "    data_path=\"../../data/\"\n",
    "    output_path=\"../../outputs/\"\n",
    "\n",
    "    df=pd.read_csv(output_path+\"sg_ie/positives_ready.csv\")\n",
    "    test_set_complete=pd.read_csv(output_path+\"general/test_set_final.csv\")\n",
    "    train_set=pd.read_csv(output_path+\"general/train_set_final.csv\")\n",
    "    dev_set=pd.read_csv(output_path+\"general/dev_set_final.csv\")\n",
    "    df_test=pd.concat([test_set_complete,dev_set,train_set]).reset_index(drop=True)\n",
    "    df_test=df_test.loc[df_test.label==1].reset_index(drop=True)\n",
    "    df_words=format_scierc(df)\n",
    "    df_test_words=format_scierc(df_test)\n",
    "    df_test_words=df_test_words.loc[~df_test_words.doc_key.isin(['yu-2007-tai'])]\n",
    "\n",
    "    df_words.to_json(output_path+\"sg_ie/sg_papers_scierc.json\",orient=\"records\",lines=True)\n",
    "\n",
    "    df_test_words.to_json(output_path+\"sg_ie/sg_papers_scierc_test.json\",orient=\"records\",lines=True)\n",
    "if __name__ == '__main__':\n",
    "    main()"
   ]
  },
  {
   "cell_type": "code",
   "execution_count": null,
   "id": "7685366d",
   "metadata": {},
   "outputs": [],
   "source": []
  }
 ],
 "metadata": {
  "kernelspec": {
   "display_name": "Python 3 (ipykernel)",
   "language": "python",
   "name": "python3"
  },
  "language_info": {
   "codemirror_mode": {
    "name": "ipython",
    "version": 3
   },
   "file_extension": ".py",
   "mimetype": "text/x-python",
   "name": "python",
   "nbconvert_exporter": "python",
   "pygments_lexer": "ipython3",
   "version": "3.7.4"
  }
 },
 "nbformat": 4,
 "nbformat_minor": 5
}
