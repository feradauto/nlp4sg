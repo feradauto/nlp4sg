{
 "cells": [
  {
   "cell_type": "code",
   "execution_count": 1,
   "id": "3a222561",
   "metadata": {},
   "outputs": [],
   "source": [
    "import pandas as pd\n",
    "import numpy as np\n",
    "from evaluate import load\n",
    "import copy\n",
    "import random\n",
    "import requests\n",
    "from bert_score import score\n",
    "from collections import defaultdict\n",
    "import os"
   ]
  },
  {
   "cell_type": "code",
   "execution_count": 2,
   "id": "4a2b7fba",
   "metadata": {
    "scrolled": true
   },
   "outputs": [],
   "source": [
    "bertscore = load(\"bertscore\")\n",
    "squad_metric = load(\"squad\")"
   ]
  },
  {
   "cell_type": "code",
   "execution_count": 3,
   "id": "aa01e9c3",
   "metadata": {},
   "outputs": [],
   "source": [
    "data_path=\"../../data/\"\n",
    "output_path=\"../../outputs/\""
   ]
  },
  {
   "cell_type": "code",
   "execution_count": 4,
   "id": "6276dd1d",
   "metadata": {},
   "outputs": [],
   "source": [
    "def get_list_of_words():\n",
    "    response = requests.get(\n",
    "        'https://www.mit.edu/~ecprice/wordlist.10000',\n",
    "        timeout=10\n",
    "    )\n",
    "\n",
    "    string_of_words = response.content.decode('utf-8')\n",
    "\n",
    "    list_of_words = string_of_words.splitlines()\n",
    "\n",
    "    return list_of_words"
   ]
  },
  {
   "cell_type": "code",
   "execution_count": 5,
   "id": "f5b3a9b7",
   "metadata": {
    "scrolled": true
   },
   "outputs": [],
   "source": [
    "words = get_list_of_words()\n",
    "#print(words)"
   ]
  },
  {
   "cell_type": "code",
   "execution_count": 6,
   "id": "5795b62c",
   "metadata": {
    "scrolled": true
   },
   "outputs": [
    {
     "name": "stdout",
     "output_type": "stream",
     "text": [
      "usd\n"
     ]
    }
   ],
   "source": [
    "random_word = random.choice(words)\n",
    "print(random_word) "
   ]
  },
  {
   "cell_type": "markdown",
   "id": "0fedb198",
   "metadata": {},
   "source": [
    "## bert"
   ]
  },
  {
   "cell_type": "code",
   "execution_count": 7,
   "id": "c9e079cb",
   "metadata": {},
   "outputs": [],
   "source": [
    "tasks_gpt3=pd.read_csv(output_path+\"sg_ie/bert_tasks_simple.csv\")\n",
    "\n",
    "methods_gpt3=pd.read_csv(output_path+\"sg_ie/bert_methods_simple.csv\")"
   ]
  },
  {
   "cell_type": "code",
   "execution_count": 8,
   "id": "e2b4f0ba",
   "metadata": {
    "scrolled": true
   },
   "outputs": [],
   "source": [
    "tasks_gpt3=tasks_gpt3.rename(columns={'clean_response':'task'})\n",
    "tasks_gpt3=tasks_gpt3.loc[:,['ID','task']]\n",
    "\n",
    "methods_gpt3=methods_gpt3.rename(columns={'clean_response':'method'})\n",
    "methods_gpt3=methods_gpt3.loc[:,['ID','method']]"
   ]
  },
  {
   "cell_type": "code",
   "execution_count": 9,
   "id": "96630df4",
   "metadata": {},
   "outputs": [],
   "source": [
    "tasks_gpt3.task=tasks_gpt3.task.str.lstrip(' ')\n",
    "methods_gpt3.method=methods_gpt3.method.str.lstrip(' ')\n",
    "\n",
    "tasks_gpt3.task=tasks_gpt3.task.apply(lambda x:[x])\n",
    "methods_gpt3.method=methods_gpt3.method.apply(lambda x:[x])"
   ]
  },
  {
   "cell_type": "code",
   "execution_count": 10,
   "id": "b61457d6",
   "metadata": {},
   "outputs": [
    {
     "data": {
      "text/plain": [
       "(263, 2)"
      ]
     },
     "execution_count": 10,
     "metadata": {},
     "output_type": "execute_result"
    }
   ],
   "source": [
    "tasks_gpt3.shape"
   ]
  },
  {
   "cell_type": "markdown",
   "id": "df341fc3",
   "metadata": {},
   "source": [
    "## roberta"
   ]
  },
  {
   "cell_type": "code",
   "execution_count": 11,
   "id": "0695c93d",
   "metadata": {},
   "outputs": [],
   "source": [
    "tasks_gpt3=pd.read_csv(output_path+\"sg_ie/roberta_tasks_simple.csv\")\n",
    "\n",
    "methods_gpt3=pd.read_csv(output_path+\"sg_ie/roberta_methods_simple.csv\")"
   ]
  },
  {
   "cell_type": "code",
   "execution_count": 12,
   "id": "cb1dc265",
   "metadata": {
    "scrolled": true
   },
   "outputs": [],
   "source": [
    "tasks_gpt3=tasks_gpt3.rename(columns={'clean_response':'task'})\n",
    "tasks_gpt3=tasks_gpt3.loc[:,['ID','task']]\n",
    "\n",
    "methods_gpt3=methods_gpt3.rename(columns={'clean_response':'method'})\n",
    "methods_gpt3=methods_gpt3.loc[:,['ID','method']]"
   ]
  },
  {
   "cell_type": "code",
   "execution_count": 13,
   "id": "a14a5dd9",
   "metadata": {},
   "outputs": [],
   "source": [
    "tasks_gpt3.task=tasks_gpt3.task.str.lstrip(' ')\n",
    "methods_gpt3.method=methods_gpt3.method.str.lstrip(' ')\n",
    "\n",
    "tasks_gpt3.task=tasks_gpt3.task.apply(lambda x:[x])\n",
    "methods_gpt3.method=methods_gpt3.method.apply(lambda x:[x])"
   ]
  },
  {
   "cell_type": "markdown",
   "id": "9ca5e491",
   "metadata": {},
   "source": [
    "## deberta"
   ]
  },
  {
   "cell_type": "code",
   "execution_count": 14,
   "id": "06082550",
   "metadata": {},
   "outputs": [],
   "source": [
    "\n",
    "tasks_gpt3=pd.read_csv(output_path+\"sg_ie/deberta_tasks_simple3.csv\")\n",
    "\n",
    "methods_gpt3=pd.read_csv(output_path+\"sg_ie/deberta_methods_simple3.csv\")"
   ]
  },
  {
   "cell_type": "code",
   "execution_count": 15,
   "id": "636459de",
   "metadata": {
    "scrolled": true
   },
   "outputs": [],
   "source": [
    "tasks_gpt3=tasks_gpt3.rename(columns={'clean_response':'task'})\n",
    "tasks_gpt3=tasks_gpt3.loc[:,['ID','task']]\n",
    "\n",
    "methods_gpt3=methods_gpt3.rename(columns={'clean_response':'method'})\n",
    "methods_gpt3=methods_gpt3.loc[:,['ID','method']]"
   ]
  },
  {
   "cell_type": "code",
   "execution_count": 16,
   "id": "bc6da65c",
   "metadata": {},
   "outputs": [],
   "source": [
    "tasks_gpt3.task=tasks_gpt3.task.str.lstrip(' ')\n",
    "methods_gpt3.method=methods_gpt3.method.str.lstrip(' ')\n",
    "\n",
    "tasks_gpt3.task=tasks_gpt3.task.apply(lambda x:[x])\n",
    "methods_gpt3.method=methods_gpt3.method.apply(lambda x:[x])"
   ]
  },
  {
   "cell_type": "markdown",
   "id": "eaf45bd9",
   "metadata": {},
   "source": [
    "## davinci 3"
   ]
  },
  {
   "cell_type": "code",
   "execution_count": 19,
   "id": "b264b8e7",
   "metadata": {},
   "outputs": [],
   "source": [
    "tasks_gpt3=pd.read_csv(output_path+\"sg_ie/gpt3/GPT3_responses_task_davinci3.csv\")\n",
    "\n",
    "methods_gpt3=pd.read_csv(output_path+\"sg_ie/gpt3/GPT3_responses_method2_davinci3.csv\")"
   ]
  },
  {
   "cell_type": "code",
   "execution_count": 20,
   "id": "19141b99",
   "metadata": {},
   "outputs": [],
   "source": [
    "tasks_gpt3=tasks_gpt3.rename(columns={'clean_response':'task'})\n",
    "tasks_gpt3=tasks_gpt3.loc[:,['ID','task']]\n",
    "\n",
    "methods_gpt3=methods_gpt3.rename(columns={'clean_response':'method'})\n",
    "methods_gpt3=methods_gpt3.loc[:,['ID','method']]"
   ]
  },
  {
   "cell_type": "code",
   "execution_count": 21,
   "id": "efa618b9",
   "metadata": {},
   "outputs": [],
   "source": [
    "tasks_gpt3.task=tasks_gpt3.task.str.lstrip(' ')\n",
    "methods_gpt3.method=methods_gpt3.method.str.lstrip(' ')\n",
    "\n",
    "tasks_gpt3.task=tasks_gpt3.task.apply(lambda x:[x])\n",
    "methods_gpt3.method=methods_gpt3.method.apply(lambda x:[x])"
   ]
  },
  {
   "cell_type": "markdown",
   "id": "f6ba049b",
   "metadata": {},
   "source": [
    "## random"
   ]
  },
  {
   "cell_type": "code",
   "execution_count": 22,
   "id": "56845623",
   "metadata": {},
   "outputs": [],
   "source": [
    "for i,d in tasks_gpt3.iterrows():\n",
    "    tasks_gpt3.at[i,'task']=random.choices(words,k=2)\n",
    "for i,d in tasks_gpt3.iterrows():\n",
    "    methods_gpt3.at[i,'method']=random.choices(words,k=2)"
   ]
  },
  {
   "cell_type": "markdown",
   "id": "056d6b88",
   "metadata": {},
   "source": [
    "## davinci 2 multiple"
   ]
  },
  {
   "cell_type": "code",
   "execution_count": 23,
   "id": "d1887e6a",
   "metadata": {},
   "outputs": [],
   "source": [
    "methods_gpt3=pd.read_csv(output_path+\"sg_ie/gpt3/GPT3_responses_method2_cleaned_f.csv\")\n",
    "tasks_gpt3=pd.read_csv(output_path+\"sg_ie/gpt3/GPT3_responses_task_cleaned_f2.csv\")\n",
    "\n",
    "methods_gpt3=methods_gpt3.groupby('ID')['methods'].apply(list).reset_index().rename(columns={'methods':'method'})\n",
    "tasks_gpt3=tasks_gpt3.groupby('ID')['tasks'].apply(list).reset_index().rename(columns={'tasks':'task'})"
   ]
  },
  {
   "cell_type": "markdown",
   "id": "e5c3253b",
   "metadata": {},
   "source": [
    "# davinci 2"
   ]
  },
  {
   "cell_type": "code",
   "execution_count": 25,
   "id": "4c39a58e",
   "metadata": {},
   "outputs": [],
   "source": [
    "tasks_gpt3=pd.read_csv(output_path+\"sg_ie/gpt3/GPT3_responses_task_davinci2_coarse2.csv\")\n",
    "\n",
    "methods_gpt3=pd.read_csv(output_path+\"sg_ie/gpt3/GPT3_responses_method_davinci2_coarse2.csv\")\n",
    "\n",
    "tasks_gpt3=tasks_gpt3.rename(columns={'clean_response':'task'})\n",
    "tasks_gpt3=tasks_gpt3.loc[:,['ID','task']]\n",
    "\n",
    "methods_gpt3=methods_gpt3.rename(columns={'clean_response':'method'})\n",
    "methods_gpt3=methods_gpt3.loc[:,['ID','method']]\n",
    "\n",
    "tasks_gpt3.task=tasks_gpt3.task.str.lstrip(' ')\n",
    "methods_gpt3.method=methods_gpt3.method.str.lstrip(' ')\n",
    "\n",
    "tasks_gpt3.task=tasks_gpt3.task.apply(lambda x:[x])\n",
    "methods_gpt3.method=methods_gpt3.method.apply(lambda x:[x])"
   ]
  },
  {
   "cell_type": "markdown",
   "id": "0c6ab0a2",
   "metadata": {},
   "source": [
    "## gold data 1"
   ]
  },
  {
   "cell_type": "code",
   "execution_count": 8,
   "id": "82e8fecc",
   "metadata": {},
   "outputs": [],
   "source": [
    "gold_usr1=pd.read_json(output_path+\"sg_ie/annotation_20230114.json\")"
   ]
  },
  {
   "cell_type": "code",
   "execution_count": 9,
   "id": "bdd6760c",
   "metadata": {},
   "outputs": [],
   "source": [
    "obs=[]\n",
    "for i,d in gold_usr1.iterrows():\n",
    "    response={}\n",
    "    response['task']=[]\n",
    "    response['method']=[]\n",
    "    response['SG_element_in_task']=[]\n",
    "    for e in d['annotations'][0]['result']:\n",
    "        if e['from_name']=='label':\n",
    "            if e['value']['labels'][0] in ['task']:\n",
    "                response['task'].append(e['value']['text'])\n",
    "            elif e['value']['labels'][0] in ['method']:\n",
    "                response['method'].append(e['value']['text'])\n",
    "            elif e['value']['labels'][0]=='SG_element_in_task':\n",
    "                response['SG_element_in_task'].append(e['value']['text'])\n",
    "        elif e['from_name']=='method_c':\n",
    "            response['method'].append(e['value']['text'][0])\n",
    "        elif e['from_name']=='task_c':\n",
    "            response['task'].append(e['value']['text'][0])\n",
    "    response['ID']=d['data']['ID']\n",
    "    obs.append(response)"
   ]
  },
  {
   "cell_type": "code",
   "execution_count": 10,
   "id": "83d89ee0",
   "metadata": {},
   "outputs": [],
   "source": [
    "df_usr1=pd.DataFrame(obs)"
   ]
  },
  {
   "cell_type": "markdown",
   "id": "52ca3268",
   "metadata": {},
   "source": [
    "## gold data"
   ]
  },
  {
   "cell_type": "code",
   "execution_count": 11,
   "id": "ea821ff9",
   "metadata": {},
   "outputs": [],
   "source": [
    "test_set_labeled=pd.read_csv(output_path+\"general/test_set_final.csv\")\n",
    "\n",
    "test_set_labeled=test_set_labeled.iloc[:2000]"
   ]
  },
  {
   "cell_type": "code",
   "execution_count": 12,
   "id": "7ba21488",
   "metadata": {},
   "outputs": [],
   "source": [
    "gold=pd.read_json(output_path+\"sg_ie/final_annotation_user2.json\")"
   ]
  },
  {
   "cell_type": "code",
   "execution_count": 13,
   "id": "c51a3ca7",
   "metadata": {},
   "outputs": [],
   "source": [
    "obs=[]\n",
    "for i,d in gold.iterrows():\n",
    "    response={}\n",
    "    response['task']=[]\n",
    "    response['method']=[]\n",
    "    response['SG_element_in_task']=[]\n",
    "    for e in d['annotations'][0]['result']:\n",
    "        if e['from_name']=='label':\n",
    "            if e['value']['labels'][0] in ['task']:\n",
    "                response['task'].append(e['value']['text'])\n",
    "            elif e['value']['labels'][0] in ['method']:\n",
    "                response['method'].append(e['value']['text'])\n",
    "            elif e['value']['labels'][0]=='SG_element_in_task':\n",
    "                response['SG_element_in_task'].append(e['value']['text'])\n",
    "        elif e['from_name']=='method_c':\n",
    "            response['method'].append(e['value']['text'][0])\n",
    "        elif e['from_name']=='task_c':\n",
    "            response['task'].append(e['value']['text'][0])\n",
    "    response['ID']=d['data']['ID']\n",
    "    obs.append(response)"
   ]
  },
  {
   "cell_type": "code",
   "execution_count": 14,
   "id": "9c71c0f1",
   "metadata": {},
   "outputs": [],
   "source": [
    "df=pd.DataFrame(obs)"
   ]
  },
  {
   "cell_type": "code",
   "execution_count": 15,
   "id": "c56bdbea",
   "metadata": {},
   "outputs": [],
   "source": [
    "df=df.loc[df.ID.isin(test_set_labeled.ID.unique())]"
   ]
  },
  {
   "cell_type": "code",
   "execution_count": 16,
   "id": "f638ec5c",
   "metadata": {},
   "outputs": [],
   "source": [
    "#df=df.loc[df.ID.isin(df_usr1.ID.unique())]"
   ]
  },
  {
   "cell_type": "code",
   "execution_count": 17,
   "id": "81d4b627",
   "metadata": {},
   "outputs": [],
   "source": [
    "df=df.rename(columns={'task':'gold_tasks','method':'gold_methods'})"
   ]
  },
  {
   "cell_type": "code",
   "execution_count": 18,
   "id": "54c4ec3d",
   "metadata": {},
   "outputs": [
    {
     "data": {
      "text/plain": [
       "(251, 4)"
      ]
     },
     "execution_count": 18,
     "metadata": {},
     "output_type": "execute_result"
    }
   ],
   "source": [
    "df.shape"
   ]
  },
  {
   "cell_type": "code",
   "execution_count": 19,
   "id": "93a53eac",
   "metadata": {},
   "outputs": [],
   "source": [
    "df_final=df.merge(methods_gpt3,on=['ID']).merge(tasks_gpt3,on=['ID'])"
   ]
  },
  {
   "cell_type": "code",
   "execution_count": 20,
   "id": "a79dc5aa",
   "metadata": {},
   "outputs": [
    {
     "data": {
      "text/plain": [
       "(251, 6)"
      ]
     },
     "execution_count": 20,
     "metadata": {},
     "output_type": "execute_result"
    }
   ],
   "source": [
    "df_final.shape"
   ]
  },
  {
   "cell_type": "code",
   "execution_count": 21,
   "id": "41405e47",
   "metadata": {
    "scrolled": false
   },
   "outputs": [
    {
     "name": "stderr",
     "output_type": "stream",
     "text": [
      "Warning: Empty reference sentence detected; setting raw BERTScores to 0.\n",
      "Warning: Empty reference sentence detected; setting raw BERTScores to 0.\n",
      "Warning: Empty reference sentence detected; setting raw BERTScores to 0.\n",
      "Warning: Empty reference sentence detected; setting raw BERTScores to 0.\n",
      "Warning: Empty reference sentence detected; setting raw BERTScores to 0.\n",
      "Warning: Empty reference sentence detected; setting raw BERTScores to 0.\n",
      "Warning: Empty reference sentence detected; setting raw BERTScores to 0.\n",
      "Warning: Empty reference sentence detected; setting raw BERTScores to 0.\n",
      "Warning: Empty reference sentence detected; setting raw BERTScores to 0.\n",
      "Warning: Empty reference sentence detected; setting raw BERTScores to 0.\n",
      "Warning: Empty reference sentence detected; setting raw BERTScores to 0.\n",
      "Warning: Empty reference sentence detected; setting raw BERTScores to 0.\n",
      "Warning: Empty reference sentence detected; setting raw BERTScores to 0.\n",
      "Warning: Empty reference sentence detected; setting raw BERTScores to 0.\n",
      "Warning: Empty reference sentence detected; setting raw BERTScores to 0.\n"
     ]
    }
   ],
   "source": [
    "sq_methods_pred=[]\n",
    "sq_methods_ref=[]\n",
    "sq_tasks_pred=[]\n",
    "sq_tasks_ref=[]\n",
    "for i,d in df_final.iterrows():\n",
    "    preds_t=[]\n",
    "    preds_m=[]\n",
    "    refs_t=[]\n",
    "    refs_m=[]\n",
    "    pred_method={}\n",
    "    ref_method={}\n",
    "    pred_task={}\n",
    "    ref_task={}\n",
    "    refs_t=copy.deepcopy(list(set(d['gold_tasks'])))\n",
    "    #refs_t.append(', '.join(d['gold_tasks']))\n",
    "    preds_t=d['task']\n",
    "    results_t = bertscore.compute(predictions=[', '.join(preds_t)], references=[', '.join(refs_t)],  model_type=\"distilbert-base-uncased\")\n",
    "    refs_m=copy.deepcopy(list(set(d['gold_methods'])))\n",
    "    preds_m=d['method']\n",
    "    #refs_m.append(', '.join(d['gold_methods']))\n",
    "    results_m = bertscore.compute(predictions=[', '.join(preds_m)], references=[', '.join(refs_m)],  model_type=\"distilbert-base-uncased\")\n",
    "    pred_method['prediction_text']=', '.join(d['method'])\n",
    "    pred_method['id']=d['ID']\n",
    "    ref_method['answer_start']=[1]\n",
    "    ref_method['text']=[copy.deepcopy(', '.join(list(set(d['gold_methods']))))]\n",
    "    #ref_method['text'].append(', '.join(d['gold_methods']))\n",
    "    ref_dict_m={'answers':ref_method,'id':d['ID']}\n",
    "    sq_methods_pred.append(pred_method)\n",
    "    sq_methods_ref.append(ref_dict_m)\n",
    "    pred_task['prediction_text']=', '.join(d['task'])\n",
    "    pred_task['id']=d['ID']\n",
    "    ref_task['answer_start']=[1]\n",
    "    ref_task['text']=[copy.deepcopy(', '.join(list(set(d['gold_tasks']))))]\n",
    "    #ref_task['text'].append(', '.join(d['gold_tasks']))\n",
    "    ref_dict={'answers':ref_task,'id':d['ID']}\n",
    "    sq_tasks_pred.append(pred_task)\n",
    "    sq_tasks_ref.append(ref_dict)\n",
    "    df_final.at[i,'bert_score_task']=results_t['f1'][0]\n",
    "    df_final.at[i,'bert_score_method']=results_m['f1'][0]\n",
    "    df_final.at[i,'bert_score_task_p']=results_t['precision'][0]\n",
    "    df_final.at[i,'bert_score_method_p']=results_m['precision'][0]\n",
    "    df_final.at[i,'bert_score_task_r']=results_t['recall'][0]\n",
    "    df_final.at[i,'bert_score_method_r']=results_m['recall'][0]\n",
    "    #if i==3:\n",
    "    #    break"
   ]
  },
  {
   "cell_type": "markdown",
   "id": "a1ffabee",
   "metadata": {},
   "source": [
    "## new refs"
   ]
  },
  {
   "cell_type": "code",
   "execution_count": 22,
   "id": "50344990",
   "metadata": {},
   "outputs": [
    {
     "data": {
      "text/html": [
       "<div>\n",
       "<style scoped>\n",
       "    .dataframe tbody tr th:only-of-type {\n",
       "        vertical-align: middle;\n",
       "    }\n",
       "\n",
       "    .dataframe tbody tr th {\n",
       "        vertical-align: top;\n",
       "    }\n",
       "\n",
       "    .dataframe thead th {\n",
       "        text-align: right;\n",
       "    }\n",
       "</style>\n",
       "<table border=\"1\" class=\"dataframe\">\n",
       "  <thead>\n",
       "    <tr style=\"text-align: right;\">\n",
       "      <th></th>\n",
       "      <th>bert_score_task</th>\n",
       "      <th>bert_score_task_p</th>\n",
       "      <th>bert_score_task_r</th>\n",
       "      <th>bert_score_method</th>\n",
       "      <th>bert_score_method_p</th>\n",
       "      <th>bert_score_method_r</th>\n",
       "    </tr>\n",
       "  </thead>\n",
       "  <tbody>\n",
       "    <tr>\n",
       "      <th>count</th>\n",
       "      <td>251.000000</td>\n",
       "      <td>251.000000</td>\n",
       "      <td>251.000000</td>\n",
       "      <td>251.000000</td>\n",
       "      <td>251.000000</td>\n",
       "      <td>251.000000</td>\n",
       "    </tr>\n",
       "    <tr>\n",
       "      <th>mean</th>\n",
       "      <td>0.846537</td>\n",
       "      <td>0.849782</td>\n",
       "      <td>0.845829</td>\n",
       "      <td>0.779509</td>\n",
       "      <td>0.793129</td>\n",
       "      <td>0.770018</td>\n",
       "    </tr>\n",
       "    <tr>\n",
       "      <th>std</th>\n",
       "      <td>0.126584</td>\n",
       "      <td>0.130700</td>\n",
       "      <td>0.130282</td>\n",
       "      <td>0.209024</td>\n",
       "      <td>0.216502</td>\n",
       "      <td>0.209427</td>\n",
       "    </tr>\n",
       "    <tr>\n",
       "      <th>min</th>\n",
       "      <td>0.000000</td>\n",
       "      <td>0.000000</td>\n",
       "      <td>0.000000</td>\n",
       "      <td>0.000000</td>\n",
       "      <td>0.000000</td>\n",
       "      <td>0.000000</td>\n",
       "    </tr>\n",
       "    <tr>\n",
       "      <th>25%</th>\n",
       "      <td>0.770662</td>\n",
       "      <td>0.764325</td>\n",
       "      <td>0.765881</td>\n",
       "      <td>0.720510</td>\n",
       "      <td>0.722997</td>\n",
       "      <td>0.715970</td>\n",
       "    </tr>\n",
       "    <tr>\n",
       "      <th>50%</th>\n",
       "      <td>0.844353</td>\n",
       "      <td>0.854298</td>\n",
       "      <td>0.840995</td>\n",
       "      <td>0.800789</td>\n",
       "      <td>0.802708</td>\n",
       "      <td>0.780216</td>\n",
       "    </tr>\n",
       "    <tr>\n",
       "      <th>75%</th>\n",
       "      <td>0.927946</td>\n",
       "      <td>0.956243</td>\n",
       "      <td>0.955311</td>\n",
       "      <td>0.895158</td>\n",
       "      <td>0.944155</td>\n",
       "      <td>0.885381</td>\n",
       "    </tr>\n",
       "    <tr>\n",
       "      <th>max</th>\n",
       "      <td>1.000000</td>\n",
       "      <td>1.000000</td>\n",
       "      <td>1.000000</td>\n",
       "      <td>1.000000</td>\n",
       "      <td>1.000000</td>\n",
       "      <td>1.000000</td>\n",
       "    </tr>\n",
       "  </tbody>\n",
       "</table>\n",
       "</div>"
      ],
      "text/plain": [
       "       bert_score_task  bert_score_task_p  bert_score_task_r  \\\n",
       "count       251.000000         251.000000         251.000000   \n",
       "mean          0.846537           0.849782           0.845829   \n",
       "std           0.126584           0.130700           0.130282   \n",
       "min           0.000000           0.000000           0.000000   \n",
       "25%           0.770662           0.764325           0.765881   \n",
       "50%           0.844353           0.854298           0.840995   \n",
       "75%           0.927946           0.956243           0.955311   \n",
       "max           1.000000           1.000000           1.000000   \n",
       "\n",
       "       bert_score_method  bert_score_method_p  bert_score_method_r  \n",
       "count         251.000000           251.000000           251.000000  \n",
       "mean            0.779509             0.793129             0.770018  \n",
       "std             0.209024             0.216502             0.209427  \n",
       "min             0.000000             0.000000             0.000000  \n",
       "25%             0.720510             0.722997             0.715970  \n",
       "50%             0.800789             0.802708             0.780216  \n",
       "75%             0.895158             0.944155             0.885381  \n",
       "max             1.000000             1.000000             1.000000  "
      ]
     },
     "execution_count": 22,
     "metadata": {},
     "output_type": "execute_result"
    }
   ],
   "source": [
    "## test\n",
    "df_final.loc[:,['bert_score_task','bert_score_task_p','bert_score_task_r','bert_score_method','bert_score_method_p','bert_score_method_r']].describe()"
   ]
  },
  {
   "cell_type": "code",
   "execution_count": 23,
   "id": "d8a2681f",
   "metadata": {},
   "outputs": [
    {
     "data": {
      "text/html": [
       "<div>\n",
       "<style scoped>\n",
       "    .dataframe tbody tr th:only-of-type {\n",
       "        vertical-align: middle;\n",
       "    }\n",
       "\n",
       "    .dataframe tbody tr th {\n",
       "        vertical-align: top;\n",
       "    }\n",
       "\n",
       "    .dataframe thead th {\n",
       "        text-align: right;\n",
       "    }\n",
       "</style>\n",
       "<table border=\"1\" class=\"dataframe\">\n",
       "  <thead>\n",
       "    <tr style=\"text-align: right;\">\n",
       "      <th></th>\n",
       "      <th>bert_score_task</th>\n",
       "      <th>bert_score_task_p</th>\n",
       "      <th>bert_score_task_r</th>\n",
       "      <th>bert_score_method</th>\n",
       "      <th>bert_score_method_p</th>\n",
       "      <th>bert_score_method_r</th>\n",
       "    </tr>\n",
       "  </thead>\n",
       "  <tbody>\n",
       "    <tr>\n",
       "      <th>count</th>\n",
       "      <td>251.000000</td>\n",
       "      <td>251.000000</td>\n",
       "      <td>251.000000</td>\n",
       "      <td>251.000000</td>\n",
       "      <td>251.000000</td>\n",
       "      <td>251.000000</td>\n",
       "    </tr>\n",
       "    <tr>\n",
       "      <th>mean</th>\n",
       "      <td>0.822901</td>\n",
       "      <td>0.816570</td>\n",
       "      <td>0.831548</td>\n",
       "      <td>0.750439</td>\n",
       "      <td>0.755597</td>\n",
       "      <td>0.748608</td>\n",
       "    </tr>\n",
       "    <tr>\n",
       "      <th>std</th>\n",
       "      <td>0.130174</td>\n",
       "      <td>0.133811</td>\n",
       "      <td>0.133300</td>\n",
       "      <td>0.203076</td>\n",
       "      <td>0.210065</td>\n",
       "      <td>0.203786</td>\n",
       "    </tr>\n",
       "    <tr>\n",
       "      <th>min</th>\n",
       "      <td>0.000000</td>\n",
       "      <td>0.000000</td>\n",
       "      <td>0.000000</td>\n",
       "      <td>0.000000</td>\n",
       "      <td>0.000000</td>\n",
       "      <td>0.000000</td>\n",
       "    </tr>\n",
       "    <tr>\n",
       "      <th>25%</th>\n",
       "      <td>0.738739</td>\n",
       "      <td>0.725715</td>\n",
       "      <td>0.746157</td>\n",
       "      <td>0.701617</td>\n",
       "      <td>0.696307</td>\n",
       "      <td>0.700566</td>\n",
       "    </tr>\n",
       "    <tr>\n",
       "      <th>50%</th>\n",
       "      <td>0.807494</td>\n",
       "      <td>0.795717</td>\n",
       "      <td>0.812928</td>\n",
       "      <td>0.755700</td>\n",
       "      <td>0.747851</td>\n",
       "      <td>0.755346</td>\n",
       "    </tr>\n",
       "    <tr>\n",
       "      <th>75%</th>\n",
       "      <td>0.916532</td>\n",
       "      <td>0.930807</td>\n",
       "      <td>0.953357</td>\n",
       "      <td>0.873388</td>\n",
       "      <td>0.901863</td>\n",
       "      <td>0.862068</td>\n",
       "    </tr>\n",
       "    <tr>\n",
       "      <th>max</th>\n",
       "      <td>1.000001</td>\n",
       "      <td>1.000001</td>\n",
       "      <td>1.000001</td>\n",
       "      <td>1.000000</td>\n",
       "      <td>1.000000</td>\n",
       "      <td>1.000000</td>\n",
       "    </tr>\n",
       "  </tbody>\n",
       "</table>\n",
       "</div>"
      ],
      "text/plain": [
       "       bert_score_task  bert_score_task_p  bert_score_task_r  \\\n",
       "count       251.000000         251.000000         251.000000   \n",
       "mean          0.822901           0.816570           0.831548   \n",
       "std           0.130174           0.133811           0.133300   \n",
       "min           0.000000           0.000000           0.000000   \n",
       "25%           0.738739           0.725715           0.746157   \n",
       "50%           0.807494           0.795717           0.812928   \n",
       "75%           0.916532           0.930807           0.953357   \n",
       "max           1.000001           1.000001           1.000001   \n",
       "\n",
       "       bert_score_method  bert_score_method_p  bert_score_method_r  \n",
       "count         251.000000           251.000000           251.000000  \n",
       "mean            0.750439             0.755597             0.748608  \n",
       "std             0.203076             0.210065             0.203786  \n",
       "min             0.000000             0.000000             0.000000  \n",
       "25%             0.701617             0.696307             0.700566  \n",
       "50%             0.755700             0.747851             0.755346  \n",
       "75%             0.873388             0.901863             0.862068  \n",
       "max             1.000000             1.000000             1.000000  "
      ]
     },
     "execution_count": 23,
     "metadata": {},
     "output_type": "execute_result"
    }
   ],
   "source": [
    "## bert\n",
    "df_final.loc[:,['bert_score_task','bert_score_task_p','bert_score_task_r','bert_score_method','bert_score_method_p','bert_score_method_r']].describe()"
   ]
  },
  {
   "cell_type": "code",
   "execution_count": 22,
   "id": "a39f860a",
   "metadata": {
    "scrolled": true
   },
   "outputs": [
    {
     "data": {
      "text/html": [
       "<div>\n",
       "<style scoped>\n",
       "    .dataframe tbody tr th:only-of-type {\n",
       "        vertical-align: middle;\n",
       "    }\n",
       "\n",
       "    .dataframe tbody tr th {\n",
       "        vertical-align: top;\n",
       "    }\n",
       "\n",
       "    .dataframe thead th {\n",
       "        text-align: right;\n",
       "    }\n",
       "</style>\n",
       "<table border=\"1\" class=\"dataframe\">\n",
       "  <thead>\n",
       "    <tr style=\"text-align: right;\">\n",
       "      <th></th>\n",
       "      <th>bert_score_task</th>\n",
       "      <th>bert_score_task_p</th>\n",
       "      <th>bert_score_task_r</th>\n",
       "      <th>bert_score_method</th>\n",
       "      <th>bert_score_method_p</th>\n",
       "      <th>bert_score_method_r</th>\n",
       "    </tr>\n",
       "  </thead>\n",
       "  <tbody>\n",
       "    <tr>\n",
       "      <th>count</th>\n",
       "      <td>251.000000</td>\n",
       "      <td>251.000000</td>\n",
       "      <td>251.000000</td>\n",
       "      <td>251.000000</td>\n",
       "      <td>251.000000</td>\n",
       "      <td>251.000000</td>\n",
       "    </tr>\n",
       "    <tr>\n",
       "      <th>mean</th>\n",
       "      <td>0.813914</td>\n",
       "      <td>0.817180</td>\n",
       "      <td>0.813370</td>\n",
       "      <td>0.764667</td>\n",
       "      <td>0.774199</td>\n",
       "      <td>0.758573</td>\n",
       "    </tr>\n",
       "    <tr>\n",
       "      <th>std</th>\n",
       "      <td>0.131256</td>\n",
       "      <td>0.134276</td>\n",
       "      <td>0.136525</td>\n",
       "      <td>0.208108</td>\n",
       "      <td>0.216194</td>\n",
       "      <td>0.207169</td>\n",
       "    </tr>\n",
       "    <tr>\n",
       "      <th>min</th>\n",
       "      <td>0.000000</td>\n",
       "      <td>0.000000</td>\n",
       "      <td>0.000000</td>\n",
       "      <td>0.000000</td>\n",
       "      <td>0.000000</td>\n",
       "      <td>0.000000</td>\n",
       "    </tr>\n",
       "    <tr>\n",
       "      <th>25%</th>\n",
       "      <td>0.724325</td>\n",
       "      <td>0.723986</td>\n",
       "      <td>0.725481</td>\n",
       "      <td>0.707466</td>\n",
       "      <td>0.705819</td>\n",
       "      <td>0.711994</td>\n",
       "    </tr>\n",
       "    <tr>\n",
       "      <th>50%</th>\n",
       "      <td>0.801688</td>\n",
       "      <td>0.797297</td>\n",
       "      <td>0.790870</td>\n",
       "      <td>0.762037</td>\n",
       "      <td>0.772338</td>\n",
       "      <td>0.763397</td>\n",
       "    </tr>\n",
       "    <tr>\n",
       "      <th>75%</th>\n",
       "      <td>0.903407</td>\n",
       "      <td>0.918530</td>\n",
       "      <td>0.921604</td>\n",
       "      <td>0.885452</td>\n",
       "      <td>0.934655</td>\n",
       "      <td>0.867019</td>\n",
       "    </tr>\n",
       "    <tr>\n",
       "      <th>max</th>\n",
       "      <td>1.000001</td>\n",
       "      <td>1.000001</td>\n",
       "      <td>1.000001</td>\n",
       "      <td>1.000000</td>\n",
       "      <td>1.000000</td>\n",
       "      <td>1.000000</td>\n",
       "    </tr>\n",
       "  </tbody>\n",
       "</table>\n",
       "</div>"
      ],
      "text/plain": [
       "       bert_score_task  bert_score_task_p  bert_score_task_r  \\\n",
       "count       251.000000         251.000000         251.000000   \n",
       "mean          0.813914           0.817180           0.813370   \n",
       "std           0.131256           0.134276           0.136525   \n",
       "min           0.000000           0.000000           0.000000   \n",
       "25%           0.724325           0.723986           0.725481   \n",
       "50%           0.801688           0.797297           0.790870   \n",
       "75%           0.903407           0.918530           0.921604   \n",
       "max           1.000001           1.000001           1.000001   \n",
       "\n",
       "       bert_score_method  bert_score_method_p  bert_score_method_r  \n",
       "count         251.000000           251.000000           251.000000  \n",
       "mean            0.764667             0.774199             0.758573  \n",
       "std             0.208108             0.216194             0.207169  \n",
       "min             0.000000             0.000000             0.000000  \n",
       "25%             0.707466             0.705819             0.711994  \n",
       "50%             0.762037             0.772338             0.763397  \n",
       "75%             0.885452             0.934655             0.867019  \n",
       "max             1.000000             1.000000             1.000000  "
      ]
     },
     "execution_count": 22,
     "metadata": {},
     "output_type": "execute_result"
    }
   ],
   "source": [
    "## roberta\n",
    "df_final.loc[:,['bert_score_task','bert_score_task_p','bert_score_task_r','bert_score_method','bert_score_method_p','bert_score_method_r']].describe()"
   ]
  },
  {
   "cell_type": "code",
   "execution_count": 22,
   "id": "9fb5c521",
   "metadata": {},
   "outputs": [
    {
     "data": {
      "text/html": [
       "<div>\n",
       "<style scoped>\n",
       "    .dataframe tbody tr th:only-of-type {\n",
       "        vertical-align: middle;\n",
       "    }\n",
       "\n",
       "    .dataframe tbody tr th {\n",
       "        vertical-align: top;\n",
       "    }\n",
       "\n",
       "    .dataframe thead th {\n",
       "        text-align: right;\n",
       "    }\n",
       "</style>\n",
       "<table border=\"1\" class=\"dataframe\">\n",
       "  <thead>\n",
       "    <tr style=\"text-align: right;\">\n",
       "      <th></th>\n",
       "      <th>bert_score_task</th>\n",
       "      <th>bert_score_task_p</th>\n",
       "      <th>bert_score_task_r</th>\n",
       "      <th>bert_score_method</th>\n",
       "      <th>bert_score_method_p</th>\n",
       "      <th>bert_score_method_r</th>\n",
       "    </tr>\n",
       "  </thead>\n",
       "  <tbody>\n",
       "    <tr>\n",
       "      <th>count</th>\n",
       "      <td>251.000000</td>\n",
       "      <td>251.000000</td>\n",
       "      <td>251.000000</td>\n",
       "      <td>251.000000</td>\n",
       "      <td>251.000000</td>\n",
       "      <td>251.000000</td>\n",
       "    </tr>\n",
       "    <tr>\n",
       "      <th>mean</th>\n",
       "      <td>0.803627</td>\n",
       "      <td>0.806096</td>\n",
       "      <td>0.803534</td>\n",
       "      <td>0.756241</td>\n",
       "      <td>0.751977</td>\n",
       "      <td>0.763300</td>\n",
       "    </tr>\n",
       "    <tr>\n",
       "      <th>std</th>\n",
       "      <td>0.125885</td>\n",
       "      <td>0.128406</td>\n",
       "      <td>0.131280</td>\n",
       "      <td>0.203369</td>\n",
       "      <td>0.206775</td>\n",
       "      <td>0.206073</td>\n",
       "    </tr>\n",
       "    <tr>\n",
       "      <th>min</th>\n",
       "      <td>0.000000</td>\n",
       "      <td>0.000000</td>\n",
       "      <td>0.000000</td>\n",
       "      <td>0.000000</td>\n",
       "      <td>0.000000</td>\n",
       "      <td>0.000000</td>\n",
       "    </tr>\n",
       "    <tr>\n",
       "      <th>25%</th>\n",
       "      <td>0.721920</td>\n",
       "      <td>0.725548</td>\n",
       "      <td>0.719768</td>\n",
       "      <td>0.709259</td>\n",
       "      <td>0.690596</td>\n",
       "      <td>0.716571</td>\n",
       "    </tr>\n",
       "    <tr>\n",
       "      <th>50%</th>\n",
       "      <td>0.788053</td>\n",
       "      <td>0.781762</td>\n",
       "      <td>0.790225</td>\n",
       "      <td>0.761000</td>\n",
       "      <td>0.765336</td>\n",
       "      <td>0.767456</td>\n",
       "    </tr>\n",
       "    <tr>\n",
       "      <th>75%</th>\n",
       "      <td>0.889561</td>\n",
       "      <td>0.894909</td>\n",
       "      <td>0.906817</td>\n",
       "      <td>0.882352</td>\n",
       "      <td>0.888646</td>\n",
       "      <td>0.885876</td>\n",
       "    </tr>\n",
       "    <tr>\n",
       "      <th>max</th>\n",
       "      <td>1.000000</td>\n",
       "      <td>1.000000</td>\n",
       "      <td>1.000000</td>\n",
       "      <td>1.000000</td>\n",
       "      <td>1.000000</td>\n",
       "      <td>1.000000</td>\n",
       "    </tr>\n",
       "  </tbody>\n",
       "</table>\n",
       "</div>"
      ],
      "text/plain": [
       "       bert_score_task  bert_score_task_p  bert_score_task_r  \\\n",
       "count       251.000000         251.000000         251.000000   \n",
       "mean          0.803627           0.806096           0.803534   \n",
       "std           0.125885           0.128406           0.131280   \n",
       "min           0.000000           0.000000           0.000000   \n",
       "25%           0.721920           0.725548           0.719768   \n",
       "50%           0.788053           0.781762           0.790225   \n",
       "75%           0.889561           0.894909           0.906817   \n",
       "max           1.000000           1.000000           1.000000   \n",
       "\n",
       "       bert_score_method  bert_score_method_p  bert_score_method_r  \n",
       "count         251.000000           251.000000           251.000000  \n",
       "mean            0.756241             0.751977             0.763300  \n",
       "std             0.203369             0.206775             0.206073  \n",
       "min             0.000000             0.000000             0.000000  \n",
       "25%             0.709259             0.690596             0.716571  \n",
       "50%             0.761000             0.765336             0.767456  \n",
       "75%             0.882352             0.888646             0.885876  \n",
       "max             1.000000             1.000000             1.000000  "
      ]
     },
     "execution_count": 22,
     "metadata": {},
     "output_type": "execute_result"
    }
   ],
   "source": [
    "## deberta\n",
    "df_final.loc[:,['bert_score_task','bert_score_task_p','bert_score_task_r','bert_score_method','bert_score_method_p','bert_score_method_r']].describe()"
   ]
  },
  {
   "cell_type": "code",
   "execution_count": 20,
   "id": "9e2d14df",
   "metadata": {},
   "outputs": [
    {
     "data": {
      "text/html": [
       "<div>\n",
       "<style scoped>\n",
       "    .dataframe tbody tr th:only-of-type {\n",
       "        vertical-align: middle;\n",
       "    }\n",
       "\n",
       "    .dataframe tbody tr th {\n",
       "        vertical-align: top;\n",
       "    }\n",
       "\n",
       "    .dataframe thead th {\n",
       "        text-align: right;\n",
       "    }\n",
       "</style>\n",
       "<table border=\"1\" class=\"dataframe\">\n",
       "  <thead>\n",
       "    <tr style=\"text-align: right;\">\n",
       "      <th></th>\n",
       "      <th>bert_score_task</th>\n",
       "      <th>bert_score_task_p</th>\n",
       "      <th>bert_score_task_r</th>\n",
       "      <th>bert_score_method</th>\n",
       "      <th>bert_score_method_p</th>\n",
       "      <th>bert_score_method_r</th>\n",
       "    </tr>\n",
       "  </thead>\n",
       "  <tbody>\n",
       "    <tr>\n",
       "      <th>count</th>\n",
       "      <td>148.000000</td>\n",
       "      <td>148.000000</td>\n",
       "      <td>148.000000</td>\n",
       "      <td>148.000000</td>\n",
       "      <td>148.000000</td>\n",
       "      <td>148.000000</td>\n",
       "    </tr>\n",
       "    <tr>\n",
       "      <th>mean</th>\n",
       "      <td>0.864270</td>\n",
       "      <td>0.856361</td>\n",
       "      <td>0.875250</td>\n",
       "      <td>0.781984</td>\n",
       "      <td>0.789812</td>\n",
       "      <td>0.777464</td>\n",
       "    </tr>\n",
       "    <tr>\n",
       "      <th>std</th>\n",
       "      <td>0.101583</td>\n",
       "      <td>0.111278</td>\n",
       "      <td>0.102421</td>\n",
       "      <td>0.182796</td>\n",
       "      <td>0.191288</td>\n",
       "      <td>0.181665</td>\n",
       "    </tr>\n",
       "    <tr>\n",
       "      <th>min</th>\n",
       "      <td>0.690875</td>\n",
       "      <td>0.653883</td>\n",
       "      <td>0.693537</td>\n",
       "      <td>0.000000</td>\n",
       "      <td>0.000000</td>\n",
       "      <td>0.000000</td>\n",
       "    </tr>\n",
       "    <tr>\n",
       "      <th>25%</th>\n",
       "      <td>0.766959</td>\n",
       "      <td>0.760829</td>\n",
       "      <td>0.773734</td>\n",
       "      <td>0.712723</td>\n",
       "      <td>0.714117</td>\n",
       "      <td>0.715195</td>\n",
       "    </tr>\n",
       "    <tr>\n",
       "      <th>50%</th>\n",
       "      <td>0.854298</td>\n",
       "      <td>0.837344</td>\n",
       "      <td>0.874330</td>\n",
       "      <td>0.784332</td>\n",
       "      <td>0.786143</td>\n",
       "      <td>0.760902</td>\n",
       "    </tr>\n",
       "    <tr>\n",
       "      <th>75%</th>\n",
       "      <td>0.966874</td>\n",
       "      <td>0.977267</td>\n",
       "      <td>0.979164</td>\n",
       "      <td>0.890677</td>\n",
       "      <td>0.930055</td>\n",
       "      <td>0.898305</td>\n",
       "    </tr>\n",
       "    <tr>\n",
       "      <th>max</th>\n",
       "      <td>1.000000</td>\n",
       "      <td>1.000000</td>\n",
       "      <td>1.000000</td>\n",
       "      <td>1.000000</td>\n",
       "      <td>1.000000</td>\n",
       "      <td>1.000000</td>\n",
       "    </tr>\n",
       "  </tbody>\n",
       "</table>\n",
       "</div>"
      ],
      "text/plain": [
       "       bert_score_task  bert_score_task_p  bert_score_task_r  \\\n",
       "count       148.000000         148.000000         148.000000   \n",
       "mean          0.864270           0.856361           0.875250   \n",
       "std           0.101583           0.111278           0.102421   \n",
       "min           0.690875           0.653883           0.693537   \n",
       "25%           0.766959           0.760829           0.773734   \n",
       "50%           0.854298           0.837344           0.874330   \n",
       "75%           0.966874           0.977267           0.979164   \n",
       "max           1.000000           1.000000           1.000000   \n",
       "\n",
       "       bert_score_method  bert_score_method_p  bert_score_method_r  \n",
       "count         148.000000           148.000000           148.000000  \n",
       "mean            0.781984             0.789812             0.777464  \n",
       "std             0.182796             0.191288             0.181665  \n",
       "min             0.000000             0.000000             0.000000  \n",
       "25%             0.712723             0.714117             0.715195  \n",
       "50%             0.784332             0.786143             0.760902  \n",
       "75%             0.890677             0.930055             0.898305  \n",
       "max             1.000000             1.000000             1.000000  "
      ]
     },
     "execution_count": 20,
     "metadata": {},
     "output_type": "execute_result"
    }
   ],
   "source": [
    "## davinci 3\n",
    "df_final.loc[:,['bert_score_task','bert_score_task_p','bert_score_task_r','bert_score_method','bert_score_method_p','bert_score_method_r']].describe()"
   ]
  },
  {
   "cell_type": "code",
   "execution_count": 23,
   "id": "a86e36d8",
   "metadata": {},
   "outputs": [
    {
     "data": {
      "text/html": [
       "<div>\n",
       "<style scoped>\n",
       "    .dataframe tbody tr th:only-of-type {\n",
       "        vertical-align: middle;\n",
       "    }\n",
       "\n",
       "    .dataframe tbody tr th {\n",
       "        vertical-align: top;\n",
       "    }\n",
       "\n",
       "    .dataframe thead th {\n",
       "        text-align: right;\n",
       "    }\n",
       "</style>\n",
       "<table border=\"1\" class=\"dataframe\">\n",
       "  <thead>\n",
       "    <tr style=\"text-align: right;\">\n",
       "      <th></th>\n",
       "      <th>bert_score_task</th>\n",
       "      <th>bert_score_task_p</th>\n",
       "      <th>bert_score_task_r</th>\n",
       "      <th>bert_score_method</th>\n",
       "      <th>bert_score_method_p</th>\n",
       "      <th>bert_score_method_r</th>\n",
       "    </tr>\n",
       "  </thead>\n",
       "  <tbody>\n",
       "    <tr>\n",
       "      <th>count</th>\n",
       "      <td>251.000000</td>\n",
       "      <td>251.000000</td>\n",
       "      <td>251.000000</td>\n",
       "      <td>251.000000</td>\n",
       "      <td>251.000000</td>\n",
       "      <td>251.000000</td>\n",
       "    </tr>\n",
       "    <tr>\n",
       "      <th>mean</th>\n",
       "      <td>0.846537</td>\n",
       "      <td>0.849782</td>\n",
       "      <td>0.845829</td>\n",
       "      <td>0.779509</td>\n",
       "      <td>0.793129</td>\n",
       "      <td>0.770018</td>\n",
       "    </tr>\n",
       "    <tr>\n",
       "      <th>std</th>\n",
       "      <td>0.126584</td>\n",
       "      <td>0.130700</td>\n",
       "      <td>0.130282</td>\n",
       "      <td>0.209024</td>\n",
       "      <td>0.216502</td>\n",
       "      <td>0.209427</td>\n",
       "    </tr>\n",
       "    <tr>\n",
       "      <th>min</th>\n",
       "      <td>0.000000</td>\n",
       "      <td>0.000000</td>\n",
       "      <td>0.000000</td>\n",
       "      <td>0.000000</td>\n",
       "      <td>0.000000</td>\n",
       "      <td>0.000000</td>\n",
       "    </tr>\n",
       "    <tr>\n",
       "      <th>25%</th>\n",
       "      <td>0.770662</td>\n",
       "      <td>0.764325</td>\n",
       "      <td>0.765881</td>\n",
       "      <td>0.720510</td>\n",
       "      <td>0.722997</td>\n",
       "      <td>0.715970</td>\n",
       "    </tr>\n",
       "    <tr>\n",
       "      <th>50%</th>\n",
       "      <td>0.844353</td>\n",
       "      <td>0.854298</td>\n",
       "      <td>0.840995</td>\n",
       "      <td>0.800789</td>\n",
       "      <td>0.802708</td>\n",
       "      <td>0.780216</td>\n",
       "    </tr>\n",
       "    <tr>\n",
       "      <th>75%</th>\n",
       "      <td>0.927946</td>\n",
       "      <td>0.956243</td>\n",
       "      <td>0.955311</td>\n",
       "      <td>0.895158</td>\n",
       "      <td>0.944155</td>\n",
       "      <td>0.885381</td>\n",
       "    </tr>\n",
       "    <tr>\n",
       "      <th>max</th>\n",
       "      <td>1.000000</td>\n",
       "      <td>1.000000</td>\n",
       "      <td>1.000000</td>\n",
       "      <td>1.000000</td>\n",
       "      <td>1.000000</td>\n",
       "      <td>1.000000</td>\n",
       "    </tr>\n",
       "  </tbody>\n",
       "</table>\n",
       "</div>"
      ],
      "text/plain": [
       "       bert_score_task  bert_score_task_p  bert_score_task_r  \\\n",
       "count       251.000000         251.000000         251.000000   \n",
       "mean          0.846537           0.849782           0.845829   \n",
       "std           0.126584           0.130700           0.130282   \n",
       "min           0.000000           0.000000           0.000000   \n",
       "25%           0.770662           0.764325           0.765881   \n",
       "50%           0.844353           0.854298           0.840995   \n",
       "75%           0.927946           0.956243           0.955311   \n",
       "max           1.000000           1.000000           1.000000   \n",
       "\n",
       "       bert_score_method  bert_score_method_p  bert_score_method_r  \n",
       "count         251.000000           251.000000           251.000000  \n",
       "mean            0.779509             0.793129             0.770018  \n",
       "std             0.209024             0.216502             0.209427  \n",
       "min             0.000000             0.000000             0.000000  \n",
       "25%             0.720510             0.722997             0.715970  \n",
       "50%             0.800789             0.802708             0.780216  \n",
       "75%             0.895158             0.944155             0.885381  \n",
       "max             1.000000             1.000000             1.000000  "
      ]
     },
     "execution_count": 23,
     "metadata": {},
     "output_type": "execute_result"
    }
   ],
   "source": [
    "## davinci 2 new\n",
    "df_final.loc[:,['bert_score_task','bert_score_task_p','bert_score_task_r','bert_score_method','bert_score_method_p','bert_score_method_r']].describe()"
   ]
  },
  {
   "cell_type": "code",
   "execution_count": 22,
   "id": "0e2c60d6",
   "metadata": {},
   "outputs": [
    {
     "data": {
      "text/html": [
       "<div>\n",
       "<style scoped>\n",
       "    .dataframe tbody tr th:only-of-type {\n",
       "        vertical-align: middle;\n",
       "    }\n",
       "\n",
       "    .dataframe tbody tr th {\n",
       "        vertical-align: top;\n",
       "    }\n",
       "\n",
       "    .dataframe thead th {\n",
       "        text-align: right;\n",
       "    }\n",
       "</style>\n",
       "<table border=\"1\" class=\"dataframe\">\n",
       "  <thead>\n",
       "    <tr style=\"text-align: right;\">\n",
       "      <th></th>\n",
       "      <th>bert_score_task</th>\n",
       "      <th>bert_score_task_p</th>\n",
       "      <th>bert_score_task_r</th>\n",
       "      <th>bert_score_method</th>\n",
       "      <th>bert_score_method_p</th>\n",
       "      <th>bert_score_method_r</th>\n",
       "    </tr>\n",
       "  </thead>\n",
       "  <tbody>\n",
       "    <tr>\n",
       "      <th>count</th>\n",
       "      <td>148.000000</td>\n",
       "      <td>148.000000</td>\n",
       "      <td>148.000000</td>\n",
       "      <td>148.000000</td>\n",
       "      <td>148.000000</td>\n",
       "      <td>148.000000</td>\n",
       "    </tr>\n",
       "    <tr>\n",
       "      <th>mean</th>\n",
       "      <td>0.688637</td>\n",
       "      <td>0.695748</td>\n",
       "      <td>0.682294</td>\n",
       "      <td>0.670660</td>\n",
       "      <td>0.680255</td>\n",
       "      <td>0.662417</td>\n",
       "    </tr>\n",
       "    <tr>\n",
       "      <th>std</th>\n",
       "      <td>0.033163</td>\n",
       "      <td>0.034766</td>\n",
       "      <td>0.037878</td>\n",
       "      <td>0.132141</td>\n",
       "      <td>0.135619</td>\n",
       "      <td>0.131989</td>\n",
       "    </tr>\n",
       "    <tr>\n",
       "      <th>min</th>\n",
       "      <td>0.612957</td>\n",
       "      <td>0.615123</td>\n",
       "      <td>0.596983</td>\n",
       "      <td>0.000000</td>\n",
       "      <td>0.000000</td>\n",
       "      <td>0.000000</td>\n",
       "    </tr>\n",
       "    <tr>\n",
       "      <th>25%</th>\n",
       "      <td>0.667830</td>\n",
       "      <td>0.671548</td>\n",
       "      <td>0.654122</td>\n",
       "      <td>0.661428</td>\n",
       "      <td>0.665533</td>\n",
       "      <td>0.649383</td>\n",
       "    </tr>\n",
       "    <tr>\n",
       "      <th>50%</th>\n",
       "      <td>0.689084</td>\n",
       "      <td>0.695649</td>\n",
       "      <td>0.680825</td>\n",
       "      <td>0.691087</td>\n",
       "      <td>0.699459</td>\n",
       "      <td>0.681993</td>\n",
       "    </tr>\n",
       "    <tr>\n",
       "      <th>75%</th>\n",
       "      <td>0.714860</td>\n",
       "      <td>0.717431</td>\n",
       "      <td>0.713611</td>\n",
       "      <td>0.716944</td>\n",
       "      <td>0.728929</td>\n",
       "      <td>0.713543</td>\n",
       "    </tr>\n",
       "    <tr>\n",
       "      <th>max</th>\n",
       "      <td>0.759717</td>\n",
       "      <td>0.780435</td>\n",
       "      <td>0.765326</td>\n",
       "      <td>0.810814</td>\n",
       "      <td>0.823473</td>\n",
       "      <td>0.798538</td>\n",
       "    </tr>\n",
       "  </tbody>\n",
       "</table>\n",
       "</div>"
      ],
      "text/plain": [
       "       bert_score_task  bert_score_task_p  bert_score_task_r  \\\n",
       "count       148.000000         148.000000         148.000000   \n",
       "mean          0.688637           0.695748           0.682294   \n",
       "std           0.033163           0.034766           0.037878   \n",
       "min           0.612957           0.615123           0.596983   \n",
       "25%           0.667830           0.671548           0.654122   \n",
       "50%           0.689084           0.695649           0.680825   \n",
       "75%           0.714860           0.717431           0.713611   \n",
       "max           0.759717           0.780435           0.765326   \n",
       "\n",
       "       bert_score_method  bert_score_method_p  bert_score_method_r  \n",
       "count         148.000000           148.000000           148.000000  \n",
       "mean            0.670660             0.680255             0.662417  \n",
       "std             0.132141             0.135619             0.131989  \n",
       "min             0.000000             0.000000             0.000000  \n",
       "25%             0.661428             0.665533             0.649383  \n",
       "50%             0.691087             0.699459             0.681993  \n",
       "75%             0.716944             0.728929             0.713543  \n",
       "max             0.810814             0.823473             0.798538  "
      ]
     },
     "execution_count": 22,
     "metadata": {},
     "output_type": "execute_result"
    }
   ],
   "source": [
    "## random\n",
    "df_final.loc[:,['bert_score_task','bert_score_task_p','bert_score_task_r','bert_score_method','bert_score_method_p','bert_score_method_r']].describe()"
   ]
  },
  {
   "cell_type": "markdown",
   "id": "6ca6f0fe",
   "metadata": {},
   "source": [
    "## test  single"
   ]
  },
  {
   "cell_type": "code",
   "execution_count": 24,
   "id": "cdfd7002",
   "metadata": {
    "scrolled": true
   },
   "outputs": [
    {
     "data": {
      "text/plain": [
       "{'exact_match': 19.12350597609562, 'f1': 43.94038040662075}"
      ]
     },
     "execution_count": 24,
     "metadata": {},
     "output_type": "execute_result"
    }
   ],
   "source": [
    "results_t = squad_metric.compute(predictions=sq_tasks_pred, references=sq_tasks_ref)\n",
    "results_t"
   ]
  },
  {
   "cell_type": "code",
   "execution_count": 25,
   "id": "09d23bad",
   "metadata": {},
   "outputs": [
    {
     "data": {
      "text/plain": [
       "{'exact_match': 11.55378486055777, 'f1': 32.0457783612836}"
      ]
     },
     "execution_count": 25,
     "metadata": {},
     "output_type": "execute_result"
    }
   ],
   "source": [
    "results_m = squad_metric.compute(predictions=sq_methods_pred, references=sq_methods_ref)\n",
    "results_m"
   ]
  },
  {
   "cell_type": "markdown",
   "id": "32cfd24d",
   "metadata": {},
   "source": [
    "## bert  single"
   ]
  },
  {
   "cell_type": "code",
   "execution_count": 24,
   "id": "fa70c103",
   "metadata": {
    "scrolled": true
   },
   "outputs": [
    {
     "data": {
      "text/plain": [
       "{'exact_match': 15.936254980079681, 'f1': 35.07567593406898}"
      ]
     },
     "execution_count": 24,
     "metadata": {},
     "output_type": "execute_result"
    }
   ],
   "source": [
    "results_t = squad_metric.compute(predictions=sq_tasks_pred, references=sq_tasks_ref)\n",
    "results_t"
   ]
  },
  {
   "cell_type": "code",
   "execution_count": 25,
   "id": "1d68d0d5",
   "metadata": {},
   "outputs": [
    {
     "data": {
      "text/plain": [
       "{'exact_match': 4.382470119521912, 'f1': 23.08060231308414}"
      ]
     },
     "execution_count": 25,
     "metadata": {},
     "output_type": "execute_result"
    }
   ],
   "source": [
    "results_m = squad_metric.compute(predictions=sq_methods_pred, references=sq_methods_ref)\n",
    "results_m"
   ]
  },
  {
   "cell_type": "markdown",
   "id": "87c3e7a6",
   "metadata": {},
   "source": [
    "## roberta  single"
   ]
  },
  {
   "cell_type": "code",
   "execution_count": 23,
   "id": "2a2884cd",
   "metadata": {
    "scrolled": true
   },
   "outputs": [
    {
     "data": {
      "text/plain": [
       "{'exact_match': 14.741035856573705, 'f1': 33.433708571979025}"
      ]
     },
     "execution_count": 23,
     "metadata": {},
     "output_type": "execute_result"
    }
   ],
   "source": [
    "results_t = squad_metric.compute(predictions=sq_tasks_pred, references=sq_tasks_ref)\n",
    "results_t"
   ]
  },
  {
   "cell_type": "code",
   "execution_count": 24,
   "id": "26037d60",
   "metadata": {},
   "outputs": [
    {
     "data": {
      "text/plain": [
       "{'exact_match': 9.56175298804781, 'f1': 27.29846299752432}"
      ]
     },
     "execution_count": 24,
     "metadata": {},
     "output_type": "execute_result"
    }
   ],
   "source": [
    "results_m = squad_metric.compute(predictions=sq_methods_pred, references=sq_methods_ref)\n",
    "results_m"
   ]
  },
  {
   "cell_type": "markdown",
   "id": "125b1f77",
   "metadata": {},
   "source": [
    "## deberta  single"
   ]
  },
  {
   "cell_type": "code",
   "execution_count": 23,
   "id": "1dd6281e",
   "metadata": {
    "scrolled": true
   },
   "outputs": [
    {
     "data": {
      "text/plain": [
       "{'exact_match': 11.155378486055778, 'f1': 31.284398757848614}"
      ]
     },
     "execution_count": 23,
     "metadata": {},
     "output_type": "execute_result"
    }
   ],
   "source": [
    "results_t = squad_metric.compute(predictions=sq_tasks_pred, references=sq_tasks_ref)\n",
    "results_t"
   ]
  },
  {
   "cell_type": "code",
   "execution_count": 24,
   "id": "5a545b5c",
   "metadata": {},
   "outputs": [
    {
     "data": {
      "text/plain": [
       "{'exact_match': 4.780876494023905, 'f1': 26.05364464509925}"
      ]
     },
     "execution_count": 24,
     "metadata": {},
     "output_type": "execute_result"
    }
   ],
   "source": [
    "results_m = squad_metric.compute(predictions=sq_methods_pred, references=sq_methods_ref)\n",
    "results_m"
   ]
  },
  {
   "cell_type": "markdown",
   "id": "93e3cea8",
   "metadata": {},
   "source": [
    "## davinci 3 single"
   ]
  },
  {
   "cell_type": "code",
   "execution_count": 21,
   "id": "a8406e94",
   "metadata": {
    "scrolled": true
   },
   "outputs": [
    {
     "data": {
      "text/plain": [
       "{'exact_match': 23.64864864864865, 'f1': 48.06050236197295}"
      ]
     },
     "execution_count": 21,
     "metadata": {},
     "output_type": "execute_result"
    }
   ],
   "source": [
    "results_t = squad_metric.compute(predictions=sq_tasks_pred, references=sq_tasks_ref)\n",
    "results_t"
   ]
  },
  {
   "cell_type": "code",
   "execution_count": 22,
   "id": "90aa7474",
   "metadata": {},
   "outputs": [
    {
     "data": {
      "text/plain": [
       "{'exact_match': 10.135135135135135, 'f1': 29.432106653468878}"
      ]
     },
     "execution_count": 22,
     "metadata": {},
     "output_type": "execute_result"
    }
   ],
   "source": [
    "results_m = squad_metric.compute(predictions=sq_methods_pred, references=sq_methods_ref)\n",
    "results_m"
   ]
  },
  {
   "cell_type": "markdown",
   "id": "832537b4",
   "metadata": {},
   "source": [
    "## davinci2 "
   ]
  },
  {
   "cell_type": "code",
   "execution_count": 26,
   "id": "7d5f46fe",
   "metadata": {
    "scrolled": false
   },
   "outputs": [
    {
     "data": {
      "text/plain": [
       "{'exact_match': 19.12350597609562, 'f1': 43.94038040662075}"
      ]
     },
     "execution_count": 26,
     "metadata": {},
     "output_type": "execute_result"
    }
   ],
   "source": [
    "results_t = squad_metric.compute(predictions=sq_tasks_pred, references=sq_tasks_ref)\n",
    "results_t"
   ]
  },
  {
   "cell_type": "code",
   "execution_count": 27,
   "id": "8514595e",
   "metadata": {},
   "outputs": [
    {
     "data": {
      "text/plain": [
       "{'exact_match': 11.55378486055777, 'f1': 32.0457783612836}"
      ]
     },
     "execution_count": 27,
     "metadata": {},
     "output_type": "execute_result"
    }
   ],
   "source": [
    "results_m = squad_metric.compute(predictions=sq_methods_pred, references=sq_methods_ref)\n",
    "results_m"
   ]
  },
  {
   "cell_type": "markdown",
   "id": "22cd4ab1",
   "metadata": {},
   "source": [
    "## random"
   ]
  },
  {
   "cell_type": "code",
   "execution_count": 23,
   "id": "ff852a5e",
   "metadata": {
    "scrolled": true
   },
   "outputs": [
    {
     "data": {
      "text/plain": [
       "{'exact_match': 0.0, 'f1': 0.0}"
      ]
     },
     "execution_count": 23,
     "metadata": {},
     "output_type": "execute_result"
    }
   ],
   "source": [
    "results_t = squad_metric.compute(predictions=sq_tasks_pred, references=sq_tasks_ref)\n",
    "results_t"
   ]
  },
  {
   "cell_type": "code",
   "execution_count": 24,
   "id": "1f6a9046",
   "metadata": {},
   "outputs": [
    {
     "data": {
      "text/plain": [
       "{'exact_match': 0.0, 'f1': 0.0}"
      ]
     },
     "execution_count": 24,
     "metadata": {},
     "output_type": "execute_result"
    }
   ],
   "source": [
    "results_m = squad_metric.compute(predictions=sq_methods_pred, references=sq_methods_ref)\n",
    "results_m"
   ]
  },
  {
   "cell_type": "markdown",
   "id": "e349196b",
   "metadata": {},
   "source": [
    "## davinci2 multiple"
   ]
  },
  {
   "cell_type": "code",
   "execution_count": 16,
   "id": "8334cacc",
   "metadata": {
    "scrolled": true
   },
   "outputs": [
    {
     "data": {
      "text/plain": [
       "{'exact_match': 0.970873786407767, 'f1': 28.917341146067596}"
      ]
     },
     "execution_count": 16,
     "metadata": {},
     "output_type": "execute_result"
    }
   ],
   "source": [
    "results_t = squad_metric.compute(predictions=sq_tasks_pred, references=sq_tasks_ref)\n",
    "results_t"
   ]
  },
  {
   "cell_type": "code",
   "execution_count": 17,
   "id": "50e408cb",
   "metadata": {},
   "outputs": [
    {
     "data": {
      "text/plain": [
       "{'exact_match': 0.970873786407767, 'f1': 29.629456304213576}"
      ]
     },
     "execution_count": 17,
     "metadata": {},
     "output_type": "execute_result"
    }
   ],
   "source": [
    "results_m = squad_metric.compute(predictions=sq_methods_pred, references=sq_methods_ref)\n",
    "results_m"
   ]
  },
  {
   "cell_type": "code",
   "execution_count": null,
   "id": "ada0dc3e",
   "metadata": {},
   "outputs": [],
   "source": []
  }
 ],
 "metadata": {
  "kernelspec": {
   "display_name": "Python 3 (ipykernel)",
   "language": "python",
   "name": "python3"
  },
  "language_info": {
   "codemirror_mode": {
    "name": "ipython",
    "version": 3
   },
   "file_extension": ".py",
   "mimetype": "text/x-python",
   "name": "python",
   "nbconvert_exporter": "python",
   "pygments_lexer": "ipython3",
   "version": "3.7.11"
  }
 },
 "nbformat": 4,
 "nbformat_minor": 5
}
