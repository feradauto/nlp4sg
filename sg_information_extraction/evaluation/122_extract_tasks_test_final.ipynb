{
 "cells": [
  {
   "cell_type": "code",
   "execution_count": 1,
   "id": "d4cba533",
   "metadata": {},
   "outputs": [],
   "source": [
    "import time\n",
    "import os\n",
    "import pandas as pd\n",
    "import numpy as np\n",
    "import openai\n",
    "import time\n",
    "openai.api_key = os.getenv(\"OPENAI_API_KEY\")"
   ]
  },
  {
   "cell_type": "code",
   "execution_count": 2,
   "id": "075e835d",
   "metadata": {},
   "outputs": [],
   "source": [
    "data_path=\"../../data/\"\n",
    "output_path=\"../../outputs/\"\n",
    "test_set_complete=pd.read_csv(output_path+\"general/test_set_final.csv\")\n",
    "#train_set=pd.read_csv(output_path+\"general/train_set_final.csv\")\n",
    "#dev_set=pd.read_csv(output_path+\"general/dev_set_final.csv\")\n",
    "df=pd.concat([test_set_complete.iloc[:2000]]).reset_index(drop=True)"
   ]
  },
  {
   "cell_type": "code",
   "execution_count": 3,
   "id": "7c80e369",
   "metadata": {},
   "outputs": [],
   "source": [
    "df=df.assign(abstract_for_prompt=np.where(df.abstract_clean!=\"\",\n",
    "                                                   \"Abstract: \"+df.abstract_clean,\"\"))\n",
    "df=df.assign(acknowledgments_for_prompt=np.where(df.acknowledgments_clean!=\"\",\n",
    "                                                   \"\\nAcknowledgments: \"+df.acknowledgments_clean,\"\"))\n",
    "df=df.assign(abstract_for_prompt=df.abstract_for_prompt.fillna(\"\"))\n",
    "df=df.assign(paper_text=\"Title: \"+df.title_clean+\"\\n\"+df.abstract_for_prompt)"
   ]
  },
  {
   "cell_type": "markdown",
   "id": "67459e3f",
   "metadata": {},
   "source": [
    "ack_preprompt=\"\"\"Identify the NLP task that this paper is dealing with. Select a text span that is an appropriate answer, or if no span serves as a good answer, just come up with a phrase.\"\"\"\n",
    "\n",
    "ack_postprompt=\"\"\"The NLP task addressed in this paper is:\"\"\""
   ]
  },
  {
   "cell_type": "code",
   "execution_count": 4,
   "id": "ea16f640",
   "metadata": {},
   "outputs": [],
   "source": [
    "ack_preprompt=\"\"\"Identify the NLP task(s) that this paper is dealing with. Select a text span that is an appropriate answer, or if no span serves as a good answer, just come up with a phrase. Examples of tasks are: fake news detection, name entity recognition, question answering, etc.\"\"\"\n",
    "\n",
    "ack_postprompt=\"\"\"The primary NLP task addressed in this paper is:\"\"\""
   ]
  },
  {
   "cell_type": "code",
   "execution_count": 5,
   "id": "d3d1078e",
   "metadata": {},
   "outputs": [],
   "source": [
    "df=df.assign(task_prompt_text=ack_preprompt+\"\\n\"+df.paper_text+\"\\n\"+ack_postprompt)"
   ]
  },
  {
   "cell_type": "code",
   "execution_count": 6,
   "id": "cda4a585",
   "metadata": {
    "scrolled": true
   },
   "outputs": [],
   "source": [
    "df=df.loc[df.label==1]"
   ]
  },
  {
   "cell_type": "markdown",
   "id": "8573b5be",
   "metadata": {},
   "source": [
    "## cost estimation"
   ]
  },
  {
   "cell_type": "markdown",
   "id": "c4609bab",
   "metadata": {},
   "source": [
    "## requests"
   ]
  },
  {
   "cell_type": "markdown",
   "id": "7bff3d01",
   "metadata": {},
   "source": [
    "gold=pd.read_json(\"annotation_20230114.json\")\n",
    "\n",
    "gold=pd.DataFrame(gold['data'].apply(pd.Series))\n",
    "\n",
    "df=df.loc[df.ID.isin(gold.ID.unique())].reset_index(drop=True)"
   ]
  },
  {
   "cell_type": "code",
   "execution_count": 7,
   "id": "7b3a4ece",
   "metadata": {
    "scrolled": true
   },
   "outputs": [
    {
     "data": {
      "text/plain": [
       "(251, 21)"
      ]
     },
     "execution_count": 7,
     "metadata": {},
     "output_type": "execute_result"
    }
   ],
   "source": [
    "df.shape"
   ]
  },
  {
   "cell_type": "code",
   "execution_count": null,
   "id": "cd7492f7",
   "metadata": {},
   "outputs": [],
   "source": [
    "for i,d in df.iterrows():\n",
    "    input_prompt=d['task_prompt_text']\n",
    "    print(input_prompt)\n",
    "    print(\"Gold tasks: \",d['task_annotation'])\n",
    "    print(\"Gold methods: \",d['method_annotation'])\n",
    "    print(\"###################################\")"
   ]
  },
  {
   "cell_type": "code",
   "execution_count": null,
   "id": "166bed4c",
   "metadata": {},
   "outputs": [],
   "source": [
    "for i,d in df.iterrows():\n",
    "    input_prompt=d['task_prompt_text']\n",
    "    completion = openai.Completion.create(engine=\"text-davinci-002\", prompt=input_prompt,temperature=0,max_tokens=60,logprobs=1)\n",
    "    df.loc[i,'GPT3_response']=completion.choices[0].text\n",
    "\n",
    "    print(input_prompt)\n",
    "    print(completion.choices[0].text)\n",
    "    print(\"Gold tasks: \",d['task_annotation'])\n",
    "    print(\"Gold methods: \",d['method_annotation'])\n",
    "    print(\"################################\")\n",
    "    time.sleep(3)"
   ]
  },
  {
   "cell_type": "code",
   "execution_count": 10,
   "id": "5492bc4e",
   "metadata": {},
   "outputs": [
    {
     "name": "stderr",
     "output_type": "stream",
     "text": [
      "/tmp/ipykernel_1911340/1942881313.py:2: FutureWarning: The default value of regex will change from True to False in a future version.\n",
      "  df['clean_response']=df['clean_response'].str.replace(r'\\.$', '')\n"
     ]
    }
   ],
   "source": [
    "df=df.assign(clean_response=df.GPT3_response.replace(\"\\n\",\"\",regex=True))\n",
    "df['clean_response']=df['clean_response'].str.replace(r'\\.$', '')"
   ]
  },
  {
   "cell_type": "code",
   "execution_count": 11,
   "id": "a8307e09",
   "metadata": {},
   "outputs": [],
   "source": [
    "df.to_csv(output_path+\"sg_ie/gpt3/GPT3_responses_task_davinci2_coarse2.csv\",index=False)"
   ]
  },
  {
   "cell_type": "code",
   "execution_count": null,
   "id": "29e9a2c7",
   "metadata": {},
   "outputs": [],
   "source": []
  }
 ],
 "metadata": {
  "kernelspec": {
   "display_name": "Python 3 (ipykernel)",
   "language": "python",
   "name": "python3"
  },
  "language_info": {
   "codemirror_mode": {
    "name": "ipython",
    "version": 3
   },
   "file_extension": ".py",
   "mimetype": "text/x-python",
   "name": "python",
   "nbconvert_exporter": "python",
   "pygments_lexer": "ipython3",
   "version": "3.7.11"
  }
 },
 "nbformat": 4,
 "nbformat_minor": 5
}
