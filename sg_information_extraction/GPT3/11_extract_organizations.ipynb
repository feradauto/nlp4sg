{
 "cells": [
  {
   "cell_type": "code",
   "execution_count": 2,
   "id": "7511aba0",
   "metadata": {},
   "outputs": [],
   "source": [
    "import time\n",
    "import os\n",
    "import pandas as pd\n",
    "import numpy as np\n",
    "import openai\n",
    "openai.api_key = os.getenv(\"OPENAI_API_KEY\")"
   ]
  },
  {
   "cell_type": "code",
   "execution_count": 2,
   "id": "26570c0f",
   "metadata": {},
   "outputs": [],
   "source": [
    "data_path=\"../../data/\"\n",
    "output_path=\"../../outputs/\""
   ]
  },
  {
   "cell_type": "code",
   "execution_count": 3,
   "id": "95c8eb79",
   "metadata": {},
   "outputs": [],
   "source": [
    "positives=pd.read_csv(output_path+\"sg_ie/positives_ready.csv\")"
   ]
  },
  {
   "cell_type": "code",
   "execution_count": 4,
   "id": "87271af5",
   "metadata": {},
   "outputs": [],
   "source": [
    "positives=positives.assign(abstract_for_prompt=positives.abstract_for_prompt.fillna(\"\"))\n",
    "positives=positives.assign(acknowledgments_for_prompt=positives.acknowledgments_for_prompt.fillna(\"\"))\n",
    "\n",
    "positives=positives.assign(paper_text=\"Title: \"+positives.title_clean+\"\\n\"+positives.abstract_for_prompt+\n",
    "                          positives.acknowledgments_for_prompt)"
   ]
  },
  {
   "cell_type": "code",
   "execution_count": 5,
   "id": "8063d5d8",
   "metadata": {},
   "outputs": [],
   "source": [
    "ack_preprompt=\"\"\"Identify the organizations mentioned in the following paper. Respond with the organizations separated by commas. Answer \"No organizations\" if there aren't any organizations in the text:\"\"\"\n",
    "\n",
    "ack_postprompt=\"\"\"Which are the organizations mentioned?\"\"\""
   ]
  },
  {
   "cell_type": "code",
   "execution_count": 6,
   "id": "bc6d5b9f",
   "metadata": {},
   "outputs": [],
   "source": [
    "positives=positives.assign(org_prompt_text=ack_preprompt+\"\\n\"+positives.paper_text+\"\\n\"+ack_postprompt)"
   ]
  },
  {
   "cell_type": "markdown",
   "id": "8a90eb2e",
   "metadata": {},
   "source": [
    "## requests"
   ]
  },
  {
   "cell_type": "code",
   "execution_count": 8,
   "id": "04464ed1",
   "metadata": {},
   "outputs": [],
   "source": [
    "positives=positives.loc[~positives.acknowledgments_clean.isna()].reset_index(drop=True)"
   ]
  },
  {
   "cell_type": "code",
   "execution_count": null,
   "id": "9d7770da",
   "metadata": {},
   "outputs": [],
   "source": [
    "for i,d in positives.iterrows():\n",
    "    input_prompt=d['org_prompt_text']\n",
    "    completion = openai.Completion.create(engine=\"text-davinci-002\", prompt=input_prompt,temperature=0,max_tokens=40)\n",
    "    positives.loc[i,'GPT3_response']=completion.choices[0].text\n",
    "    f = open(\"responses.txt\", \"a\")\n",
    "    f.write(d['org_prompt_text'])\n",
    "    f.write(completion.choices[0].text)\n",
    "    f.write(\"################################\")\n",
    "    f.write(\"\\n\")\n",
    "    f.close()\n",
    "    print(input_prompt)\n",
    "    print(completion.choices[0].text)\n",
    "    print(\"################################\")"
   ]
  },
  {
   "cell_type": "code",
   "execution_count": 10,
   "id": "1b6c8fb8",
   "metadata": {},
   "outputs": [],
   "source": [
    "positives.to_csv(output_path+\"GPT3_responses_org.csv\",index=False)"
   ]
  },
  {
   "cell_type": "code",
   "execution_count": 16,
   "id": "21a9c8cf",
   "metadata": {},
   "outputs": [],
   "source": [
    "positives=positives.assign(clean_response=positives.GPT3_response.replace(\"\\n\",\"\",regex=True))\n",
    "\n",
    "positives=positives.assign(clean_response=positives.clean_response.str.split(\",\"))\n",
    "\n",
    "orgs=positives.loc[:,['ID','clean_response']]\n",
    "\n",
    "orgs=orgs.explode(\"clean_response\")\n",
    "\n",
    "orgs=orgs.rename(columns={'clean_response':'organization'})\n",
    "\n",
    "orgs=orgs.assign(organization=orgs.organization.str.lstrip().str.rstrip())"
   ]
  },
  {
   "cell_type": "code",
   "execution_count": 36,
   "id": "1777169f",
   "metadata": {},
   "outputs": [],
   "source": [
    "orgs.to_csv(output_path+\"organizations_GPT3.csv\",index=False)"
   ]
  },
  {
   "cell_type": "code",
   "execution_count": 35,
   "id": "70927b6d",
   "metadata": {},
   "outputs": [
    {
     "data": {
      "text/plain": [
       "No organizations                               770\n",
       "DARPA                                           95\n",
       "National Science Foundation                     68\n",
       "NSF                                             67\n",
       "National Institutes of Health                   43\n",
       "                                              ... \n",
       "MRC Skills Development Fellowship programme      1\n",
       "Kings College London                             1\n",
       "MR/S00310X/1                                     1\n",
       "UKRI Innovation Fellowship                       1\n",
       "King Saud University                             1\n",
       "Name: organization, Length: 2315, dtype: int64"
      ]
     },
     "execution_count": 35,
     "metadata": {},
     "output_type": "execute_result"
    }
   ],
   "source": [
    "orgs.organization.value_counts()"
   ]
  },
  {
   "cell_type": "code",
   "execution_count": null,
   "id": "074e4fd7",
   "metadata": {},
   "outputs": [],
   "source": []
  }
 ],
 "metadata": {
  "kernelspec": {
   "display_name": "Python 3 (ipykernel)",
   "language": "python",
   "name": "python3"
  },
  "language_info": {
   "codemirror_mode": {
    "name": "ipython",
    "version": 3
   },
   "file_extension": ".py",
   "mimetype": "text/x-python",
   "name": "python",
   "nbconvert_exporter": "python",
   "pygments_lexer": "ipython3",
   "version": "3.7.4"
  }
 },
 "nbformat": 4,
 "nbformat_minor": 5
}
