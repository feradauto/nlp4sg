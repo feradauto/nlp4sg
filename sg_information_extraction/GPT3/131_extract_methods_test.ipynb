{
 "cells": [
  {
   "cell_type": "code",
   "execution_count": 1,
   "id": "650e5fbc",
   "metadata": {},
   "outputs": [],
   "source": [
    "import time\n",
    "import os\n",
    "import pandas as pd\n",
    "import numpy as np\n",
    "import openai\n",
    "openai.api_key = os.getenv(\"OPENAI_API_KEY\")"
   ]
  },
  {
   "cell_type": "code",
   "execution_count": 2,
   "id": "6b5ab0e2",
   "metadata": {},
   "outputs": [],
   "source": [
    "data_path=\"../../data/\"\n",
    "output_path=\"../../outputs/\""
   ]
  },
  {
   "cell_type": "code",
   "execution_count": 3,
   "id": "9b771815",
   "metadata": {},
   "outputs": [],
   "source": [
    "test_set_complete=pd.read_csv(output_path+\"general/test_set_final.csv\")\n",
    "train_set=pd.read_csv(output_path+\"general/train_set_final.csv\")\n",
    "dev_set=pd.read_csv(output_path+\"general/dev_set_final.csv\")\n",
    "df=pd.concat([test_set_complete,dev_set,train_set]).reset_index(drop=True)"
   ]
  },
  {
   "cell_type": "code",
   "execution_count": 4,
   "id": "12f579e3",
   "metadata": {},
   "outputs": [],
   "source": [
    "df=df.assign(abstract_for_prompt=np.where(df.abstract_clean!=\"\",\n",
    "                                                   \"Abstract: \"+df.abstract_clean,\"\"))\n",
    "\n",
    "df=df.assign(acknowledgments_for_prompt=np.where(df.acknowledgments_clean!=\"\",\n",
    "                                                   \"\\nAcknowledgments: \"+df.acknowledgments_clean,\"\"))"
   ]
  },
  {
   "cell_type": "code",
   "execution_count": 5,
   "id": "e2f70995",
   "metadata": {},
   "outputs": [],
   "source": [
    "df=df.assign(abstract_for_prompt=df.abstract_for_prompt.fillna(\"\"))\n",
    "\n",
    "df=df.assign(paper_text=\"Title: \"+df.title_clean+\"\\n\"+df.abstract_for_prompt)"
   ]
  },
  {
   "cell_type": "code",
   "execution_count": 6,
   "id": "731011ed",
   "metadata": {},
   "outputs": [],
   "source": [
    "ack_preprompt=\"\"\"Identify the NLP methods employed in this paper. Answer in the format [method1,...,methodn] Answer up to 3 methods.\"\"\"\n",
    "\n",
    "ack_postprompt=\"\"\"What are the methods employed to solve the tasks? Don't include tasks in the answer. The NLP methods used in this paper are:\\n[\"\"\""
   ]
  },
  {
   "cell_type": "code",
   "execution_count": 7,
   "id": "c3c45f88",
   "metadata": {},
   "outputs": [],
   "source": [
    "df=df.assign(method_prompt_text=ack_preprompt+\"\\n\"+df.paper_text+\"\\n\"+ack_postprompt)"
   ]
  },
  {
   "cell_type": "markdown",
   "id": "6d4ca3ac",
   "metadata": {},
   "source": [
    "## cost estimation"
   ]
  },
  {
   "cell_type": "code",
   "execution_count": 8,
   "id": "ad6fd02e",
   "metadata": {},
   "outputs": [
    {
     "data": {
      "text/plain": [
       "156133"
      ]
     },
     "execution_count": 8,
     "metadata": {},
     "output_type": "execute_result"
    }
   ],
   "source": [
    "np.sum(df['task_prompt_text'].str.split().apply(len))"
   ]
  },
  {
   "cell_type": "code",
   "execution_count": null,
   "id": "a1ad12bf",
   "metadata": {},
   "outputs": [],
   "source": [
    "$0.0600 / 1K tokens"
   ]
  },
  {
   "cell_type": "code",
   "execution_count": 9,
   "id": "0ef2d0f0",
   "metadata": {},
   "outputs": [
    {
     "data": {
      "text/plain": [
       "(1000, 13)"
      ]
     },
     "execution_count": 9,
     "metadata": {},
     "output_type": "execute_result"
    }
   ],
   "source": [
    "df.shape"
   ]
  },
  {
   "cell_type": "code",
   "execution_count": 10,
   "id": "164021b9",
   "metadata": {},
   "outputs": [
    {
     "data": {
      "text/plain": [
       "50000"
      ]
     },
     "execution_count": 10,
     "metadata": {},
     "output_type": "execute_result"
    }
   ],
   "source": [
    "1000*50"
   ]
  },
  {
   "cell_type": "code",
   "execution_count": null,
   "id": "e4124b89",
   "metadata": {},
   "outputs": [],
   "source": [
    "1627921"
   ]
  },
  {
   "cell_type": "code",
   "execution_count": 11,
   "id": "5df1424b",
   "metadata": {},
   "outputs": [
    {
     "data": {
      "text/plain": [
       "16.49064"
      ]
     },
     "execution_count": 11,
     "metadata": {},
     "output_type": "execute_result"
    }
   ],
   "source": [
    "(((156133+50000)*1000/750)/1000)*0.0600"
   ]
  },
  {
   "cell_type": "markdown",
   "id": "9a067d6e",
   "metadata": {},
   "source": [
    "## requests"
   ]
  },
  {
   "cell_type": "code",
   "execution_count": 8,
   "id": "21c278f4",
   "metadata": {},
   "outputs": [],
   "source": [
    "df=df.loc[df.label==1]\n",
    "df=df.loc[(~df.task_annotation.isna())|(~df.method_annotation.isna())].reset_index(drop=True)"
   ]
  },
  {
   "cell_type": "code",
   "execution_count": 9,
   "id": "c80d2c03",
   "metadata": {},
   "outputs": [
    {
     "data": {
      "text/plain": [
       "(130, 21)"
      ]
     },
     "execution_count": 9,
     "metadata": {},
     "output_type": "execute_result"
    }
   ],
   "source": [
    "df.shape"
   ]
  },
  {
   "cell_type": "code",
   "execution_count": null,
   "id": "e3bc2dba",
   "metadata": {},
   "outputs": [],
   "source": [
    "for i,d in df.iterrows():\n",
    "    input_prompt=d['method_prompt_text']\n",
    "    print(input_prompt)\n",
    "    print(\"Gold tasks: \",d['task_annotation'])\n",
    "    print(\"Gold methods: \",d['method_annotation'])\n",
    "    print(\"###################################\")"
   ]
  },
  {
   "cell_type": "code",
   "execution_count": null,
   "id": "3ca00528",
   "metadata": {},
   "outputs": [],
   "source": [
    "for i,d in df.iterrows():\n",
    "    input_prompt=d['method_prompt_text']\n",
    "    completion = openai.Completion.create(engine=\"text-davinci-002\", prompt=input_prompt,temperature=0,max_tokens=40,logprobs=1)\n",
    "    df.loc[i,'GPT3_response']=completion.choices[0].text\n",
    "    f = open(\"/cluster/scratch/fgonzalez/logs_gpt3/responses_m2f.txt\", \"a\")\n",
    "    f.write(d['method_prompt_text'])\n",
    "    f.write(completion.choices[0].text)\n",
    "    f.write(\"################################\")\n",
    "    f.write(\"\\n\")\n",
    "    f.close()\n",
    "    print(input_prompt)\n",
    "    print(completion.choices[0].text)\n",
    "    print(\"Gold tasks: \",d['task_annotation'])\n",
    "    print(\"Gold methods: \",d['method_annotation'])\n",
    "    print(\"################################\")"
   ]
  },
  {
   "cell_type": "code",
   "execution_count": 12,
   "id": "e34b6f6d",
   "metadata": {},
   "outputs": [],
   "source": [
    "df=df.assign(clean_response=df.GPT3_response.replace(\"\\n\",\"\",regex=True))\n",
    "df=df.assign(clean_response=df.clean_response.replace(\"\\[method2\\]\",\",\",regex=True).replace(\"\\[method3\\]\",\",\",regex=True).replace(\"method1\\]\",\"\",regex=True).replace(\"1\\]\",\"\",regex=True).replace(\"\\[3\\]\",\",\",regex=True).replace(\"\\[2\\]\",\",\",regex=True).str.rstrip(']'))\n",
    "df=df.assign(clean_response=df.clean_response.str.split(\",\"))\n",
    "\n",
    "methods=df.loc[:,['ID','clean_response']]\n",
    "\n",
    "methods=methods.explode(\"clean_response\")\n",
    "\n",
    "methods=methods.rename(columns={'clean_response':'methods'})\n",
    "\n",
    "methods=methods.assign(methods=methods.methods.str.lstrip().str.rstrip())\n",
    "methods=methods.loc[methods.methods!='']"
   ]
  },
  {
   "cell_type": "code",
   "execution_count": 16,
   "id": "cddaf2e5",
   "metadata": {
    "scrolled": false
   },
   "outputs": [
    {
     "data": {
      "text/html": [
       "<div>\n",
       "<style scoped>\n",
       "    .dataframe tbody tr th:only-of-type {\n",
       "        vertical-align: middle;\n",
       "    }\n",
       "\n",
       "    .dataframe tbody tr th {\n",
       "        vertical-align: top;\n",
       "    }\n",
       "\n",
       "    .dataframe thead th {\n",
       "        text-align: right;\n",
       "    }\n",
       "</style>\n",
       "<table border=\"1\" class=\"dataframe\">\n",
       "  <thead>\n",
       "    <tr style=\"text-align: right;\">\n",
       "      <th></th>\n",
       "      <th>ID</th>\n",
       "      <th>methods</th>\n",
       "    </tr>\n",
       "  </thead>\n",
       "  <tbody>\n",
       "    <tr>\n",
       "      <th>0</th>\n",
       "      <td>wandji-tchami-grabar-2014-towards</td>\n",
       "      <td>semantic annotation</td>\n",
       "    </tr>\n",
       "    <tr>\n",
       "      <th>0</th>\n",
       "      <td>wandji-tchami-grabar-2014-towards</td>\n",
       "      <td>contrastive analysis</td>\n",
       "    </tr>\n",
       "    <tr>\n",
       "      <th>0</th>\n",
       "      <td>wandji-tchami-grabar-2014-towards</td>\n",
       "      <td>medical terminology</td>\n",
       "    </tr>\n",
       "    <tr>\n",
       "      <th>1</th>\n",
       "      <td>soh-etal-2019-legal</td>\n",
       "      <td>topic modeling</td>\n",
       "    </tr>\n",
       "    <tr>\n",
       "      <th>1</th>\n",
       "      <td>soh-etal-2019-legal</td>\n",
       "      <td>word embedding</td>\n",
       "    </tr>\n",
       "    <tr>\n",
       "      <th>...</th>\n",
       "      <td>...</td>\n",
       "      <td>...</td>\n",
       "    </tr>\n",
       "    <tr>\n",
       "      <th>128</th>\n",
       "      <td>khanna-etal-2022-idiap</td>\n",
       "      <td>Attention Mechanism</td>\n",
       "    </tr>\n",
       "    <tr>\n",
       "      <th>128</th>\n",
       "      <td>khanna-etal-2022-idiap</td>\n",
       "      <td>Contextualized BERT</td>\n",
       "    </tr>\n",
       "    <tr>\n",
       "      <th>129</th>\n",
       "      <td>solorio-etal-2013-case</td>\n",
       "      <td>authorship attribution</td>\n",
       "    </tr>\n",
       "    <tr>\n",
       "      <th>129</th>\n",
       "      <td>solorio-etal-2013-case</td>\n",
       "      <td>voting scheme</td>\n",
       "    </tr>\n",
       "    <tr>\n",
       "      <th>129</th>\n",
       "      <td>solorio-etal-2013-case</td>\n",
       "      <td>short length comment</td>\n",
       "    </tr>\n",
       "  </tbody>\n",
       "</table>\n",
       "<p>399 rows × 2 columns</p>\n",
       "</div>"
      ],
      "text/plain": [
       "                                    ID                 methods\n",
       "0    wandji-tchami-grabar-2014-towards     semantic annotation\n",
       "0    wandji-tchami-grabar-2014-towards    contrastive analysis\n",
       "0    wandji-tchami-grabar-2014-towards     medical terminology\n",
       "1                  soh-etal-2019-legal          topic modeling\n",
       "1                  soh-etal-2019-legal          word embedding\n",
       "..                                 ...                     ...\n",
       "128             khanna-etal-2022-idiap     Attention Mechanism\n",
       "128             khanna-etal-2022-idiap     Contextualized BERT\n",
       "129             solorio-etal-2013-case  authorship attribution\n",
       "129             solorio-etal-2013-case           voting scheme\n",
       "129             solorio-etal-2013-case    short length comment\n",
       "\n",
       "[399 rows x 2 columns]"
      ]
     },
     "execution_count": 16,
     "metadata": {},
     "output_type": "execute_result"
    }
   ],
   "source": [
    "methods"
   ]
  },
  {
   "cell_type": "code",
   "execution_count": 17,
   "id": "2fc5201e",
   "metadata": {},
   "outputs": [],
   "source": [
    "df.to_csv(output_path+\"sg_ie/gpt3/GPT3_responses_method2_f.csv\",index=False)\n",
    "\n",
    "methods.to_csv(output_path+\"sg_ie/gpt3/GPT3_responses_method2_cleaned_f.csv\",index=False)"
   ]
  },
  {
   "cell_type": "code",
   "execution_count": null,
   "id": "4c71dff6",
   "metadata": {},
   "outputs": [],
   "source": []
  }
 ],
 "metadata": {
  "kernelspec": {
   "display_name": "Python 3 (ipykernel)",
   "language": "python",
   "name": "python3"
  },
  "language_info": {
   "codemirror_mode": {
    "name": "ipython",
    "version": 3
   },
   "file_extension": ".py",
   "mimetype": "text/x-python",
   "name": "python",
   "nbconvert_exporter": "python",
   "pygments_lexer": "ipython3",
   "version": "3.7.4"
  }
 },
 "nbformat": 4,
 "nbformat_minor": 5
}
