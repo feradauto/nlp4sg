{
 "cells": [
  {
   "cell_type": "code",
   "execution_count": 1,
   "id": "218208f6",
   "metadata": {},
   "outputs": [],
   "source": [
    "import time\n",
    "import os\n",
    "import pandas as pd\n",
    "import numpy as np\n",
    "import openai\n",
    "openai.api_key = os.getenv(\"OPENAI_API_KEY\")"
   ]
  },
  {
   "cell_type": "code",
   "execution_count": 2,
   "id": "13f35008",
   "metadata": {},
   "outputs": [],
   "source": [
    "data_path=\"../../data/\"\n",
    "output_path=\"../../outputs/\"\n",
    "test_set_complete=pd.read_csv(output_path+\"general/test_set_final.csv\")\n",
    "train_set=pd.read_csv(output_path+\"general/train_set_final.csv\")\n",
    "dev_set=pd.read_csv(output_path+\"general/dev_set_final.csv\")\n",
    "df=pd.concat([test_set_complete,dev_set,train_set]).reset_index(drop=True)"
   ]
  },
  {
   "cell_type": "code",
   "execution_count": 4,
   "id": "42769f52",
   "metadata": {},
   "outputs": [],
   "source": [
    "df=df.assign(abstract_for_prompt=np.where(df.abstract_clean!=\"\",\n",
    "                                                   \"Abstract: \"+df.abstract_clean,\"\"))\n",
    "df=df.assign(acknowledgments_for_prompt=np.where(df.acknowledgments_clean!=\"\",\n",
    "                                                   \"\\nAcknowledgments: \"+df.acknowledgments_clean,\"\"))\n",
    "df=df.assign(abstract_for_prompt=df.abstract_for_prompt.fillna(\"\"))\n",
    "df=df.assign(paper_text=\"Title: \"+df.title_clean+\"\\n\"+df.abstract_for_prompt)"
   ]
  },
  {
   "cell_type": "code",
   "execution_count": 6,
   "id": "ef8a0e6e",
   "metadata": {},
   "outputs": [],
   "source": [
    "ack_preprompt=\"\"\"Identify the NLP task(s) addressed in this paper. Answer in the format [task1,...,taskn,...]\"\"\"\n",
    "\n",
    "ack_postprompt=\"\"\"The NLP tasks addressed in this paper are:\\n[\"\"\""
   ]
  },
  {
   "cell_type": "code",
   "execution_count": 7,
   "id": "da774055",
   "metadata": {},
   "outputs": [],
   "source": [
    "df=df.assign(task_prompt_text=ack_preprompt+\"\\n\"+df.paper_text+\"\\n\"+ack_postprompt)"
   ]
  },
  {
   "cell_type": "code",
   "execution_count": 8,
   "id": "455e0c89",
   "metadata": {
    "scrolled": true
   },
   "outputs": [],
   "source": [
    "df=df.loc[df.label==1]\n",
    "df=df.loc[(~df.task_annotation.isna())|(~df.method_annotation.isna())].reset_index(drop=True)"
   ]
  },
  {
   "cell_type": "markdown",
   "id": "c5687b28",
   "metadata": {},
   "source": [
    "## cost estimation"
   ]
  },
  {
   "cell_type": "code",
   "execution_count": 9,
   "id": "c4ee0478",
   "metadata": {},
   "outputs": [
    {
     "data": {
      "text/plain": [
       "20138"
      ]
     },
     "execution_count": 9,
     "metadata": {},
     "output_type": "execute_result"
    }
   ],
   "source": [
    "np.sum(df['task_prompt_text'].str.split().apply(len))"
   ]
  },
  {
   "cell_type": "code",
   "execution_count": null,
   "id": "fdbcd342",
   "metadata": {},
   "outputs": [],
   "source": [
    "$0.0600 / 1K tokens"
   ]
  },
  {
   "cell_type": "code",
   "execution_count": 9,
   "id": "f506bc3f",
   "metadata": {},
   "outputs": [
    {
     "data": {
      "text/plain": [
       "(1000, 13)"
      ]
     },
     "execution_count": 9,
     "metadata": {},
     "output_type": "execute_result"
    }
   ],
   "source": [
    "df.shape"
   ]
  },
  {
   "cell_type": "code",
   "execution_count": 9,
   "id": "ca555d25",
   "metadata": {},
   "outputs": [
    {
     "data": {
      "text/plain": [
       "250000"
      ]
     },
     "execution_count": 9,
     "metadata": {},
     "output_type": "execute_result"
    }
   ],
   "source": [
    "5000*50"
   ]
  },
  {
   "cell_type": "code",
   "execution_count": null,
   "id": "ab7468fb",
   "metadata": {},
   "outputs": [],
   "source": [
    "1627921"
   ]
  },
  {
   "cell_type": "code",
   "execution_count": 10,
   "id": "6c602bcb",
   "metadata": {},
   "outputs": [
    {
     "data": {
      "text/plain": [
       "83.45767999999998"
      ]
     },
     "execution_count": 10,
     "metadata": {},
     "output_type": "execute_result"
    }
   ],
   "source": [
    "(((793221+250000)*1000/750)/1000)*0.0600"
   ]
  },
  {
   "cell_type": "markdown",
   "id": "b25300df",
   "metadata": {},
   "source": [
    "## requests"
   ]
  },
  {
   "cell_type": "code",
   "execution_count": 9,
   "id": "3db97fac",
   "metadata": {
    "scrolled": true
   },
   "outputs": [
    {
     "data": {
      "text/plain": [
       "(130, 21)"
      ]
     },
     "execution_count": 9,
     "metadata": {},
     "output_type": "execute_result"
    }
   ],
   "source": [
    "df.shape"
   ]
  },
  {
   "cell_type": "code",
   "execution_count": null,
   "id": "6a445a24",
   "metadata": {},
   "outputs": [],
   "source": [
    "for i,d in df.iterrows():\n",
    "    input_prompt=d['task_prompt_text']\n",
    "    print(input_prompt)\n",
    "    print(\"Gold tasks: \",d['task_annotation'])\n",
    "    print(\"Gold methods: \",d['method_annotation'])\n",
    "    print(\"###################################\")"
   ]
  },
  {
   "cell_type": "code",
   "execution_count": null,
   "id": "8383ceeb",
   "metadata": {},
   "outputs": [],
   "source": [
    "for i,d in df.iterrows():\n",
    "    input_prompt=d['task_prompt_text']\n",
    "    completion = openai.Completion.create(engine=\"text-davinci-002\", prompt=input_prompt,temperature=0,max_tokens=40,logprobs=1)\n",
    "    df.loc[i,'GPT3_response']=completion.choices[0].text\n",
    "    f = open(\"responses_f_test.txt\", \"a\")\n",
    "    f.write(d['task_prompt_text'])\n",
    "    f.write(completion.choices[0].text)\n",
    "    f.write(\"################################\")\n",
    "    f.write(\"\\n\")\n",
    "    f.close()\n",
    "    print(input_prompt)\n",
    "    print(completion.choices[0].text)\n",
    "    print(\"Gold tasks: \",d['task_annotation'])\n",
    "    print(\"Gold methods: \",d['method_annotation'])\n",
    "    print(\"################################\")"
   ]
  },
  {
   "cell_type": "code",
   "execution_count": 12,
   "id": "7b88137a",
   "metadata": {},
   "outputs": [],
   "source": [
    "df=df.assign(clean_response=df.GPT3_response.replace(\"\\n\",\"\",regex=True))\n",
    "df=df.assign(clean_response=df.clean_response.replace(\"\\[task2\\]\",\",\",regex=True).replace(\"\\[task3\\]\",\",\",regex=True).replace(\"task1\\]\",\"\",regex=True).replace(\"1\\]\",\"\",regex=True).replace(\"\\[3\\]\",\",\",regex=True).replace(\"\\[2\\]\",\",\",regex=True).str.rstrip(']'))\n",
    "df=df.assign(clean_response=df.clean_response.str.split(\",\"))\n",
    "\n",
    "tasks=df.loc[:,['ID','clean_response']]\n",
    "\n",
    "tasks=tasks.explode(\"clean_response\")\n",
    "\n",
    "tasks=tasks.rename(columns={'clean_response':'tasks'})\n",
    "\n",
    "tasks=tasks.assign(tasks=tasks.tasks.str.lstrip().str.rstrip())\n",
    "tasks=tasks.loc[tasks.tasks!='']"
   ]
  },
  {
   "cell_type": "code",
   "execution_count": 13,
   "id": "75e2fc6c",
   "metadata": {},
   "outputs": [
    {
     "data": {
      "text/plain": [
       "text classification       27\n",
       "information extraction    12\n",
       "information retrieval     11\n",
       "machine translation       10\n",
       "part-of-speech tagging     6\n",
       "                          ..\n",
       "Curriculum Learning        1\n",
       "word segmentation          1\n",
       "disambiguation             1\n",
       "typing                     1\n",
       "authorship attribution     1\n",
       "Name: tasks, Length: 298, dtype: int64"
      ]
     },
     "execution_count": 13,
     "metadata": {},
     "output_type": "execute_result"
    }
   ],
   "source": [
    "tasks.tasks.value_counts()"
   ]
  },
  {
   "cell_type": "code",
   "execution_count": 14,
   "id": "fdbad346",
   "metadata": {},
   "outputs": [
    {
     "data": {
      "text/html": [
       "<div>\n",
       "<style scoped>\n",
       "    .dataframe tbody tr th:only-of-type {\n",
       "        vertical-align: middle;\n",
       "    }\n",
       "\n",
       "    .dataframe tbody tr th {\n",
       "        vertical-align: top;\n",
       "    }\n",
       "\n",
       "    .dataframe thead th {\n",
       "        text-align: right;\n",
       "    }\n",
       "</style>\n",
       "<table border=\"1\" class=\"dataframe\">\n",
       "  <thead>\n",
       "    <tr style=\"text-align: right;\">\n",
       "      <th></th>\n",
       "      <th>ID</th>\n",
       "      <th>tasks</th>\n",
       "    </tr>\n",
       "  </thead>\n",
       "  <tbody>\n",
       "    <tr>\n",
       "      <th>0</th>\n",
       "      <td>wandji-tchami-grabar-2014-towards</td>\n",
       "      <td>semantic annotation</td>\n",
       "    </tr>\n",
       "    <tr>\n",
       "      <th>0</th>\n",
       "      <td>wandji-tchami-grabar-2014-towards</td>\n",
       "      <td>part-of-speech tagging</td>\n",
       "    </tr>\n",
       "    <tr>\n",
       "      <th>0</th>\n",
       "      <td>wandji-tchami-grabar-2014-towards</td>\n",
       "      <td>verb sense disambiguation</td>\n",
       "    </tr>\n",
       "    <tr>\n",
       "      <th>1</th>\n",
       "      <td>soh-etal-2019-legal</td>\n",
       "      <td>text classification</td>\n",
       "    </tr>\n",
       "    <tr>\n",
       "      <th>1</th>\n",
       "      <td>soh-etal-2019-legal</td>\n",
       "      <td>topic modeling</td>\n",
       "    </tr>\n",
       "    <tr>\n",
       "      <th>...</th>\n",
       "      <td>...</td>\n",
       "      <td>...</td>\n",
       "    </tr>\n",
       "    <tr>\n",
       "      <th>127</th>\n",
       "      <td>cavicchio-2009-modulation</td>\n",
       "      <td>annotation of blended emotions</td>\n",
       "    </tr>\n",
       "    <tr>\n",
       "      <th>128</th>\n",
       "      <td>khanna-etal-2022-idiap</td>\n",
       "      <td>text classification</td>\n",
       "    </tr>\n",
       "    <tr>\n",
       "      <th>128</th>\n",
       "      <td>khanna-etal-2022-idiap</td>\n",
       "      <td>hate speech detection</td>\n",
       "    </tr>\n",
       "    <tr>\n",
       "      <th>129</th>\n",
       "      <td>solorio-etal-2013-case</td>\n",
       "      <td>authorship attribution</td>\n",
       "    </tr>\n",
       "    <tr>\n",
       "      <th>129</th>\n",
       "      <td>solorio-etal-2013-case</td>\n",
       "      <td>text classification</td>\n",
       "    </tr>\n",
       "  </tbody>\n",
       "</table>\n",
       "<p>426 rows × 2 columns</p>\n",
       "</div>"
      ],
      "text/plain": [
       "                                    ID                           tasks\n",
       "0    wandji-tchami-grabar-2014-towards             semantic annotation\n",
       "0    wandji-tchami-grabar-2014-towards          part-of-speech tagging\n",
       "0    wandji-tchami-grabar-2014-towards       verb sense disambiguation\n",
       "1                  soh-etal-2019-legal             text classification\n",
       "1                  soh-etal-2019-legal                  topic modeling\n",
       "..                                 ...                             ...\n",
       "127          cavicchio-2009-modulation  annotation of blended emotions\n",
       "128             khanna-etal-2022-idiap             text classification\n",
       "128             khanna-etal-2022-idiap           hate speech detection\n",
       "129             solorio-etal-2013-case          authorship attribution\n",
       "129             solorio-etal-2013-case             text classification\n",
       "\n",
       "[426 rows x 2 columns]"
      ]
     },
     "execution_count": 14,
     "metadata": {},
     "output_type": "execute_result"
    }
   ],
   "source": [
    "tasks"
   ]
  },
  {
   "cell_type": "code",
   "execution_count": 15,
   "id": "7211f8e7",
   "metadata": {},
   "outputs": [],
   "source": [
    "df.to_csv(output_path+\"sg_ie/gpt3/GPT3_responses_task_f2.csv\",index=False)\n",
    "\n",
    "tasks.to_csv(output_path+\"sg_ie/gpt3/GPT3_responses_task_cleaned_f2.csv\",index=False)"
   ]
  },
  {
   "cell_type": "code",
   "execution_count": null,
   "id": "b2134cea",
   "metadata": {},
   "outputs": [],
   "source": []
  }
 ],
 "metadata": {
  "kernelspec": {
   "display_name": "Python 3 (ipykernel)",
   "language": "python",
   "name": "python3"
  },
  "language_info": {
   "codemirror_mode": {
    "name": "ipython",
    "version": 3
   },
   "file_extension": ".py",
   "mimetype": "text/x-python",
   "name": "python",
   "nbconvert_exporter": "python",
   "pygments_lexer": "ipython3",
   "version": "3.7.4"
  }
 },
 "nbformat": 4,
 "nbformat_minor": 5
}
