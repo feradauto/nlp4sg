{
 "cells": [
  {
   "cell_type": "code",
   "execution_count": 1,
   "id": "f04a6757",
   "metadata": {},
   "outputs": [],
   "source": [
    "import pandas as pd\n",
    "from ast import literal_eval"
   ]
  },
  {
   "cell_type": "code",
   "execution_count": 2,
   "id": "6dd29f5e",
   "metadata": {},
   "outputs": [],
   "source": [
    "data_path=\"../../data/\"\n",
    "output_path=\"../../outputs/\"\n",
    "\n",
    "organizations=pd.read_csv(output_path+\"sg_ie/organizations_stanza_ontonotes_final.csv\")\n",
    "org_tests=pd.read_csv(output_path+\"sg_ie/organizations_test_stanza_ontonotes_final.csv\")\n",
    "\n",
    "positives=pd.read_csv(data_path+\"pdfs_data/positives_ack_final_8k_new.csv\",converters={\"institutions\": literal_eval})\n",
    "test_data=pd.read_csv(data_path+\"test_data/papers_test_set_ack.csv\",converters={\"institutions\": literal_eval})"
   ]
  },
  {
   "cell_type": "code",
   "execution_count": 3,
   "id": "6d86f90e",
   "metadata": {},
   "outputs": [],
   "source": [
    "positives=positives.explode('institutions')\n",
    "positives=positives.loc[:,['ID','institutions']].rename(columns={'institutions':'organization'})\n",
    "test_data=test_data.explode('institutions')\n",
    "test_data=test_data.loc[:,['ID','institutions']].rename(columns={'institutions':'organization'})"
   ]
  },
  {
   "cell_type": "code",
   "execution_count": 4,
   "id": "56139d1f",
   "metadata": {},
   "outputs": [],
   "source": [
    "df_organizations=pd.concat([organizations,positives])\n",
    "df_organizations_test=pd.concat([org_tests,test_data])"
   ]
  },
  {
   "cell_type": "code",
   "execution_count": 5,
   "id": "1b68242c",
   "metadata": {},
   "outputs": [],
   "source": [
    "df_organizations_test=df_organizations_test.drop_duplicates()\n",
    "df_organizations=df_organizations.drop_duplicates()"
   ]
  },
  {
   "cell_type": "code",
   "execution_count": 6,
   "id": "6bd3ad47",
   "metadata": {},
   "outputs": [],
   "source": [
    "df_organizations_test=df_organizations_test.loc[~df_organizations_test.organization.isna(),:]\n",
    "df_organizations=df_organizations.loc[~df_organizations.organization.isna(),:]"
   ]
  },
  {
   "cell_type": "code",
   "execution_count": 7,
   "id": "86a37a79",
   "metadata": {},
   "outputs": [],
   "source": [
    "df_org_all=pd.concat([df_organizations,df_organizations_test])"
   ]
  },
  {
   "cell_type": "code",
   "execution_count": 8,
   "id": "4f243a01",
   "metadata": {},
   "outputs": [],
   "source": [
    "df_org_all.to_csv(output_path+\"sg_ie/organizations_all.csv\",index=False)"
   ]
  },
  {
   "cell_type": "code",
   "execution_count": null,
   "id": "4e41c6cc",
   "metadata": {},
   "outputs": [],
   "source": []
  }
 ],
 "metadata": {
  "kernelspec": {
   "display_name": "Python 3 (ipykernel)",
   "language": "python",
   "name": "python3"
  },
  "language_info": {
   "codemirror_mode": {
    "name": "ipython",
    "version": 3
   },
   "file_extension": ".py",
   "mimetype": "text/x-python",
   "name": "python",
   "nbconvert_exporter": "python",
   "pygments_lexer": "ipython3",
   "version": "3.7.4"
  }
 },
 "nbformat": 4,
 "nbformat_minor": 5
}
