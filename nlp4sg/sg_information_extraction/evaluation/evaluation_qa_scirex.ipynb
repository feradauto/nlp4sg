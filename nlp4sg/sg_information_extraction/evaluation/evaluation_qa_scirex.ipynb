{
 "cells": [
  {
   "cell_type": "code",
   "execution_count": 1,
   "id": "3a222561",
   "metadata": {},
   "outputs": [],
   "source": [
    "import pandas as pd\n",
    "import numpy as np\n",
    "from evaluate import load\n",
    "import copy\n",
    "import random\n",
    "import requests\n",
    "from bert_score import score\n",
    "from collections import defaultdict\n",
    "\n",
    "import os"
   ]
  },
  {
   "cell_type": "code",
   "execution_count": 2,
   "id": "4a2b7fba",
   "metadata": {
    "scrolled": true
   },
   "outputs": [],
   "source": [
    "bertscore = load(\"bertscore\")\n",
    "squad_metric = load(\"squad\")"
   ]
  },
  {
   "cell_type": "code",
   "execution_count": 3,
   "id": "aa01e9c3",
   "metadata": {},
   "outputs": [],
   "source": [
    "data_path=\"../../data/\"\n",
    "output_path=\"../../outputs/\"\n"
   ]
  },
  {
   "cell_type": "code",
   "execution_count": 4,
   "id": "4d497c22",
   "metadata": {},
   "outputs": [],
   "source": [
    "test_set_labeled=pd.read_csv(output_path+\"general/test_set_final.csv\")"
   ]
  },
  {
   "cell_type": "code",
   "execution_count": 5,
   "id": "e873ce87",
   "metadata": {},
   "outputs": [],
   "source": [
    "test_set_labeled=test_set_labeled.iloc[:2000]"
   ]
  },
  {
   "cell_type": "markdown",
   "id": "d694f5e6",
   "metadata": {},
   "source": [
    "## pure"
   ]
  },
  {
   "cell_type": "code",
   "execution_count": 6,
   "id": "fea3b790",
   "metadata": {},
   "outputs": [],
   "source": [
    "df_labels_pure=pd.read_json(output_path+\"sg_ie/test_PURE_tasks_methods.json\")"
   ]
  },
  {
   "cell_type": "code",
   "execution_count": 7,
   "id": "f0a9c255",
   "metadata": {},
   "outputs": [],
   "source": [
    "df_labels_pure=df_labels_pure.rename(columns={'task_scirex':'task','method_scirex':'method'})"
   ]
  },
  {
   "cell_type": "code",
   "execution_count": 8,
   "id": "e4ca695e",
   "metadata": {},
   "outputs": [],
   "source": [
    "test_set=test_set_labeled.merge(df_labels_pure,on=['ID'],how='left')"
   ]
  },
  {
   "cell_type": "markdown",
   "id": "4ad399d5",
   "metadata": {},
   "source": [
    "## scirex"
   ]
  },
  {
   "cell_type": "code",
   "execution_count": 6,
   "id": "f9ca0406",
   "metadata": {
    "scrolled": true
   },
   "outputs": [],
   "source": [
    "df_labels_scirex=pd.read_json(output_path+\"sg_ie/test_scirex_tasks_methods_clusters_salient_final_f.json\")\n",
    "\n",
    "df_labels_scirex=df_labels_scirex.loc[:,['ID','task_scirex','method_scirex']]\n",
    "\n",
    "test_set_labeled=test_set_labeled.iloc[:2000]\n",
    "\n",
    "\n",
    "test_set=test_set_labeled.merge(df_labels_scirex,on=['ID'],how='left')\n",
    "\n",
    "\n",
    "test_set['task']=[list() for _ in range(test_set.shape[0])]\n",
    "test_set['method']=[list() for _ in range(test_set.shape[0])]"
   ]
  },
  {
   "cell_type": "code",
   "execution_count": 7,
   "id": "13348497",
   "metadata": {},
   "outputs": [],
   "source": [
    "for i,d in test_set.iterrows():\n",
    "    tasks=set()\n",
    "    for t in d['task_scirex']:\n",
    "        tasks.add(t['top_word'])\n",
    "    methods=set()\n",
    "    for t in d['method_scirex']:\n",
    "        methods.add(t['top_word'])\n",
    "    test_set.at[i,'task']=list(tasks)\n",
    "    test_set.at[i,'method']=list(methods)\n",
    "    "
   ]
  },
  {
   "cell_type": "markdown",
   "id": "ab725aaf",
   "metadata": {},
   "source": [
    "## gold data 1"
   ]
  },
  {
   "cell_type": "code",
   "execution_count": 28,
   "id": "701843b5",
   "metadata": {},
   "outputs": [],
   "source": [
    "gold_usr1=pd.read_json(\"annotation_20230114.json\")"
   ]
  },
  {
   "cell_type": "code",
   "execution_count": 29,
   "id": "bdd6760c",
   "metadata": {},
   "outputs": [],
   "source": [
    "obs=[]\n",
    "for i,d in gold_usr1.iterrows():\n",
    "    response={}\n",
    "    response['task']=[]\n",
    "    response['method']=[]\n",
    "    response['SG_element_in_task']=[]\n",
    "    for e in d['annotations'][0]['result']:\n",
    "        if e['from_name']=='label':\n",
    "            if e['value']['labels'][0] in ['task']:\n",
    "                response['task'].append(e['value']['text'])\n",
    "            elif e['value']['labels'][0] in ['method']:\n",
    "                response['method'].append(e['value']['text'])\n",
    "            elif e['value']['labels'][0]=='SG_element_in_task':\n",
    "                response['SG_element_in_task'].append(e['value']['text'])\n",
    "        elif e['from_name']=='method_c':\n",
    "            response['method'].append(e['value']['text'][0])\n",
    "        elif e['from_name']=='task_c':\n",
    "            response['task'].append(e['value']['text'][0])\n",
    "    response['ID']=d['data']['ID']\n",
    "    obs.append(response)"
   ]
  },
  {
   "cell_type": "code",
   "execution_count": 30,
   "id": "83d89ee0",
   "metadata": {},
   "outputs": [],
   "source": [
    "df_usr1=pd.DataFrame(obs)"
   ]
  },
  {
   "cell_type": "code",
   "execution_count": 31,
   "id": "84faf6ac",
   "metadata": {},
   "outputs": [],
   "source": [
    "test_set=df_usr1.copy(deep=True)"
   ]
  },
  {
   "cell_type": "markdown",
   "id": "52ca3268",
   "metadata": {},
   "source": [
    "## gold data"
   ]
  },
  {
   "cell_type": "code",
   "execution_count": 8,
   "id": "7ba21488",
   "metadata": {},
   "outputs": [],
   "source": [
    "gold=pd.read_json(\"final_annotation_user2.json\")"
   ]
  },
  {
   "cell_type": "code",
   "execution_count": 9,
   "id": "fa7124f9",
   "metadata": {},
   "outputs": [],
   "source": [
    "obs=[]\n",
    "for i,d in gold.iterrows():\n",
    "    response={}\n",
    "    response['task']=[]\n",
    "    response['method']=[]\n",
    "    response['SG_element_in_task']=[]\n",
    "    for e in d['annotations'][0]['result']:\n",
    "        if e['from_name']=='label':\n",
    "            if e['value']['labels'][0] in ['task']:\n",
    "                response['task'].append(e['value']['text'])\n",
    "            elif e['value']['labels'][0] in ['method']:\n",
    "                response['method'].append(e['value']['text'])\n",
    "            elif e['value']['labels'][0]=='SG_element_in_task':\n",
    "                response['SG_element_in_task'].append(e['value']['text'])\n",
    "        elif e['from_name']=='method_c':\n",
    "            response['method'].append(e['value']['text'][0])\n",
    "        elif e['from_name']=='task_c':\n",
    "            response['task'].append(e['value']['text'][0])\n",
    "    response['ID']=d['data']['ID']\n",
    "    obs.append(response)"
   ]
  },
  {
   "cell_type": "code",
   "execution_count": 10,
   "id": "fb46d191",
   "metadata": {},
   "outputs": [],
   "source": [
    "df=pd.DataFrame(obs)"
   ]
  },
  {
   "cell_type": "markdown",
   "id": "562b2fc4",
   "metadata": {},
   "source": [
    "df=df.loc[df.ID.isin(df_usr1.ID.unique())]"
   ]
  },
  {
   "cell_type": "code",
   "execution_count": 11,
   "id": "81d4b627",
   "metadata": {},
   "outputs": [],
   "source": [
    "df=df.rename(columns={'task':'gold_tasks','method':'gold_methods'})"
   ]
  },
  {
   "cell_type": "code",
   "execution_count": 12,
   "id": "fd1c59e4",
   "metadata": {},
   "outputs": [
    {
     "data": {
      "text/plain": [
       "(2000, 21)"
      ]
     },
     "execution_count": 12,
     "metadata": {},
     "output_type": "execute_result"
    }
   ],
   "source": [
    "test_set.shape"
   ]
  },
  {
   "cell_type": "code",
   "execution_count": 13,
   "id": "93a53eac",
   "metadata": {},
   "outputs": [],
   "source": [
    "df_final=df.merge(test_set,on=['ID'])"
   ]
  },
  {
   "cell_type": "code",
   "execution_count": 14,
   "id": "41405e47",
   "metadata": {
    "scrolled": true
   },
   "outputs": [
    {
     "name": "stderr",
     "output_type": "stream",
     "text": [
      "Warning: Empty reference sentence detected; setting raw BERTScores to 0.\n",
      "Warning: Empty candidate sentence detected; setting raw BERTscores to 0.\n",
      "Warning: Empty reference sentence detected; setting raw BERTScores to 0.\n",
      "Warning: Empty candidate sentence detected; setting raw BERTscores to 0.\n",
      "Warning: Empty reference sentence detected; setting raw BERTScores to 0.\n",
      "Warning: Empty candidate sentence detected; setting raw BERTscores to 0.\n",
      "Warning: Empty reference sentence detected; setting raw BERTScores to 0.\n",
      "Warning: Empty candidate sentence detected; setting raw BERTscores to 0.\n",
      "Warning: Empty candidate sentence detected; setting raw BERTscores to 0.\n",
      "Warning: Empty reference sentence detected; setting raw BERTScores to 0.\n",
      "Warning: Empty candidate sentence detected; setting raw BERTscores to 0.\n",
      "Warning: Empty reference sentence detected; setting raw BERTScores to 0.\n",
      "Warning: Empty candidate sentence detected; setting raw BERTscores to 0.\n",
      "Warning: Empty reference sentence detected; setting raw BERTScores to 0.\n",
      "Warning: Empty reference sentence detected; setting raw BERTScores to 0.\n",
      "Warning: Empty candidate sentence detected; setting raw BERTscores to 0.\n",
      "Warning: Empty reference sentence detected; setting raw BERTScores to 0.\n",
      "Warning: Empty candidate sentence detected; setting raw BERTscores to 0.\n",
      "Warning: Empty candidate sentence detected; setting raw BERTscores to 0.\n",
      "Warning: Empty candidate sentence detected; setting raw BERTscores to 0.\n",
      "Warning: Empty candidate sentence detected; setting raw BERTscores to 0.\n",
      "Warning: Empty candidate sentence detected; setting raw BERTscores to 0.\n",
      "Warning: Empty candidate sentence detected; setting raw BERTscores to 0.\n",
      "Warning: Empty candidate sentence detected; setting raw BERTscores to 0.\n",
      "Warning: Empty candidate sentence detected; setting raw BERTscores to 0.\n",
      "Warning: Empty reference sentence detected; setting raw BERTScores to 0.\n",
      "Warning: Empty candidate sentence detected; setting raw BERTscores to 0.\n",
      "Warning: Empty reference sentence detected; setting raw BERTScores to 0.\n",
      "Warning: Empty candidate sentence detected; setting raw BERTscores to 0.\n",
      "Warning: Empty candidate sentence detected; setting raw BERTscores to 0.\n",
      "Warning: Empty candidate sentence detected; setting raw BERTscores to 0.\n",
      "Warning: Empty candidate sentence detected; setting raw BERTscores to 0.\n",
      "Warning: Empty candidate sentence detected; setting raw BERTscores to 0.\n",
      "Warning: Empty candidate sentence detected; setting raw BERTscores to 0.\n",
      "Warning: Empty reference sentence detected; setting raw BERTScores to 0.\n",
      "Warning: Empty reference sentence detected; setting raw BERTScores to 0.\n",
      "Warning: Empty candidate sentence detected; setting raw BERTscores to 0.\n",
      "Warning: Empty candidate sentence detected; setting raw BERTscores to 0.\n",
      "Warning: Empty candidate sentence detected; setting raw BERTscores to 0.\n",
      "Warning: Empty reference sentence detected; setting raw BERTScores to 0.\n",
      "Warning: Empty reference sentence detected; setting raw BERTScores to 0.\n",
      "Warning: Empty candidate sentence detected; setting raw BERTscores to 0.\n"
     ]
    }
   ],
   "source": [
    "sq_methods_pred=[]\n",
    "sq_methods_ref=[]\n",
    "sq_tasks_pred=[]\n",
    "sq_tasks_ref=[]\n",
    "for i,d in df_final.iterrows():\n",
    "    preds_t=[]\n",
    "    preds_m=[]\n",
    "    refs_t=[]\n",
    "    refs_m=[]\n",
    "    pred_method={}\n",
    "    ref_method={}\n",
    "    pred_task={}\n",
    "    ref_task={}\n",
    "    refs_t=copy.deepcopy(list(set(d['gold_tasks'])))\n",
    "    #refs_t.append(', '.join(d['gold_tasks']))\n",
    "    preds_t=d['task']\n",
    "    results_t = bertscore.compute(predictions=[', '.join(preds_t)], references=[', '.join(refs_t)],  model_type=\"distilbert-base-uncased\")\n",
    "    refs_m=copy.deepcopy(list(set(d['gold_methods'])))\n",
    "    preds_m=d['method']\n",
    "    #refs_m.append(', '.join(d['gold_methods']))\n",
    "    results_m = bertscore.compute(predictions=[', '.join(preds_m)], references=[', '.join(refs_m)],  model_type=\"distilbert-base-uncased\")\n",
    "    pred_method['prediction_text']=', '.join(d['method'])\n",
    "    pred_method['id']=d['ID']\n",
    "    ref_method['answer_start']=[1]\n",
    "    ref_method['text']=[copy.deepcopy(', '.join(list(set(d['gold_methods']))))]\n",
    "    #ref_method['text'].append(', '.join(d['gold_methods']))\n",
    "    ref_dict_m={'answers':ref_method,'id':d['ID']}\n",
    "    sq_methods_pred.append(pred_method)\n",
    "    sq_methods_ref.append(ref_dict_m)\n",
    "    pred_task['prediction_text']=', '.join(d['task'])\n",
    "    pred_task['id']=d['ID']\n",
    "    ref_task['answer_start']=[1]\n",
    "    ref_task['text']=[copy.deepcopy(', '.join(list(set(d['gold_tasks']))))]\n",
    "    #ref_task['text'].append(', '.join(d['gold_tasks']))\n",
    "    ref_dict={'answers':ref_task,'id':d['ID']}\n",
    "    sq_tasks_pred.append(pred_task)\n",
    "    sq_tasks_ref.append(ref_dict)\n",
    "    df_final.at[i,'bert_score_task']=results_t['f1'][0]\n",
    "    df_final.at[i,'bert_score_method']=results_m['f1'][0]\n",
    "    df_final.at[i,'bert_score_task_p']=results_t['precision'][0]\n",
    "    df_final.at[i,'bert_score_method_p']=results_m['precision'][0]\n",
    "    df_final.at[i,'bert_score_task_r']=results_t['recall'][0]\n",
    "    df_final.at[i,'bert_score_method_r']=results_m['recall'][0]\n",
    "    #if i==3:\n",
    "    #    break"
   ]
  },
  {
   "cell_type": "code",
   "execution_count": 16,
   "id": "39bc6531",
   "metadata": {
    "scrolled": true
   },
   "outputs": [
    {
     "data": {
      "text/html": [
       "<div>\n",
       "<style scoped>\n",
       "    .dataframe tbody tr th:only-of-type {\n",
       "        vertical-align: middle;\n",
       "    }\n",
       "\n",
       "    .dataframe tbody tr th {\n",
       "        vertical-align: top;\n",
       "    }\n",
       "\n",
       "    .dataframe thead th {\n",
       "        text-align: right;\n",
       "    }\n",
       "</style>\n",
       "<table border=\"1\" class=\"dataframe\">\n",
       "  <thead>\n",
       "    <tr style=\"text-align: right;\">\n",
       "      <th></th>\n",
       "      <th>gold_tasks</th>\n",
       "      <th>gold_methods</th>\n",
       "      <th>SG_element_in_task_x</th>\n",
       "      <th>ID</th>\n",
       "      <th>task</th>\n",
       "      <th>method</th>\n",
       "      <th>SG_element_in_task_y</th>\n",
       "      <th>bert_score_task</th>\n",
       "      <th>bert_score_method</th>\n",
       "      <th>bert_score_task_p</th>\n",
       "      <th>bert_score_method_p</th>\n",
       "      <th>bert_score_task_r</th>\n",
       "      <th>bert_score_method_r</th>\n",
       "    </tr>\n",
       "  </thead>\n",
       "  <tbody>\n",
       "    <tr>\n",
       "      <th>88</th>\n",
       "      <td>[Children learning]</td>\n",
       "      <td>[evolving network]</td>\n",
       "      <td>[]</td>\n",
       "      <td>fourtassi-etal-2019-development</td>\n",
       "      <td>[]</td>\n",
       "      <td>[evolving network, Development of Abstract Con...</td>\n",
       "      <td>[children]</td>\n",
       "      <td>0.0</td>\n",
       "      <td>0.875531</td>\n",
       "      <td>0.0</td>\n",
       "      <td>0.810402</td>\n",
       "      <td>0.0</td>\n",
       "      <td>0.952044</td>\n",
       "    </tr>\n",
       "  </tbody>\n",
       "</table>\n",
       "</div>"
      ],
      "text/plain": [
       "             gold_tasks        gold_methods SG_element_in_task_x  \\\n",
       "88  [Children learning]  [evolving network]                   []   \n",
       "\n",
       "                                 ID task  \\\n",
       "88  fourtassi-etal-2019-development   []   \n",
       "\n",
       "                                               method SG_element_in_task_y  \\\n",
       "88  [evolving network, Development of Abstract Con...           [children]   \n",
       "\n",
       "    bert_score_task  bert_score_method  bert_score_task_p  \\\n",
       "88              0.0           0.875531                0.0   \n",
       "\n",
       "    bert_score_method_p  bert_score_task_r  bert_score_method_r  \n",
       "88             0.810402                0.0             0.952044  "
      ]
     },
     "execution_count": 16,
     "metadata": {},
     "output_type": "execute_result"
    }
   ],
   "source": [
    "df_final.loc[df_final.bert_score_task==0]"
   ]
  },
  {
   "cell_type": "code",
   "execution_count": 15,
   "id": "ccd405ab",
   "metadata": {},
   "outputs": [
    {
     "data": {
      "text/plain": [
       "(251, 30)"
      ]
     },
     "execution_count": 15,
     "metadata": {},
     "output_type": "execute_result"
    }
   ],
   "source": [
    "df_final.shape"
   ]
  },
  {
   "cell_type": "markdown",
   "id": "d926184c",
   "metadata": {},
   "source": [
    "## new refs"
   ]
  },
  {
   "cell_type": "code",
   "execution_count": 18,
   "id": "6e418393",
   "metadata": {},
   "outputs": [
    {
     "data": {
      "text/html": [
       "<div>\n",
       "<style scoped>\n",
       "    .dataframe tbody tr th:only-of-type {\n",
       "        vertical-align: middle;\n",
       "    }\n",
       "\n",
       "    .dataframe tbody tr th {\n",
       "        vertical-align: top;\n",
       "    }\n",
       "\n",
       "    .dataframe thead th {\n",
       "        text-align: right;\n",
       "    }\n",
       "</style>\n",
       "<table border=\"1\" class=\"dataframe\">\n",
       "  <thead>\n",
       "    <tr style=\"text-align: right;\">\n",
       "      <th></th>\n",
       "      <th>bert_score_task</th>\n",
       "      <th>bert_score_task_p</th>\n",
       "      <th>bert_score_task_r</th>\n",
       "      <th>bert_score_method</th>\n",
       "      <th>bert_score_method_p</th>\n",
       "      <th>bert_score_method_r</th>\n",
       "    </tr>\n",
       "  </thead>\n",
       "  <tbody>\n",
       "    <tr>\n",
       "      <th>count</th>\n",
       "      <td>152.000000</td>\n",
       "      <td>152.000000</td>\n",
       "      <td>152.000000</td>\n",
       "      <td>152.000000</td>\n",
       "      <td>152.000000</td>\n",
       "      <td>152.000000</td>\n",
       "    </tr>\n",
       "    <tr>\n",
       "      <th>mean</th>\n",
       "      <td>0.890405</td>\n",
       "      <td>0.896579</td>\n",
       "      <td>0.886303</td>\n",
       "      <td>0.802245</td>\n",
       "      <td>0.806202</td>\n",
       "      <td>0.801983</td>\n",
       "    </tr>\n",
       "    <tr>\n",
       "      <th>std</th>\n",
       "      <td>0.129493</td>\n",
       "      <td>0.131554</td>\n",
       "      <td>0.133430</td>\n",
       "      <td>0.223214</td>\n",
       "      <td>0.227705</td>\n",
       "      <td>0.226516</td>\n",
       "    </tr>\n",
       "    <tr>\n",
       "      <th>min</th>\n",
       "      <td>0.000000</td>\n",
       "      <td>0.000000</td>\n",
       "      <td>0.000000</td>\n",
       "      <td>0.000000</td>\n",
       "      <td>0.000000</td>\n",
       "      <td>0.000000</td>\n",
       "    </tr>\n",
       "    <tr>\n",
       "      <th>25%</th>\n",
       "      <td>0.825412</td>\n",
       "      <td>0.809441</td>\n",
       "      <td>0.783402</td>\n",
       "      <td>0.744088</td>\n",
       "      <td>0.742687</td>\n",
       "      <td>0.736995</td>\n",
       "    </tr>\n",
       "    <tr>\n",
       "      <th>50%</th>\n",
       "      <td>0.921974</td>\n",
       "      <td>0.952620</td>\n",
       "      <td>0.917888</td>\n",
       "      <td>0.857207</td>\n",
       "      <td>0.858251</td>\n",
       "      <td>0.841843</td>\n",
       "    </tr>\n",
       "    <tr>\n",
       "      <th>75%</th>\n",
       "      <td>1.000000</td>\n",
       "      <td>1.000000</td>\n",
       "      <td>1.000000</td>\n",
       "      <td>0.924639</td>\n",
       "      <td>0.944592</td>\n",
       "      <td>0.949733</td>\n",
       "    </tr>\n",
       "    <tr>\n",
       "      <th>max</th>\n",
       "      <td>1.000001</td>\n",
       "      <td>1.000001</td>\n",
       "      <td>1.000001</td>\n",
       "      <td>1.000000</td>\n",
       "      <td>1.000000</td>\n",
       "      <td>1.000000</td>\n",
       "    </tr>\n",
       "  </tbody>\n",
       "</table>\n",
       "</div>"
      ],
      "text/plain": [
       "       bert_score_task  bert_score_task_p  bert_score_task_r  \\\n",
       "count       152.000000         152.000000         152.000000   \n",
       "mean          0.890405           0.896579           0.886303   \n",
       "std           0.129493           0.131554           0.133430   \n",
       "min           0.000000           0.000000           0.000000   \n",
       "25%           0.825412           0.809441           0.783402   \n",
       "50%           0.921974           0.952620           0.917888   \n",
       "75%           1.000000           1.000000           1.000000   \n",
       "max           1.000001           1.000001           1.000001   \n",
       "\n",
       "       bert_score_method  bert_score_method_p  bert_score_method_r  \n",
       "count         152.000000           152.000000           152.000000  \n",
       "mean            0.802245             0.806202             0.801983  \n",
       "std             0.223214             0.227705             0.226516  \n",
       "min             0.000000             0.000000             0.000000  \n",
       "25%             0.744088             0.742687             0.736995  \n",
       "50%             0.857207             0.858251             0.841843  \n",
       "75%             0.924639             0.944592             0.949733  \n",
       "max             1.000000             1.000000             1.000000  "
      ]
     },
     "execution_count": 18,
     "metadata": {},
     "output_type": "execute_result"
    }
   ],
   "source": [
    "## annotation usr1\n",
    "df_final.loc[:,['bert_score_task','bert_score_task_p','bert_score_task_r','bert_score_method','bert_score_method_p','bert_score_method_r']].describe()"
   ]
  },
  {
   "cell_type": "code",
   "execution_count": 16,
   "id": "2001e7ea",
   "metadata": {},
   "outputs": [
    {
     "data": {
      "text/html": [
       "<div>\n",
       "<style scoped>\n",
       "    .dataframe tbody tr th:only-of-type {\n",
       "        vertical-align: middle;\n",
       "    }\n",
       "\n",
       "    .dataframe tbody tr th {\n",
       "        vertical-align: top;\n",
       "    }\n",
       "\n",
       "    .dataframe thead th {\n",
       "        text-align: right;\n",
       "    }\n",
       "</style>\n",
       "<table border=\"1\" class=\"dataframe\">\n",
       "  <thead>\n",
       "    <tr style=\"text-align: right;\">\n",
       "      <th></th>\n",
       "      <th>bert_score_task</th>\n",
       "      <th>bert_score_task_p</th>\n",
       "      <th>bert_score_task_r</th>\n",
       "      <th>bert_score_method</th>\n",
       "      <th>bert_score_method_p</th>\n",
       "      <th>bert_score_method_r</th>\n",
       "    </tr>\n",
       "  </thead>\n",
       "  <tbody>\n",
       "    <tr>\n",
       "      <th>count</th>\n",
       "      <td>251.000000</td>\n",
       "      <td>251.000000</td>\n",
       "      <td>251.000000</td>\n",
       "      <td>251.000000</td>\n",
       "      <td>251.000000</td>\n",
       "      <td>251.000000</td>\n",
       "    </tr>\n",
       "    <tr>\n",
       "      <th>mean</th>\n",
       "      <td>0.842975</td>\n",
       "      <td>0.827211</td>\n",
       "      <td>0.863736</td>\n",
       "      <td>0.721368</td>\n",
       "      <td>0.701354</td>\n",
       "      <td>0.745974</td>\n",
       "    </tr>\n",
       "    <tr>\n",
       "      <th>std</th>\n",
       "      <td>0.153525</td>\n",
       "      <td>0.156513</td>\n",
       "      <td>0.161682</td>\n",
       "      <td>0.291257</td>\n",
       "      <td>0.285026</td>\n",
       "      <td>0.303785</td>\n",
       "    </tr>\n",
       "    <tr>\n",
       "      <th>min</th>\n",
       "      <td>0.000000</td>\n",
       "      <td>0.000000</td>\n",
       "      <td>0.000000</td>\n",
       "      <td>0.000000</td>\n",
       "      <td>0.000000</td>\n",
       "      <td>0.000000</td>\n",
       "    </tr>\n",
       "    <tr>\n",
       "      <th>25%</th>\n",
       "      <td>0.789932</td>\n",
       "      <td>0.764507</td>\n",
       "      <td>0.790671</td>\n",
       "      <td>0.710778</td>\n",
       "      <td>0.694803</td>\n",
       "      <td>0.720945</td>\n",
       "    </tr>\n",
       "    <tr>\n",
       "      <th>50%</th>\n",
       "      <td>0.867321</td>\n",
       "      <td>0.847449</td>\n",
       "      <td>0.913841</td>\n",
       "      <td>0.822668</td>\n",
       "      <td>0.776624</td>\n",
       "      <td>0.851315</td>\n",
       "    </tr>\n",
       "    <tr>\n",
       "      <th>75%</th>\n",
       "      <td>0.923692</td>\n",
       "      <td>0.928469</td>\n",
       "      <td>0.963121</td>\n",
       "      <td>0.889768</td>\n",
       "      <td>0.868507</td>\n",
       "      <td>0.943844</td>\n",
       "    </tr>\n",
       "    <tr>\n",
       "      <th>max</th>\n",
       "      <td>1.000000</td>\n",
       "      <td>1.000000</td>\n",
       "      <td>1.000000</td>\n",
       "      <td>1.000000</td>\n",
       "      <td>1.000000</td>\n",
       "      <td>1.000000</td>\n",
       "    </tr>\n",
       "  </tbody>\n",
       "</table>\n",
       "</div>"
      ],
      "text/plain": [
       "       bert_score_task  bert_score_task_p  bert_score_task_r  \\\n",
       "count       251.000000         251.000000         251.000000   \n",
       "mean          0.842975           0.827211           0.863736   \n",
       "std           0.153525           0.156513           0.161682   \n",
       "min           0.000000           0.000000           0.000000   \n",
       "25%           0.789932           0.764507           0.790671   \n",
       "50%           0.867321           0.847449           0.913841   \n",
       "75%           0.923692           0.928469           0.963121   \n",
       "max           1.000000           1.000000           1.000000   \n",
       "\n",
       "       bert_score_method  bert_score_method_p  bert_score_method_r  \n",
       "count         251.000000           251.000000           251.000000  \n",
       "mean            0.721368             0.701354             0.745974  \n",
       "std             0.291257             0.285026             0.303785  \n",
       "min             0.000000             0.000000             0.000000  \n",
       "25%             0.710778             0.694803             0.720945  \n",
       "50%             0.822668             0.776624             0.851315  \n",
       "75%             0.889768             0.868507             0.943844  \n",
       "max             1.000000             1.000000             1.000000  "
      ]
     },
     "execution_count": 16,
     "metadata": {},
     "output_type": "execute_result"
    }
   ],
   "source": [
    "## scirex\n",
    "df_final.loc[:,['bert_score_task','bert_score_task_p','bert_score_task_r','bert_score_method','bert_score_method_p','bert_score_method_r']].describe()"
   ]
  },
  {
   "cell_type": "code",
   "execution_count": 17,
   "id": "fc64f78d",
   "metadata": {
    "scrolled": true
   },
   "outputs": [
    {
     "data": {
      "text/html": [
       "<div>\n",
       "<style scoped>\n",
       "    .dataframe tbody tr th:only-of-type {\n",
       "        vertical-align: middle;\n",
       "    }\n",
       "\n",
       "    .dataframe tbody tr th {\n",
       "        vertical-align: top;\n",
       "    }\n",
       "\n",
       "    .dataframe thead th {\n",
       "        text-align: right;\n",
       "    }\n",
       "</style>\n",
       "<table border=\"1\" class=\"dataframe\">\n",
       "  <thead>\n",
       "    <tr style=\"text-align: right;\">\n",
       "      <th></th>\n",
       "      <th>bert_score_task</th>\n",
       "      <th>bert_score_task_p</th>\n",
       "      <th>bert_score_task_r</th>\n",
       "      <th>bert_score_method</th>\n",
       "      <th>bert_score_method_p</th>\n",
       "      <th>bert_score_method_r</th>\n",
       "    </tr>\n",
       "  </thead>\n",
       "  <tbody>\n",
       "    <tr>\n",
       "      <th>count</th>\n",
       "      <td>251.000000</td>\n",
       "      <td>251.000000</td>\n",
       "      <td>251.000000</td>\n",
       "      <td>251.000000</td>\n",
       "      <td>251.000000</td>\n",
       "      <td>251.000000</td>\n",
       "    </tr>\n",
       "    <tr>\n",
       "      <th>mean</th>\n",
       "      <td>0.713004</td>\n",
       "      <td>0.691482</td>\n",
       "      <td>0.738975</td>\n",
       "      <td>0.696489</td>\n",
       "      <td>0.678343</td>\n",
       "      <td>0.718126</td>\n",
       "    </tr>\n",
       "    <tr>\n",
       "      <th>std</th>\n",
       "      <td>0.315488</td>\n",
       "      <td>0.307279</td>\n",
       "      <td>0.329338</td>\n",
       "      <td>0.315228</td>\n",
       "      <td>0.308248</td>\n",
       "      <td>0.326882</td>\n",
       "    </tr>\n",
       "    <tr>\n",
       "      <th>min</th>\n",
       "      <td>0.000000</td>\n",
       "      <td>0.000000</td>\n",
       "      <td>0.000000</td>\n",
       "      <td>0.000000</td>\n",
       "      <td>0.000000</td>\n",
       "      <td>0.000000</td>\n",
       "    </tr>\n",
       "    <tr>\n",
       "      <th>25%</th>\n",
       "      <td>0.725996</td>\n",
       "      <td>0.725626</td>\n",
       "      <td>0.727899</td>\n",
       "      <td>0.697551</td>\n",
       "      <td>0.682926</td>\n",
       "      <td>0.709037</td>\n",
       "    </tr>\n",
       "    <tr>\n",
       "      <th>50%</th>\n",
       "      <td>0.837223</td>\n",
       "      <td>0.794036</td>\n",
       "      <td>0.880588</td>\n",
       "      <td>0.813885</td>\n",
       "      <td>0.778242</td>\n",
       "      <td>0.841944</td>\n",
       "    </tr>\n",
       "    <tr>\n",
       "      <th>75%</th>\n",
       "      <td>0.892512</td>\n",
       "      <td>0.858946</td>\n",
       "      <td>0.943206</td>\n",
       "      <td>0.887202</td>\n",
       "      <td>0.859567</td>\n",
       "      <td>0.936493</td>\n",
       "    </tr>\n",
       "    <tr>\n",
       "      <th>max</th>\n",
       "      <td>1.000000</td>\n",
       "      <td>1.000000</td>\n",
       "      <td>1.000000</td>\n",
       "      <td>1.000000</td>\n",
       "      <td>1.000000</td>\n",
       "      <td>1.000000</td>\n",
       "    </tr>\n",
       "  </tbody>\n",
       "</table>\n",
       "</div>"
      ],
      "text/plain": [
       "       bert_score_task  bert_score_task_p  bert_score_task_r  \\\n",
       "count       251.000000         251.000000         251.000000   \n",
       "mean          0.713004           0.691482           0.738975   \n",
       "std           0.315488           0.307279           0.329338   \n",
       "min           0.000000           0.000000           0.000000   \n",
       "25%           0.725996           0.725626           0.727899   \n",
       "50%           0.837223           0.794036           0.880588   \n",
       "75%           0.892512           0.858946           0.943206   \n",
       "max           1.000000           1.000000           1.000000   \n",
       "\n",
       "       bert_score_method  bert_score_method_p  bert_score_method_r  \n",
       "count         251.000000           251.000000           251.000000  \n",
       "mean            0.696489             0.678343             0.718126  \n",
       "std             0.315228             0.308248             0.326882  \n",
       "min             0.000000             0.000000             0.000000  \n",
       "25%             0.697551             0.682926             0.709037  \n",
       "50%             0.813885             0.778242             0.841944  \n",
       "75%             0.887202             0.859567             0.936493  \n",
       "max             1.000000             1.000000             1.000000  "
      ]
     },
     "execution_count": 17,
     "metadata": {},
     "output_type": "execute_result"
    }
   ],
   "source": [
    "## pure\n",
    "df_final.loc[:,['bert_score_task','bert_score_task_p','bert_score_task_r','bert_score_method','bert_score_method_p','bert_score_method_r']].describe()"
   ]
  },
  {
   "cell_type": "markdown",
   "id": "832537b4",
   "metadata": {},
   "source": [
    "## annotation usr1"
   ]
  },
  {
   "cell_type": "code",
   "execution_count": 19,
   "id": "7d5f46fe",
   "metadata": {
    "scrolled": true
   },
   "outputs": [
    {
     "data": {
      "text/plain": [
       "{'exact_match': 36.8421052631579, 'f1': 61.20790877079577}"
      ]
     },
     "execution_count": 19,
     "metadata": {},
     "output_type": "execute_result"
    }
   ],
   "source": [
    "results_t = squad_metric.compute(predictions=sq_tasks_pred, references=sq_tasks_ref)\n",
    "results_t"
   ]
  },
  {
   "cell_type": "code",
   "execution_count": 20,
   "id": "8514595e",
   "metadata": {},
   "outputs": [
    {
     "data": {
      "text/plain": [
       "{'exact_match': 11.18421052631579, 'f1': 40.2723665223665}"
      ]
     },
     "execution_count": 20,
     "metadata": {},
     "output_type": "execute_result"
    }
   ],
   "source": [
    "results_m = squad_metric.compute(predictions=sq_methods_pred, references=sq_methods_ref)\n",
    "results_m"
   ]
  },
  {
   "cell_type": "markdown",
   "id": "bccc0905",
   "metadata": {},
   "source": [
    "## scirex multiple"
   ]
  },
  {
   "cell_type": "code",
   "execution_count": 17,
   "id": "f8ca2281",
   "metadata": {
    "scrolled": true
   },
   "outputs": [
    {
     "data": {
      "text/plain": [
       "{'exact_match': 14.741035856573705, 'f1': 49.026917083793975}"
      ]
     },
     "execution_count": 17,
     "metadata": {},
     "output_type": "execute_result"
    }
   ],
   "source": [
    "results_t = squad_metric.compute(predictions=sq_tasks_pred, references=sq_tasks_ref)\n",
    "results_t"
   ]
  },
  {
   "cell_type": "code",
   "execution_count": 18,
   "id": "1c19c92c",
   "metadata": {},
   "outputs": [
    {
     "data": {
      "text/plain": [
       "{'exact_match': 6.374501992031872, 'f1': 33.696798120495096}"
      ]
     },
     "execution_count": 18,
     "metadata": {},
     "output_type": "execute_result"
    }
   ],
   "source": [
    "results_m = squad_metric.compute(predictions=sq_methods_pred, references=sq_methods_ref)\n",
    "results_m"
   ]
  },
  {
   "cell_type": "markdown",
   "id": "b46f8279",
   "metadata": {},
   "source": [
    "## pure multiple"
   ]
  },
  {
   "cell_type": "code",
   "execution_count": 18,
   "id": "62476976",
   "metadata": {
    "scrolled": true
   },
   "outputs": [
    {
     "data": {
      "text/plain": [
       "{'exact_match': 5.577689243027889, 'f1': 34.674688889129555}"
      ]
     },
     "execution_count": 18,
     "metadata": {},
     "output_type": "execute_result"
    }
   ],
   "source": [
    "results_t = squad_metric.compute(predictions=sq_tasks_pred, references=sq_tasks_ref)\n",
    "results_t"
   ]
  },
  {
   "cell_type": "code",
   "execution_count": 19,
   "id": "06dc4852",
   "metadata": {},
   "outputs": [
    {
     "data": {
      "text/plain": [
       "{'exact_match': 5.9760956175298805, 'f1': 30.42647254757877}"
      ]
     },
     "execution_count": 19,
     "metadata": {},
     "output_type": "execute_result"
    }
   ],
   "source": [
    "results_m = squad_metric.compute(predictions=sq_methods_pred, references=sq_methods_ref)\n",
    "results_m"
   ]
  },
  {
   "cell_type": "code",
   "execution_count": null,
   "id": "ada0dc3e",
   "metadata": {},
   "outputs": [],
   "source": []
  }
 ],
 "metadata": {
  "kernelspec": {
   "display_name": "Python 3 (ipykernel)",
   "language": "python",
   "name": "python3"
  },
  "language_info": {
   "codemirror_mode": {
    "name": "ipython",
    "version": 3
   },
   "file_extension": ".py",
   "mimetype": "text/x-python",
   "name": "python",
   "nbconvert_exporter": "python",
   "pygments_lexer": "ipython3",
   "version": "3.9.12"
  }
 },
 "nbformat": 4,
 "nbformat_minor": 5
}
